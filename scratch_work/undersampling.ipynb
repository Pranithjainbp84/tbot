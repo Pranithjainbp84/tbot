{
 "cells": [
  {
   "cell_type": "markdown",
   "metadata": {},
   "source": [
    "# Twitter Bot or Not -- Undersampling"
   ]
  },
  {
   "cell_type": "code",
   "execution_count": 2,
   "metadata": {
    "ExecuteTime": {
     "end_time": "2020-10-21T18:29:38.440372Z",
     "start_time": "2020-10-21T18:29:36.624573Z"
    }
   },
   "outputs": [],
   "source": [
    "# Basics\n",
    "import pandas as pd\n",
    "import numpy as np\n",
    "from collections import Counter\n",
    "\n",
    "# Visuals\n",
    "import matplotlib.pyplot as plt\n",
    "%matplotlib inline\n",
    "import seaborn as sns\n",
    "from visualize import *\n",
    "\n",
    "# Models\n",
    "from sklearn.ensemble import RandomForestClassifier\n",
    "from xgboost import XGBClassifier\n",
    "\n",
    "# Model support\n",
    "from sklearn.model_selection import (train_test_split, cross_val_score, learning_curve, \n",
    "                                    KFold, GridSearchCV)\n",
    "from sklearn.metrics import mean_squared_error, r2_score\n",
    "from sklearn.preprocessing import StandardScaler\n",
    "from sklearn.metrics import (accuracy_score, classification_report, confusion_matrix, f1_score, make_scorer,\n",
    "                             plot_confusion_matrix, precision_score, recall_score, roc_auc_score, roc_curve)\n",
    "from imblearn.under_sampling import RandomUnderSampler\n",
    "from imblearn.under_sampling import ClusterCentroids"
   ]
  },
  {
   "cell_type": "markdown",
   "metadata": {},
   "source": [
    "## Data import and setup"
   ]
  },
  {
   "cell_type": "code",
   "execution_count": 3,
   "metadata": {
    "ExecuteTime": {
     "end_time": "2020-10-21T18:29:39.527364Z",
     "start_time": "2020-10-21T18:29:39.173212Z"
    }
   },
   "outputs": [],
   "source": [
    "raw_df = pd.read_csv('data_files/twitter_human_bots_dataset.csv.zip', index_col=False)\n",
    "\n",
    "# drop funny index column\n",
    "raw_df.drop(columns=['Unnamed: 0'], inplace=True)\n",
    "\n",
    "# Binary classifications for bots and boolean values\n",
    "raw_df['bot'] = raw_df['account_type'].apply(lambda x: 1 if x == 'bot' else 0)\n",
    "raw_df['default_profile'] = raw_df['default_profile'].astype(int)\n",
    "raw_df['default_profile'] = raw_df['default_profile'].astype(int)\n",
    "raw_df['default_profile_image'] = raw_df['default_profile_image'].astype(int)\n",
    "raw_df['geo_enabled'] = raw_df['geo_enabled'].astype(int)\n",
    "raw_df['verified'] = raw_df['verified'].astype(int)\n",
    "\n",
    "# datetime conversion\n",
    "raw_df['created_at'] = pd.to_datetime(raw_df['created_at'])\n",
    "# hour created\n",
    "raw_df['hour_created'] = pd.to_datetime(raw_df['created_at']).dt.hour"
   ]
  },
  {
   "cell_type": "code",
   "execution_count": 4,
   "metadata": {
    "ExecuteTime": {
     "end_time": "2020-10-21T18:29:40.583978Z",
     "start_time": "2020-10-21T18:29:40.573828Z"
    }
   },
   "outputs": [],
   "source": [
    "# usable df setup\n",
    "df = raw_df[['bot', 'screen_name', 'created_at', 'hour_created', 'verified', 'location', 'geo_enabled', 'lang', 'default_profile', \n",
    "              'default_profile_image', 'favourites_count', 'followers_count', 'friends_count', 'statuses_count',\n",
    "             'average_tweets_per_day', 'account_age_days']]"
   ]
  },
  {
   "cell_type": "code",
   "execution_count": 5,
   "metadata": {
    "ExecuteTime": {
     "end_time": "2020-10-21T18:29:41.539711Z",
     "start_time": "2020-10-21T18:29:41.517200Z"
    }
   },
   "outputs": [
    {
     "name": "stderr",
     "output_type": "stream",
     "text": [
      "<ipython-input-5-f05b6e00d5a8>:2: SettingWithCopyWarning: \n",
      "A value is trying to be set on a copy of a slice from a DataFrame.\n",
      "Try using .loc[row_indexer,col_indexer] = value instead\n",
      "\n",
      "See the caveats in the documentation: https://pandas.pydata.org/pandas-docs/stable/user_guide/indexing.html#returning-a-view-versus-a-copy\n",
      "  df['avg_daily_followers'] = np.round(df['followers_count'] / df['account_age_days'])\n",
      "<ipython-input-5-f05b6e00d5a8>:3: SettingWithCopyWarning: \n",
      "A value is trying to be set on a copy of a slice from a DataFrame.\n",
      "Try using .loc[row_indexer,col_indexer] = value instead\n",
      "\n",
      "See the caveats in the documentation: https://pandas.pydata.org/pandas-docs/stable/user_guide/indexing.html#returning-a-view-versus-a-copy\n",
      "  df['avg_daily_friends'] = np.round(df['followers_count'] / df['account_age_days'])\n",
      "<ipython-input-5-f05b6e00d5a8>:4: SettingWithCopyWarning: \n",
      "A value is trying to be set on a copy of a slice from a DataFrame.\n",
      "Try using .loc[row_indexer,col_indexer] = value instead\n",
      "\n",
      "See the caveats in the documentation: https://pandas.pydata.org/pandas-docs/stable/user_guide/indexing.html#returning-a-view-versus-a-copy\n",
      "  df['avg_daily_favorites'] = np.round(df['followers_count'] / df['account_age_days'])\n",
      "<ipython-input-5-f05b6e00d5a8>:7: SettingWithCopyWarning: \n",
      "A value is trying to be set on a copy of a slice from a DataFrame.\n",
      "Try using .loc[row_indexer,col_indexer] = value instead\n",
      "\n",
      "See the caveats in the documentation: https://pandas.pydata.org/pandas-docs/stable/user_guide/indexing.html#returning-a-view-versus-a-copy\n",
      "  df['friends_log'] = np.round(np.log(1 + df['friends_count']), 3)\n"
     ]
    }
   ],
   "source": [
    "# Interesting features to look at: \n",
    "df['avg_daily_followers'] = np.round(df['followers_count'] / df['account_age_days'])\n",
    "df['avg_daily_friends'] = np.round(df['followers_count'] / df['account_age_days'])\n",
    "df['avg_daily_favorites'] = np.round(df['followers_count'] / df['account_age_days'])\n",
    "\n",
    "# Log transformations for highly skewed data\n",
    "df['friends_log'] = np.round(np.log(1 + df['friends_count']), 3)\n",
    "df['followers_log'] = np.round(np.log(1 + df['followers_count']), 3)\n",
    "df['favs_log'] = np.round(np.log(1 + df['favourites_count']), 3)\n",
    "df['avg_daily_tweets_log'] = np.round(np.log(1+ df['average_tweets_per_day']), 3)\n",
    "\n",
    "# Possible popularity metrics\n",
    "df['popularity'] = np.round(df['friends_log'] * df['followers_log'], 3)\n",
    "df['tweet_to_followers'] = np.round(np.log( 1+ df['statuses_count']) * np.log(1+ df['followers_count']), 3)\n",
    "\n",
    "# Log-transformed daily acquisition metrics for dist. plots\n",
    "df['follower_acq_rate'] = np.round(np.log(1 + (df['followers_count'] / df['account_age_days'])), 3)\n",
    "df['friends_acq_rate'] = np.round(np.log(1 + (df['friends_count'] / df['account_age_days'])), 3)\n",
    "df['favs_rate'] = np.round(np.log(1 + (df['friends_count'] / df['account_age_days'])), 3)"
   ]
  },
  {
   "cell_type": "code",
   "execution_count": 6,
   "metadata": {
    "ExecuteTime": {
     "end_time": "2020-10-21T18:29:44.139673Z",
     "start_time": "2020-10-21T18:29:44.133986Z"
    }
   },
   "outputs": [],
   "source": [
    "del raw_df"
   ]
  },
  {
   "cell_type": "code",
   "execution_count": null,
   "metadata": {},
   "outputs": [],
   "source": []
  },
  {
   "cell_type": "code",
   "execution_count": 7,
   "metadata": {
    "ExecuteTime": {
     "end_time": "2020-10-21T18:29:46.540254Z",
     "start_time": "2020-10-21T18:29:46.514209Z"
    }
   },
   "outputs": [
    {
     "name": "stdout",
     "output_type": "stream",
     "text": [
      "Number of bots:  12425\n",
      "Number of humans:  25013\n",
      "Bots / Total %:  33.18820449810353\n"
     ]
    }
   ],
   "source": [
    "num_bots = len(df[df['bot'] == 1])\n",
    "num_humans = len(df[df['bot'] == 0])\n",
    "\n",
    "print(\"Number of bots: \", num_bots)\n",
    "print(\"Number of humans: \", num_humans)\n",
    "print(\"Bots / Total %: \", (num_bots / len(df)) * 100)"
   ]
  },
  {
   "cell_type": "code",
   "execution_count": 7,
   "metadata": {
    "ExecuteTime": {
     "end_time": "2020-10-21T18:05:30.437966Z",
     "start_time": "2020-10-21T18:05:30.433231Z"
    }
   },
   "outputs": [],
   "source": [
    "features = ['verified', \n",
    "            #'created_at',\n",
    "            #'hour_created',\n",
    "            'geo_enabled', \n",
    "            'default_profile', \n",
    "            'default_profile_image', \n",
    "            'favourites_count', \n",
    "            'followers_count', \n",
    "            'friends_count', \n",
    "            'statuses_count', \n",
    "            'average_tweets_per_day',\n",
    "            #'avg_daily_followers', \n",
    "            #'avg_daily_friends',\n",
    "            #'avg_daily_favorites',\n",
    "            'popularity', \n",
    "            'tweet_to_followers', \n",
    "            'follower_acq_rate', \n",
    "            'friends_acq_rate', \n",
    "            'favs_rate'\n",
    "           ]\n",
    "\n",
    "X = df[features]\n",
    "y = df['bot']"
   ]
  },
  {
   "cell_type": "code",
   "execution_count": 8,
   "metadata": {
    "ExecuteTime": {
     "end_time": "2020-10-21T18:05:30.445344Z",
     "start_time": "2020-10-21T18:05:30.439819Z"
    }
   },
   "outputs": [
    {
     "name": "stdout",
     "output_type": "stream",
     "text": [
      "25013 12425\n",
      "2.013118712273642\n"
     ]
    }
   ],
   "source": [
    "humans = y.value_counts()[0]\n",
    "bots = y.value_counts()[1]\n",
    "\n",
    "print(humans, bots)\n",
    "\n",
    "estimate = humans/bots\n",
    "\n",
    "print(estimate)"
   ]
  },
  {
   "cell_type": "code",
   "execution_count": 9,
   "metadata": {
    "ExecuteTime": {
     "end_time": "2020-10-21T18:05:30.455899Z",
     "start_time": "2020-10-21T18:05:30.447040Z"
    }
   },
   "outputs": [],
   "source": [
    "X, X_test, y, y_test = train_test_split(X, y, test_size=.3, random_state=34)"
   ]
  },
  {
   "cell_type": "code",
   "execution_count": null,
   "metadata": {},
   "outputs": [],
   "source": []
  },
  {
   "cell_type": "markdown",
   "metadata": {},
   "source": [
    "## No undersampling"
   ]
  },
  {
   "cell_type": "code",
   "execution_count": null,
   "metadata": {},
   "outputs": [],
   "source": []
  },
  {
   "cell_type": "code",
   "execution_count": null,
   "metadata": {},
   "outputs": [],
   "source": []
  },
  {
   "cell_type": "code",
   "execution_count": 10,
   "metadata": {
    "ExecuteTime": {
     "end_time": "2020-10-21T18:05:53.941845Z",
     "start_time": "2020-10-21T18:05:30.457771Z"
    }
   },
   "outputs": [
    {
     "name": "stdout",
     "output_type": "stream",
     "text": [
      "RandomForest\n",
      "------------\n",
      "Accuracy:  0.87449 +- 0.003794\n",
      "Precision: 0.85271 +- 0.007459\n",
      "Recall:    0.75243 +- 0.015016\n",
      "F1 Score:  0.79931 +- 0.007551\n",
      "ROC AUC:   0.92651 +- 0.004169\n",
      "\n",
      "XGBoost\n",
      "-------\n",
      "Accuracy:  0.87511 +- 0.003728\n",
      "Precision: 0.84753 +- 0.007629\n",
      "Recall:    0.76128 +- 0.014165\n",
      "F1 Score:  0.80198 +- 0.006883\n",
      "ROC AUC:   0.92825 +- 0.004622\n"
     ]
    }
   ],
   "source": [
    "kf = KFold(n_splits=5, shuffle=True, random_state=33)\n",
    "\n",
    "forest_acc, forest_prec, forest_rec, forest_f1, forest_roc_auc = [], [], [], [], []\n",
    "xgb_acc, xgb_prec, xgb_rec, xgb_f1, xgb_roc_auc = [], [], [], [], []\n",
    "\n",
    "X_kf, y_kf = np.array(X), np.array(y)\n",
    "\n",
    "for train_ind, val_ind in kf.split(X, y):\n",
    "\n",
    "    X_train, y_train = X_kf[train_ind], y_kf[train_ind]\n",
    "    X_val, y_val = X_kf[val_ind], y_kf[val_ind]\n",
    "    \n",
    "    # Random Forest\n",
    "    forest = RandomForestClassifier()\n",
    "    forest.fit(X_train, y_train)\n",
    "    forest_pred = forest.predict(X_val)\n",
    "\n",
    "    forest_acc.append(accuracy_score(y_val, forest_pred))\n",
    "    forest_prec.append(precision_score(y_val, forest_pred))\n",
    "    forest_rec.append(recall_score(y_val, forest_pred))\n",
    "    forest_f1.append(f1_score(y_val, forest_pred))\n",
    "    forest_roc_auc.append(roc_auc_score(y_val, forest.predict_proba(X_val)[:,1]))\n",
    "\n",
    "    # XGBoost\n",
    "    xgb = XGBClassifier()\n",
    "    xgb.fit(X_train, y_train)\n",
    "    xgb_pred = xgb.predict(X_val)\n",
    "\n",
    "    xgb_acc.append(accuracy_score(y_val, xgb_pred))\n",
    "    xgb_prec.append(precision_score(y_val, xgb_pred))\n",
    "    xgb_rec.append(recall_score(y_val, xgb_pred))\n",
    "    xgb_f1.append(f1_score(y_val, xgb_pred))\n",
    "    xgb_roc_auc.append(roc_auc_score(y_val, xgb.predict_proba(X_val)[:,1]))\n",
    "\n",
    "\n",
    "print(\"RandomForest\")\n",
    "print(\"------------\")\n",
    "print(f'Accuracy:  {np.mean(forest_acc):.5f} +- {np.std(forest_acc):5f}')\n",
    "print(f'Precision: {np.mean(forest_prec):.5f} +- {np.std(forest_prec):5f}')\n",
    "print(f'Recall:    {np.mean(forest_rec):.5f} +- {np.std(forest_rec):5f}')\n",
    "print(f'F1 Score:  {np.mean(forest_f1):.5f} +- {np.std(forest_f1):5f}')\n",
    "print(f'ROC AUC:   {np.mean(forest_roc_auc):.5f} +- {np.std(forest_roc_auc):5f}')\n",
    "print(\"\")\n",
    "print(\"XGBoost\")\n",
    "print(\"-------\")\n",
    "print(f'Accuracy:  {np.mean(xgb_acc):.5f} +- {np.std(xgb_acc):5f}')\n",
    "print(f'Precision: {np.mean(xgb_prec):.5f} +- {np.std(xgb_prec):5f}')\n",
    "print(f'Recall:    {np.mean(xgb_rec):.5f} +- {np.std(xgb_rec):5f}')\n",
    "print(f'F1 Score:  {np.mean(xgb_f1):.5f} +- {np.std(xgb_f1):5f}')\n",
    "print(f'ROC AUC:   {np.mean(xgb_roc_auc):.5f} +- {np.std(xgb_roc_auc):5f}')"
   ]
  },
  {
   "cell_type": "markdown",
   "metadata": {},
   "source": [
    "## Using `class_weight=balanced`"
   ]
  },
  {
   "cell_type": "code",
   "execution_count": 11,
   "metadata": {
    "ExecuteTime": {
     "end_time": "2020-10-21T18:06:14.761083Z",
     "start_time": "2020-10-21T18:05:53.943924Z"
    }
   },
   "outputs": [
    {
     "name": "stdout",
     "output_type": "stream",
     "text": [
      "RandomForest\n",
      "------------\n",
      "Accuracy:  0.87304 +- 0.002982\n",
      "Precision: 0.85844 +- 0.008770\n",
      "Recall:    0.74027 +- 0.015246\n",
      "F1 Score:  0.79482 +- 0.006422\n",
      "ROC AUC:   0.92723 +- 0.004145\n",
      "\n",
      "XGBoost\n",
      "-------\n",
      "Accuracy:  0.86793 +- 0.002505\n",
      "Precision: 0.79516 +- 0.006969\n",
      "Recall:    0.81196 +- 0.010780\n",
      "F1 Score:  0.80338 +- 0.002875\n",
      "ROC AUC:   0.92812 +- 0.004449\n"
     ]
    }
   ],
   "source": [
    "kf = KFold(n_splits=5, shuffle=True, random_state=33)\n",
    "\n",
    "forest_acc, forest_prec, forest_rec, forest_f1, forest_roc_auc = [], [], [], [], []\n",
    "xgb_acc, xgb_prec, xgb_rec, xgb_f1, xgb_roc_auc = [], [], [], [], []\n",
    "\n",
    "X_kf, y_kf = np.array(X), np.array(y)\n",
    "\n",
    "for train_ind, val_ind in kf.split(X, y):\n",
    "\n",
    "    X_train, y_train = X_kf[train_ind], y_kf[train_ind]\n",
    "    X_val, y_val = X_kf[val_ind], y_kf[val_ind]\n",
    "    \n",
    "    # Random Forest\n",
    "    forest = RandomForestClassifier(class_weight='balanced')\n",
    "    forest.fit(X_train, y_train)\n",
    "    forest_pred = forest.predict(X_val)\n",
    "\n",
    "    forest_acc.append(accuracy_score(y_val, forest_pred))\n",
    "    forest_prec.append(precision_score(y_val, forest_pred))\n",
    "    forest_rec.append(recall_score(y_val, forest_pred))\n",
    "    forest_f1.append(f1_score(y_val, forest_pred))\n",
    "    forest_roc_auc.append(roc_auc_score(y_val, forest.predict_proba(X_val)[:,1]))\n",
    "\n",
    "    # XGBoost\n",
    "    xgb = XGBClassifier(scale_pos_weight=estimate)\n",
    "    xgb.fit(X_train, y_train)\n",
    "    xgb_pred = xgb.predict(X_val)\n",
    "\n",
    "    xgb_acc.append(accuracy_score(y_val, xgb_pred))\n",
    "    xgb_prec.append(precision_score(y_val, xgb_pred))\n",
    "    xgb_rec.append(recall_score(y_val, xgb_pred))\n",
    "    xgb_f1.append(f1_score(y_val, xgb_pred))\n",
    "    xgb_roc_auc.append(roc_auc_score(y_val, xgb.predict_proba(X_val)[:,1]))\n",
    "\n",
    "\n",
    "print(\"RandomForest\")\n",
    "print(\"------------\")\n",
    "print(f'Accuracy:  {np.mean(forest_acc):.5f} +- {np.std(forest_acc):5f}')\n",
    "print(f'Precision: {np.mean(forest_prec):.5f} +- {np.std(forest_prec):5f}')\n",
    "print(f'Recall:    {np.mean(forest_rec):.5f} +- {np.std(forest_rec):5f}')\n",
    "print(f'F1 Score:  {np.mean(forest_f1):.5f} +- {np.std(forest_f1):5f}')\n",
    "print(f'ROC AUC:   {np.mean(forest_roc_auc):.5f} +- {np.std(forest_roc_auc):5f}')\n",
    "print(\"\")\n",
    "print(\"XGBoost\")\n",
    "print(\"-------\")\n",
    "print(f'Accuracy:  {np.mean(xgb_acc):.5f} +- {np.std(xgb_acc):5f}')\n",
    "print(f'Precision: {np.mean(xgb_prec):.5f} +- {np.std(xgb_prec):5f}')\n",
    "print(f'Recall:    {np.mean(xgb_rec):.5f} +- {np.std(xgb_rec):5f}')\n",
    "print(f'F1 Score:  {np.mean(xgb_f1):.5f} +- {np.std(xgb_f1):5f}')\n",
    "print(f'ROC AUC:   {np.mean(xgb_roc_auc):.5f} +- {np.std(xgb_roc_auc):5f}')"
   ]
  },
  {
   "cell_type": "markdown",
   "metadata": {},
   "source": [
    "## Undersampling"
   ]
  },
  {
   "cell_type": "code",
   "execution_count": 12,
   "metadata": {
    "ExecuteTime": {
     "end_time": "2020-10-21T18:06:27.769889Z",
     "start_time": "2020-10-21T18:06:14.763193Z"
    },
    "scrolled": true
   },
   "outputs": [
    {
     "name": "stdout",
     "output_type": "stream",
     "text": [
      "RandomForest\n",
      "------------\n",
      "Accuracy:  0.85557 +- 0.004833\n",
      "Precision: 0.75697 +- 0.007401\n",
      "Recall:    0.83272 +- 0.013975\n",
      "F1 Score:  0.79298 +- 0.008368\n",
      "ROC AUC:   0.92665 +- 0.005175\n",
      "\n",
      "XGBoost\n",
      "-------\n",
      "Accuracy:  0.85618 +- 0.004090\n",
      "Precision: 0.75887 +- 0.008216\n",
      "Recall:    0.83164 +- 0.011676\n",
      "F1 Score:  0.79351 +- 0.005850\n",
      "ROC AUC:   0.92604 +- 0.004182\n"
     ]
    }
   ],
   "source": [
    "kf = KFold(n_splits=5, shuffle=True, random_state=33)\n",
    "\n",
    "forest_acc, forest_prec, forest_rec, forest_f1, forest_roc_auc = [], [], [], [], []\n",
    "xgb_acc, xgb_prec, xgb_rec, xgb_f1, xgb_roc_auc = [], [], [], [], []\n",
    "\n",
    "X_kf, y_kf = np.array(X), np.array(y)\n",
    "\n",
    "for train_ind, val_ind in kf.split(X, y):\n",
    "\n",
    "    X_train, y_train = X_kf[train_ind], y_kf[train_ind]\n",
    "    X_val, y_val = X_kf[val_ind], y_kf[val_ind]\n",
    "    \n",
    "    # Undersampling\n",
    "    X_under, y_under = RandomUnderSampler(random_state=42).fit_sample(X_train, y_train)\n",
    "    \n",
    "    # Random Forest\n",
    "    forest = RandomForestClassifier()\n",
    "    forest.fit(X_under, y_under)\n",
    "    forest_pred = forest.predict(X_val)\n",
    "\n",
    "    forest_acc.append(accuracy_score(y_val, forest_pred))\n",
    "    forest_prec.append(precision_score(y_val, forest_pred))\n",
    "    forest_rec.append(recall_score(y_val, forest_pred))\n",
    "    forest_f1.append(f1_score(y_val, forest_pred))\n",
    "    forest_roc_auc.append(roc_auc_score(y_val, forest.predict_proba(X_val)[:,1]))\n",
    "\n",
    "    # XGBoost\n",
    "    xgb = XGBClassifier()\n",
    "    xgb.fit(X_under, y_under)\n",
    "    xgb_pred = xgb.predict(X_val)\n",
    "\n",
    "    xgb_acc.append(accuracy_score(y_val, xgb_pred))\n",
    "    xgb_prec.append(precision_score(y_val, xgb_pred))\n",
    "    xgb_rec.append(recall_score(y_val, xgb_pred))\n",
    "    xgb_f1.append(f1_score(y_val, xgb_pred))\n",
    "    xgb_roc_auc.append(roc_auc_score(y_val, xgb.predict_proba(X_val)[:,1]))\n",
    "\n",
    "\n",
    "print(\"RandomForest\")\n",
    "print(\"------------\")\n",
    "print(f'Accuracy:  {np.mean(forest_acc):.5f} +- {np.std(forest_acc):5f}')\n",
    "print(f'Precision: {np.mean(forest_prec):.5f} +- {np.std(forest_prec):5f}')\n",
    "print(f'Recall:    {np.mean(forest_rec):.5f} +- {np.std(forest_rec):5f}')\n",
    "print(f'F1 Score:  {np.mean(forest_f1):.5f} +- {np.std(forest_f1):5f}')\n",
    "print(f'ROC AUC:   {np.mean(forest_roc_auc):.5f} +- {np.std(forest_roc_auc):5f}')\n",
    "print(\"\")\n",
    "print(\"XGBoost\")\n",
    "print(\"-------\")\n",
    "print(f'Accuracy:  {np.mean(xgb_acc):.5f} +- {np.std(xgb_acc):5f}')\n",
    "print(f'Precision: {np.mean(xgb_prec):.5f} +- {np.std(xgb_prec):5f}')\n",
    "print(f'Recall:    {np.mean(xgb_rec):.5f} +- {np.std(xgb_rec):5f}')\n",
    "print(f'F1 Score:  {np.mean(xgb_f1):.5f} +- {np.std(xgb_f1):5f}')\n",
    "print(f'ROC AUC:   {np.mean(xgb_roc_auc):.5f} +- {np.std(xgb_roc_auc):5f}')"
   ]
  },
  {
   "cell_type": "code",
   "execution_count": null,
   "metadata": {},
   "outputs": [],
   "source": []
  },
  {
   "cell_type": "markdown",
   "metadata": {},
   "source": [
    "## Evaluation"
   ]
  },
  {
   "cell_type": "markdown",
   "metadata": {},
   "source": [
    "XGBoost with SMOTE oversampling - no parameter tuning: \n",
    "```\n",
    "XGBoost\n",
    "-------\n",
    "Accuracy:  0.87259 +- 0.002498        # Best Score        \n",
    "Precision: 0.82089 +- 0.006591        # Best Score\n",
    "Recall:    0.78777 +- 0.008624\n",
    "F1 Score:  0.80395 +- 0.005084        # Best Score        \n",
    "ROC AUC:   0.92863 +- 0.003112        # Best Score\n",
    "```\n",
    "\n",
    "XGBoost with `scale_pos_weight` - no paramter tuning:\n",
    "```\n",
    "XGBoost\n",
    "-------\n",
    "Accuracy:  0.86793 +- 0.002505\n",
    "Precision: 0.79516 +- 0.006969\n",
    "Recall:    0.81196 +- 0.010780        # Best Score\n",
    "F1 Score:  0.80338 +- 0.002875\n",
    "ROC AUC:   0.92812 +- 0.004449\n",
    "\n",
    "```\n"
   ]
  },
  {
   "cell_type": "code",
   "execution_count": null,
   "metadata": {},
   "outputs": [],
   "source": []
  },
  {
   "cell_type": "code",
   "execution_count": null,
   "metadata": {},
   "outputs": [],
   "source": []
  },
  {
   "cell_type": "code",
   "execution_count": null,
   "metadata": {},
   "outputs": [],
   "source": []
  },
  {
   "cell_type": "code",
   "execution_count": null,
   "metadata": {},
   "outputs": [],
   "source": []
  },
  {
   "cell_type": "code",
   "execution_count": 13,
   "metadata": {
    "ExecuteTime": {
     "end_time": "2020-10-21T18:06:28.602081Z",
     "start_time": "2020-10-21T18:06:27.771322Z"
    },
    "scrolled": true
   },
   "outputs": [
    {
     "name": "stdout",
     "output_type": "stream",
     "text": [
      "Accuracy:  0.861912\n",
      "Precision: 0.785790\n",
      "Recall:    0.800808\n",
      "F1 Score:  0.793228\n",
      "ROC AUC:   0.925910\n"
     ]
    }
   ],
   "source": [
    "xgb = XGBClassifier(scale_pos_weight=estimate)\n",
    "xgb.fit(X, y)\n",
    "xgb_pred = xgb.predict(X_test)\n",
    "\n",
    "print(f'Accuracy:  {accuracy_score(y_test, xgb_pred):5f}')\n",
    "print(f'Precision: {precision_score(y_test, xgb_pred):5f}')\n",
    "print(f'Recall:    {recall_score(y_test, xgb_pred):5f}')\n",
    "print(f'F1 Score:  {f1_score(y_test, xgb_pred):5f}')\n",
    "print(f'ROC AUC:   {roc_auc_score(y_test, xgb.predict_proba(X_test)[:,1]):5f}')"
   ]
  },
  {
   "cell_type": "code",
   "execution_count": 14,
   "metadata": {
    "ExecuteTime": {
     "end_time": "2020-10-21T18:06:28.623037Z",
     "start_time": "2020-10-21T18:06:28.603884Z"
    }
   },
   "outputs": [
    {
     "name": "stdout",
     "output_type": "stream",
     "text": [
      "              precision    recall  f1-score   support\n",
      "\n",
      "           0       0.90      0.89      0.90      7517\n",
      "           1       0.79      0.80      0.79      3715\n",
      "\n",
      "    accuracy                           0.86     11232\n",
      "   macro avg       0.84      0.85      0.84     11232\n",
      "weighted avg       0.86      0.86      0.86     11232\n",
      "\n"
     ]
    }
   ],
   "source": [
    "print(classification_report(y_test, xgb_pred))"
   ]
  },
  {
   "cell_type": "code",
   "execution_count": 15,
   "metadata": {
    "ExecuteTime": {
     "end_time": "2020-10-21T18:06:28.813468Z",
     "start_time": "2020-10-21T18:06:28.624666Z"
    }
   },
   "outputs": [
    {
     "name": "stdout",
     "output_type": "stream",
     "text": [
      "ROC AUC score =  0.9259097056094118\n"
     ]
    },
    {
     "data": {
      "image/png": "[encoded data removed]",
      "text/plain": [
       "<Figure size 432x288 with 1 Axes>"
      ]
     },
     "metadata": {
      "needs_background": "light"
     },
     "output_type": "display_data"
    }
   ],
   "source": [
    "fpr, tpr, thresholds = roc_curve(y_test, xgb.predict_proba(X_test)[:,1])\n",
    "\n",
    "plt.plot(fpr, tpr,lw=2)\n",
    "plt.plot([0,1],[0,1],c='violet',ls='--')\n",
    "plt.xlim([-0.05,1.05])\n",
    "plt.ylim([-0.05,1.05])\n",
    "\n",
    "plt.xlabel('False positive rate')\n",
    "plt.ylabel('True positive rate')\n",
    "plt.title('ROC curve');\n",
    "print(\"ROC AUC score = \", roc_auc_score(y_test, xgb.predict_proba(X_test)[:,1]))"
   ]
  },
  {
   "cell_type": "code",
   "execution_count": 16,
   "metadata": {
    "ExecuteTime": {
     "end_time": "2020-10-21T18:07:12.663092Z",
     "start_time": "2020-10-21T18:07:12.419174Z"
    },
    "scrolled": true
   },
   "outputs": [
    {
     "data": {
      "image/png": "[encoded data removed]",
      "text/plain": [
       "<Figure size 576x432 with 1 Axes>"
      ]
     },
     "metadata": {
      "needs_background": "light"
     },
     "output_type": "display_data"
    }
   ],
   "source": [
    "# set up feature_importance\n",
    "importance = xgb.feature_importances_\n",
    "feature_importance = list(zip(features, importance))\n",
    "\n",
    "feature_importance.sort(key = lambda x: x[1])\n",
    "\n",
    "# split sorted features_importance into x,y\n",
    "feat = [f[0] for f in feature_importance]\n",
    "imp = [i[1]*100 for i in feature_importance]\n",
    "\n",
    "# Plot feature importance\n",
    "plt.figure(figsize=(8, 6))\n",
    "plt.title('Feature Importance: XGBoost', fontsize=16)\n",
    "plt.barh(feat, imp)\n",
    "plt.xlabel('Importance Rating (%)')\n",
    "plt.ylabel('Feature Labels');"
   ]
  },
  {
   "cell_type": "markdown",
   "metadata": {},
   "source": [
    "## Feature tinkering"
   ]
  },
  {
   "cell_type": "markdown",
   "metadata": {},
   "source": [
    "### XGBoost"
   ]
  },
  {
   "cell_type": "code",
   "execution_count": 23,
   "metadata": {
    "ExecuteTime": {
     "end_time": "2020-10-21T18:14:57.656948Z",
     "start_time": "2020-10-21T18:14:57.640797Z"
    }
   },
   "outputs": [],
   "source": [
    "df2 = df.copy()\n",
    "\n",
    "features = ['verified', \n",
    "            #'created_at',\n",
    "            #'hour_created',\n",
    "            'geo_enabled', \n",
    "            'default_profile', \n",
    "            'default_profile_image', \n",
    "            'favourites_count', \n",
    "            'followers_count', \n",
    "            #'friends_count', \n",
    "            'statuses_count', \n",
    "            'average_tweets_per_day',\n",
    "            #'avg_daily_followers', \n",
    "            #'avg_daily_friends',\n",
    "            #'avg_daily_favorites',\n",
    "            'popularity', \n",
    "            'tweet_to_followers', \n",
    "            'follower_acq_rate', \n",
    "            'friends_acq_rate', \n",
    "            #'favs_rate'\n",
    "           ]\n",
    "\n",
    "X = df2[features]\n",
    "y = df2['bot']\n",
    "\n",
    "X, X_test, y, y_test = train_test_split(X, y, test_size=.3, random_state=34)"
   ]
  },
  {
   "cell_type": "code",
   "execution_count": 24,
   "metadata": {
    "ExecuteTime": {
     "end_time": "2020-10-21T18:15:02.582812Z",
     "start_time": "2020-10-21T18:14:59.742084Z"
    }
   },
   "outputs": [
    {
     "name": "stdout",
     "output_type": "stream",
     "text": [
      "XGBoost\n",
      "-------\n",
      "Accuracy:  0.86866 +- 0.003099\n",
      "Precision: 0.79528 +- 0.010474\n",
      "Recall:    0.81463 +- 0.015476\n",
      "F1 Score:  0.80468 +- 0.007131\n",
      "ROC AUC:   0.92802 +- 0.004870\n"
     ]
    }
   ],
   "source": [
    "kf = KFold(n_splits=5, shuffle=True, random_state=33)\n",
    "\n",
    "xgb_acc, xgb_prec, xgb_rec, xgb_f1, xgb_roc_auc = [], [], [], [], []\n",
    "\n",
    "X_kf, y_kf = np.array(X), np.array(y)\n",
    "\n",
    "for train_ind, val_ind in kf.split(X, y):\n",
    "\n",
    "    X_train, y_train = X_kf[train_ind], y_kf[train_ind]\n",
    "    X_val, y_val = X_kf[val_ind], y_kf[val_ind]\n",
    "    \n",
    "    # XGBoost\n",
    "    xgb = XGBClassifier(scale_pos_weight=estimate)\n",
    "    xgb.fit(X_train, y_train)\n",
    "    xgb_pred = xgb.predict(X_val)\n",
    "\n",
    "    xgb_acc.append(accuracy_score(y_val, xgb_pred))\n",
    "    xgb_prec.append(precision_score(y_val, xgb_pred))\n",
    "    xgb_rec.append(recall_score(y_val, xgb_pred))\n",
    "    xgb_f1.append(f1_score(y_val, xgb_pred))\n",
    "    xgb_roc_auc.append(roc_auc_score(y_val, xgb.predict_proba(X_val)[:,1]))\n",
    "\n",
    "\n",
    "print(\"XGBoost\")\n",
    "print(\"-------\")\n",
    "print(f'Accuracy:  {np.mean(xgb_acc):.5f} +- {np.std(xgb_acc):5f}')\n",
    "print(f'Precision: {np.mean(xgb_prec):.5f} +- {np.std(xgb_prec):5f}')\n",
    "print(f'Recall:    {np.mean(xgb_rec):.5f} +- {np.std(xgb_rec):5f}')\n",
    "print(f'F1 Score:  {np.mean(xgb_f1):.5f} +- {np.std(xgb_f1):5f}')\n",
    "print(f'ROC AUC:   {np.mean(xgb_roc_auc):.5f} +- {np.std(xgb_roc_auc):5f}')"
   ]
  },
  {
   "cell_type": "markdown",
   "metadata": {},
   "source": [
    "XGBoost with SMOTE oversampling - no parameter tuning: \n",
    "```\n",
    "XGBoost\n",
    "-------\n",
    "Accuracy:  0.87259 +- 0.002498        # Best Score        \n",
    "Precision: 0.82089 +- 0.006591        # Best Score\n",
    "Recall:    0.78777 +- 0.008624\n",
    "F1 Score:  0.80395 +- 0.005084    \n",
    "ROC AUC:   0.92863 +- 0.003112        # Best Score\n",
    "```\n",
    "\n",
    "XGBoost with `scale_pos_weight` - no paramter tuning:\n",
    "```\n",
    "XGBoost\n",
    "-------\n",
    "Accuracy:  0.86793 +- 0.002505\n",
    "Precision: 0.79516 +- 0.006969\n",
    "Recall:    0.81196 +- 0.010780\n",
    "F1 Score:  0.80338 +- 0.002875\n",
    "ROC AUC:   0.92812 +- 0.004449\n",
    "\n",
    "```\n",
    "\n",
    "XGBoost -- drop `favs_rate` feature\n",
    "```\n",
    "XGBoost\n",
    "-------\n",
    "Accuracy:  0.86866 +- 0.003099\n",
    "Precision: 0.79528 +- 0.010474\n",
    "Recall:    0.81463 +- 0.015476        # Best Score\n",
    "F1 Score:  0.80468 +- 0.007131        # Best Score\n",
    "ROC AUC:   0.92802 +- 0.004870\n",
    "```"
   ]
  },
  {
   "cell_type": "code",
   "execution_count": null,
   "metadata": {},
   "outputs": [],
   "source": []
  },
  {
   "cell_type": "code",
   "execution_count": null,
   "metadata": {},
   "outputs": [],
   "source": []
  }
 ],
 "metadata": {
  "kernelspec": {
   "display_name": "Python [conda env:metis] *",
   "language": "python",
   "name": "conda-env-metis-py"
  },
  "language_info": {
   "codemirror_mode": {
    "name": "ipython",
    "version": 3
   },
   "file_extension": ".py",
   "mimetype": "text/x-python",
   "name": "python",
   "nbconvert_exporter": "python",
   "pygments_lexer": "ipython3",
   "version": "3.8.5"
  },
  "toc": {
   "base_numbering": 1,
   "nav_menu": {},
   "number_sections": true,
   "sideBar": true,
   "skip_h1_title": false,
   "title_cell": "Table of Contents",
   "title_sidebar": "Contents",
   "toc_cell": false,
   "toc_position": {},
   "toc_section_display": true,
   "toc_window_display": true
  },
  "varInspector": {
   "cols": {
    "lenName": 16,
    "lenType": 16,
    "lenVar": 40
   },
   "kernels_config": {
    "python": {
     "delete_cmd_postfix": "",
     "delete_cmd_prefix": "del ",
     "library": "var_list.py",
     "varRefreshCmd": "print(var_dic_list())"
    },
    "r": {
     "delete_cmd_postfix": ") ",
     "delete_cmd_prefix": "rm(",
     "library": "var_list.r",
     "varRefreshCmd": "cat(var_dic_list()) "
    }
   },
   "types_to_exclude": [
    "module",
    "function",
    "builtin_function_or_method",
    "instance",
    "_Feature"
   ],
   "window_display": false
  }
 },
 "nbformat": 4,
 "nbformat_minor": 4
}
