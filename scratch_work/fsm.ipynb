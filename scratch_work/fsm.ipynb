{
 "cells": [
  {
   "cell_type": "markdown",
   "metadata": {},
   "source": [
    "# Twitter Bot or Not?: First Simple Model\n",
    "\n",
    "Predicting whether or not a Twitter account is a bot or human using account-level information. \n",
    "* Target variable: Bot or not? \n",
    "    * Bot = 1\n",
    "    * Human = 0 \n",
    "\n",
    "**Notes**\n",
    "* Dataset source: [Twitter Bot Accounts](https://www.kaggle.com/davidmartngutirrez/twitter-bots-accounts?select=twitter_human_bots_dataset.csv)\n",
    "* Feature notes -- 'friends'?     \n",
    "    * `friends_count` = Following\n",
    "    * `followers_count` = Followers"
   ]
  },
  {
   "cell_type": "code",
   "execution_count": 2,
   "metadata": {
    "ExecuteTime": {
     "end_time": "2020-10-21T21:17:09.344825Z",
     "start_time": "2020-10-21T21:17:07.031660Z"
    }
   },
   "outputs": [],
   "source": [
    "# Basics\n",
    "import pandas as pd\n",
    "import psycopg2 as pg\n",
    "import numpy as np\n",
    "from collections import Counter\n",
    "\n",
    "# Visuals\n",
    "import matplotlib.pyplot as plt\n",
    "%matplotlib inline\n",
    "import seaborn as sns\n",
    "from visualize import *\n",
    "\n",
    "# Models\n",
    "from sklearn.tree import DecisionTreeClassifier\n",
    "from sklearn.naive_bayes import GaussianNB\n",
    "from sklearn.neighbors import KNeighborsClassifier\n",
    "from sklearn.linear_model import LogisticRegression\n",
    "from sklearn.ensemble import RandomForestClassifier\n",
    "from sklearn.svm import SVC\n",
    "from xgboost import XGBClassifier\n",
    "\n",
    "# Model support\n",
    "from matplotlib.colors import ListedColormap\n",
    "from sklearn.model_selection import train_test_split, cross_val_score, learning_curve\n",
    "from sklearn.metrics import mean_squared_error, r2_score\n",
    "from sklearn.preprocessing import StandardScaler\n",
    "from sklearn.metrics import (accuracy_score, classification_report, confusion_matrix, f1_score, \n",
    "                             plot_confusion_matrix, precision_score, recall_score, roc_auc_score, roc_curve)\n",
    "\n",
    "from imblearn.over_sampling import RandomOverSampler, SMOTE, ADASYN"
   ]
  },
  {
   "cell_type": "markdown",
   "metadata": {},
   "source": [
    "## Data import and setup"
   ]
  },
  {
   "cell_type": "code",
   "execution_count": 3,
   "metadata": {
    "ExecuteTime": {
     "end_time": "2020-10-21T21:17:11.994951Z",
     "start_time": "2020-10-21T21:17:11.869516Z"
    }
   },
   "outputs": [],
   "source": [
    "# Postgres info to connect\n",
    "connection_args = {\n",
    "    'host': 'localhost',             # Connecting to _local_ version of psql\n",
    "    'dbname': 'twitter_accounts',    # DB with Twitter info\n",
    "    'port': 5432                     # port we opened on AWS\n",
    "}\n",
    "\n",
    "connection = pg.connect(**connection_args)  "
   ]
  },
  {
   "cell_type": "code",
   "execution_count": 4,
   "metadata": {
    "ExecuteTime": {
     "end_time": "2020-10-21T21:17:24.160735Z",
     "start_time": "2020-10-21T21:17:23.711934Z"
    }
   },
   "outputs": [],
   "source": [
    "raw_df = pd.read_sql('SELECT * FROM human_bots', connection)"
   ]
  },
  {
   "cell_type": "code",
   "execution_count": 2,
   "metadata": {
    "ExecuteTime": {
     "end_time": "2020-10-19T21:55:10.257920Z",
     "start_time": "2020-10-19T21:55:09.955549Z"
    }
   },
   "outputs": [],
   "source": [
    "#raw_df = pd.read_csv('data_files/twitter_human_bots_dataset.csv.zip', index_col=False)"
   ]
  },
  {
   "cell_type": "code",
   "execution_count": 6,
   "metadata": {
    "ExecuteTime": {
     "end_time": "2020-10-21T21:17:34.511179Z",
     "start_time": "2020-10-21T21:17:34.451412Z"
    }
   },
   "outputs": [],
   "source": [
    "# drop funny index column\n",
    "raw_df.drop(columns=['index'], inplace=True)\n",
    "\n",
    "# Binary classifications for bots and boolean values\n",
    "raw_df['bot'] = raw_df['account_type'].apply(lambda x: 1 if x == 'bot' else 0)\n",
    "raw_df['default_profile'] = raw_df['default_profile'].astype(int)\n",
    "raw_df['default_profile'] = raw_df['default_profile'].astype(int)\n",
    "raw_df['default_profile_image'] = raw_df['default_profile_image'].astype(int)\n",
    "raw_df['geo_enabled'] = raw_df['geo_enabled'].astype(int)\n",
    "raw_df['verified'] = raw_df['verified'].astype(int)\n",
    "\n",
    "# datetime conversion\n",
    "raw_df['created_at'] = pd.to_datetime(raw_df['created_at'])\n",
    "# hour created\n",
    "raw_df['hour_created'] = pd.to_datetime(raw_df['created_at']).dt.hour"
   ]
  },
  {
   "cell_type": "code",
   "execution_count": 7,
   "metadata": {
    "ExecuteTime": {
     "end_time": "2020-10-21T21:17:42.675892Z",
     "start_time": "2020-10-21T21:17:42.665027Z"
    }
   },
   "outputs": [],
   "source": [
    "# usable df setup\n",
    "df = raw_df[['bot', 'screen_name', 'created_at', 'hour_created', 'verified', 'acct_location', 'geo_enabled', 'lang', 'default_profile', \n",
    "              'default_profile_image', 'favourites_count', 'followers_count', 'friends_count', 'statuses_count',\n",
    "             'average_tweets_per_day', 'account_age_days']]\n"
   ]
  },
  {
   "cell_type": "code",
   "execution_count": 8,
   "metadata": {
    "ExecuteTime": {
     "end_time": "2020-10-21T21:17:44.705557Z",
     "start_time": "2020-10-21T21:17:44.703403Z"
    }
   },
   "outputs": [],
   "source": [
    "del raw_df"
   ]
  },
  {
   "cell_type": "code",
   "execution_count": 9,
   "metadata": {
    "ExecuteTime": {
     "end_time": "2020-10-21T21:17:46.644087Z",
     "start_time": "2020-10-21T21:17:46.620882Z"
    }
   },
   "outputs": [
    {
     "name": "stderr",
     "output_type": "stream",
     "text": [
      "<ipython-input-9-f05b6e00d5a8>:2: SettingWithCopyWarning: \n",
      "A value is trying to be set on a copy of a slice from a DataFrame.\n",
      "Try using .loc[row_indexer,col_indexer] = value instead\n",
      "\n",
      "See the caveats in the documentation: https://pandas.pydata.org/pandas-docs/stable/user_guide/indexing.html#returning-a-view-versus-a-copy\n",
      "  df['avg_daily_followers'] = np.round(df['followers_count'] / df['account_age_days'])\n",
      "<ipython-input-9-f05b6e00d5a8>:3: SettingWithCopyWarning: \n",
      "A value is trying to be set on a copy of a slice from a DataFrame.\n",
      "Try using .loc[row_indexer,col_indexer] = value instead\n",
      "\n",
      "See the caveats in the documentation: https://pandas.pydata.org/pandas-docs/stable/user_guide/indexing.html#returning-a-view-versus-a-copy\n",
      "  df['avg_daily_friends'] = np.round(df['followers_count'] / df['account_age_days'])\n",
      "<ipython-input-9-f05b6e00d5a8>:4: SettingWithCopyWarning: \n",
      "A value is trying to be set on a copy of a slice from a DataFrame.\n",
      "Try using .loc[row_indexer,col_indexer] = value instead\n",
      "\n",
      "See the caveats in the documentation: https://pandas.pydata.org/pandas-docs/stable/user_guide/indexing.html#returning-a-view-versus-a-copy\n",
      "  df['avg_daily_favorites'] = np.round(df['followers_count'] / df['account_age_days'])\n",
      "<ipython-input-9-f05b6e00d5a8>:7: SettingWithCopyWarning: \n",
      "A value is trying to be set on a copy of a slice from a DataFrame.\n",
      "Try using .loc[row_indexer,col_indexer] = value instead\n",
      "\n",
      "See the caveats in the documentation: https://pandas.pydata.org/pandas-docs/stable/user_guide/indexing.html#returning-a-view-versus-a-copy\n",
      "  df['friends_log'] = np.round(np.log(1 + df['friends_count']), 3)\n"
     ]
    }
   ],
   "source": [
    "# Interesting features to look at: \n",
    "df['avg_daily_followers'] = np.round(df['followers_count'] / df['account_age_days'])\n",
    "df['avg_daily_friends'] = np.round(df['followers_count'] / df['account_age_days'])\n",
    "df['avg_daily_favorites'] = np.round(df['followers_count'] / df['account_age_days'])\n",
    "\n",
    "# Log transformations for highly skewed data\n",
    "df['friends_log'] = np.round(np.log(1 + df['friends_count']), 3)\n",
    "df['followers_log'] = np.round(np.log(1 + df['followers_count']), 3)\n",
    "df['favs_log'] = np.round(np.log(1 + df['favourites_count']), 3)\n",
    "df['avg_daily_tweets_log'] = np.round(np.log(1+ df['average_tweets_per_day']), 3)\n",
    "\n",
    "# Possible popularity metrics\n",
    "df['popularity'] = np.round(df['friends_log'] * df['followers_log'], 3)\n",
    "df['tweet_to_followers'] = np.round(np.log( 1+ df['statuses_count']) * np.log(1+ df['followers_count']), 3)\n",
    "\n",
    "# Log-transformed daily acquisition metrics for dist. plots\n",
    "df['follower_acq_rate'] = np.round(np.log(1 + (df['followers_count'] / df['account_age_days'])), 3)\n",
    "df['friends_acq_rate'] = np.round(np.log(1 + (df['friends_count'] / df['account_age_days'])), 3)\n",
    "df['favs_rate'] = np.round(np.log(1 + (df['friends_count'] / df['account_age_days'])), 3)"
   ]
  },
  {
   "cell_type": "code",
   "execution_count": 10,
   "metadata": {
    "ExecuteTime": {
     "end_time": "2020-10-21T21:17:49.279033Z",
     "start_time": "2020-10-21T21:17:49.252037Z"
    },
    "scrolled": true
   },
   "outputs": [
    {
     "data": {
      "text/html": [
       "<div>\n",
       "<style scoped>\n",
       "    .dataframe tbody tr th:only-of-type {\n",
       "        vertical-align: middle;\n",
       "    }\n",
       "\n",
       "    .dataframe tbody tr th {\n",
       "        vertical-align: top;\n",
       "    }\n",
       "\n",
       "    .dataframe thead th {\n",
       "        text-align: right;\n",
       "    }\n",
       "</style>\n",
       "<table border=\"1\" class=\"dataframe\">\n",
       "  <thead>\n",
       "    <tr style=\"text-align: right;\">\n",
       "      <th></th>\n",
       "      <th>bot</th>\n",
       "      <th>screen_name</th>\n",
       "      <th>created_at</th>\n",
       "      <th>hour_created</th>\n",
       "      <th>verified</th>\n",
       "      <th>acct_location</th>\n",
       "      <th>geo_enabled</th>\n",
       "      <th>lang</th>\n",
       "      <th>default_profile</th>\n",
       "      <th>default_profile_image</th>\n",
       "      <th>...</th>\n",
       "      <th>avg_daily_favorites</th>\n",
       "      <th>friends_log</th>\n",
       "      <th>followers_log</th>\n",
       "      <th>favs_log</th>\n",
       "      <th>avg_daily_tweets_log</th>\n",
       "      <th>popularity</th>\n",
       "      <th>tweet_to_followers</th>\n",
       "      <th>follower_acq_rate</th>\n",
       "      <th>friends_acq_rate</th>\n",
       "      <th>favs_rate</th>\n",
       "    </tr>\n",
       "  </thead>\n",
       "  <tbody>\n",
       "    <tr>\n",
       "      <th>0</th>\n",
       "      <td>1</td>\n",
       "      <td>best_in_dumbest</td>\n",
       "      <td>2016-10-15 21:32:11</td>\n",
       "      <td>21</td>\n",
       "      <td>0</td>\n",
       "      <td>unknown</td>\n",
       "      <td>0</td>\n",
       "      <td>en</td>\n",
       "      <td>0</td>\n",
       "      <td>0</td>\n",
       "      <td>...</td>\n",
       "      <td>1.0</td>\n",
       "      <td>1.609</td>\n",
       "      <td>7.371</td>\n",
       "      <td>1.609</td>\n",
       "      <td>2.183</td>\n",
       "      <td>11.860</td>\n",
       "      <td>68.625</td>\n",
       "      <td>0.757</td>\n",
       "      <td>0.003</td>\n",
       "      <td>0.003</td>\n",
       "    </tr>\n",
       "    <tr>\n",
       "      <th>1</th>\n",
       "      <td>0</td>\n",
       "      <td>CJRubinPhoto</td>\n",
       "      <td>2016-11-09 05:01:30</td>\n",
       "      <td>5</td>\n",
       "      <td>0</td>\n",
       "      <td>Estados Unidos</td>\n",
       "      <td>0</td>\n",
       "      <td>en</td>\n",
       "      <td>0</td>\n",
       "      <td>0</td>\n",
       "      <td>...</td>\n",
       "      <td>1.0</td>\n",
       "      <td>6.781</td>\n",
       "      <td>6.758</td>\n",
       "      <td>6.286</td>\n",
       "      <td>0.168</td>\n",
       "      <td>45.826</td>\n",
       "      <td>37.395</td>\n",
       "      <td>0.485</td>\n",
       "      <td>0.494</td>\n",
       "      <td>0.494</td>\n",
       "    </tr>\n",
       "    <tr>\n",
       "      <th>2</th>\n",
       "      <td>0</td>\n",
       "      <td>SVGEGENT</td>\n",
       "      <td>2017-06-17 05:34:27</td>\n",
       "      <td>5</td>\n",
       "      <td>0</td>\n",
       "      <td>Los Angeles, CA</td>\n",
       "      <td>1</td>\n",
       "      <td>en</td>\n",
       "      <td>0</td>\n",
       "      <td>0</td>\n",
       "      <td>...</td>\n",
       "      <td>0.0</td>\n",
       "      <td>6.389</td>\n",
       "      <td>5.153</td>\n",
       "      <td>8.104</td>\n",
       "      <td>0.623</td>\n",
       "      <td>32.923</td>\n",
       "      <td>35.608</td>\n",
       "      <td>0.138</td>\n",
       "      <td>0.414</td>\n",
       "      <td>0.414</td>\n",
       "    </tr>\n",
       "    <tr>\n",
       "      <th>3</th>\n",
       "      <td>0</td>\n",
       "      <td>TinkerVHELPK5</td>\n",
       "      <td>2016-07-21 13:32:25</td>\n",
       "      <td>13</td>\n",
       "      <td>0</td>\n",
       "      <td>Birmingham, AL</td>\n",
       "      <td>1</td>\n",
       "      <td>en</td>\n",
       "      <td>1</td>\n",
       "      <td>0</td>\n",
       "      <td>...</td>\n",
       "      <td>0.0</td>\n",
       "      <td>6.452</td>\n",
       "      <td>6.250</td>\n",
       "      <td>9.040</td>\n",
       "      <td>0.636</td>\n",
       "      <td>40.325</td>\n",
       "      <td>44.932</td>\n",
       "      <td>0.298</td>\n",
       "      <td>0.354</td>\n",
       "      <td>0.354</td>\n",
       "    </tr>\n",
       "    <tr>\n",
       "      <th>4</th>\n",
       "      <td>0</td>\n",
       "      <td>JoleonLescott</td>\n",
       "      <td>2012-01-15 16:32:35</td>\n",
       "      <td>16</td>\n",
       "      <td>1</td>\n",
       "      <td>England, United Kingdom</td>\n",
       "      <td>1</td>\n",
       "      <td>en</td>\n",
       "      <td>0</td>\n",
       "      <td>0</td>\n",
       "      <td>...</td>\n",
       "      <td>240.0</td>\n",
       "      <td>4.762</td>\n",
       "      <td>13.533</td>\n",
       "      <td>4.489</td>\n",
       "      <td>0.850</td>\n",
       "      <td>64.444</td>\n",
       "      <td>112.911</td>\n",
       "      <td>5.486</td>\n",
       "      <td>0.036</td>\n",
       "      <td>0.036</td>\n",
       "    </tr>\n",
       "  </tbody>\n",
       "</table>\n",
       "<p>5 rows × 28 columns</p>\n",
       "</div>"
      ],
      "text/plain": [
       "   bot      screen_name          created_at  hour_created  verified  \\\n",
       "0    1  best_in_dumbest 2016-10-15 21:32:11            21         0   \n",
       "1    0     CJRubinPhoto 2016-11-09 05:01:30             5         0   \n",
       "2    0         SVGEGENT 2017-06-17 05:34:27             5         0   \n",
       "3    0    TinkerVHELPK5 2016-07-21 13:32:25            13         0   \n",
       "4    0    JoleonLescott 2012-01-15 16:32:35            16         1   \n",
       "\n",
       "             acct_location  geo_enabled lang  default_profile  \\\n",
       "0                  unknown            0   en                0   \n",
       "1           Estados Unidos            0   en                0   \n",
       "2          Los Angeles, CA            1   en                0   \n",
       "3           Birmingham, AL            1   en                1   \n",
       "4  England, United Kingdom            1   en                0   \n",
       "\n",
       "   default_profile_image  ...  avg_daily_favorites  friends_log  \\\n",
       "0                      0  ...                  1.0        1.609   \n",
       "1                      0  ...                  1.0        6.781   \n",
       "2                      0  ...                  0.0        6.389   \n",
       "3                      0  ...                  0.0        6.452   \n",
       "4                      0  ...                240.0        4.762   \n",
       "\n",
       "   followers_log  favs_log  avg_daily_tweets_log  popularity  \\\n",
       "0          7.371     1.609                 2.183      11.860   \n",
       "1          6.758     6.286                 0.168      45.826   \n",
       "2          5.153     8.104                 0.623      32.923   \n",
       "3          6.250     9.040                 0.636      40.325   \n",
       "4         13.533     4.489                 0.850      64.444   \n",
       "\n",
       "   tweet_to_followers  follower_acq_rate  friends_acq_rate  favs_rate  \n",
       "0              68.625              0.757             0.003      0.003  \n",
       "1              37.395              0.485             0.494      0.494  \n",
       "2              35.608              0.138             0.414      0.414  \n",
       "3              44.932              0.298             0.354      0.354  \n",
       "4             112.911              5.486             0.036      0.036  \n",
       "\n",
       "[5 rows x 28 columns]"
      ]
     },
     "execution_count": 10,
     "metadata": {},
     "output_type": "execute_result"
    }
   ],
   "source": [
    "df.head()"
   ]
  },
  {
   "cell_type": "code",
   "execution_count": 11,
   "metadata": {
    "ExecuteTime": {
     "end_time": "2020-10-21T21:17:55.610593Z",
     "start_time": "2020-10-21T21:17:55.585089Z"
    }
   },
   "outputs": [
    {
     "name": "stdout",
     "output_type": "stream",
     "text": [
      "<class 'pandas.core.frame.DataFrame'>\n",
      "RangeIndex: 37438 entries, 0 to 37437\n",
      "Data columns (total 28 columns):\n",
      " #   Column                  Non-Null Count  Dtype         \n",
      "---  ------                  --------------  -----         \n",
      " 0   bot                     37438 non-null  int64         \n",
      " 1   screen_name             37438 non-null  object        \n",
      " 2   created_at              37438 non-null  datetime64[ns]\n",
      " 3   hour_created            37438 non-null  int64         \n",
      " 4   verified                37438 non-null  int64         \n",
      " 5   acct_location           37438 non-null  object        \n",
      " 6   geo_enabled             37438 non-null  int64         \n",
      " 7   lang                    29481 non-null  object        \n",
      " 8   default_profile         37438 non-null  int64         \n",
      " 9   default_profile_image   37438 non-null  int64         \n",
      " 10  favourites_count        37438 non-null  int64         \n",
      " 11  followers_count         37438 non-null  int64         \n",
      " 12  friends_count           37438 non-null  int64         \n",
      " 13  statuses_count          37438 non-null  int64         \n",
      " 14  average_tweets_per_day  37438 non-null  float64       \n",
      " 15  account_age_days        37438 non-null  int64         \n",
      " 16  avg_daily_followers     37438 non-null  float64       \n",
      " 17  avg_daily_friends       37438 non-null  float64       \n",
      " 18  avg_daily_favorites     37438 non-null  float64       \n",
      " 19  friends_log             37438 non-null  float64       \n",
      " 20  followers_log           37438 non-null  float64       \n",
      " 21  favs_log                37438 non-null  float64       \n",
      " 22  avg_daily_tweets_log    37438 non-null  float64       \n",
      " 23  popularity              37438 non-null  float64       \n",
      " 24  tweet_to_followers      37438 non-null  float64       \n",
      " 25  follower_acq_rate       37438 non-null  float64       \n",
      " 26  friends_acq_rate        37438 non-null  float64       \n",
      " 27  favs_rate               37438 non-null  float64       \n",
      "dtypes: datetime64[ns](1), float64(13), int64(11), object(3)\n",
      "memory usage: 8.0+ MB\n"
     ]
    }
   ],
   "source": [
    "df.info()"
   ]
  },
  {
   "cell_type": "markdown",
   "metadata": {},
   "source": [
    "## Unbalanced data? "
   ]
  },
  {
   "cell_type": "code",
   "execution_count": 12,
   "metadata": {
    "ExecuteTime": {
     "end_time": "2020-10-21T21:18:00.745931Z",
     "start_time": "2020-10-21T21:18:00.732753Z"
    }
   },
   "outputs": [
    {
     "name": "stdout",
     "output_type": "stream",
     "text": [
      "Number of bots:  12425\n",
      "Number of humans:  25013\n",
      "Bots / Total %:  33.18820449810353\n"
     ]
    }
   ],
   "source": [
    "num_bots = len(df[df['bot'] == 1])\n",
    "num_humans = len(df[df['bot'] == 0])\n",
    "\n",
    "print(\"Number of bots: \", num_bots)\n",
    "print(\"Number of humans: \", num_humans)\n",
    "print(\"Bots / Total %: \", (num_bots / len(df)) * 100)"
   ]
  },
  {
   "cell_type": "markdown",
   "metadata": {},
   "source": [
    "## Feature selection"
   ]
  },
  {
   "cell_type": "code",
   "execution_count": 13,
   "metadata": {
    "ExecuteTime": {
     "end_time": "2020-10-21T21:18:08.001011Z",
     "start_time": "2020-10-21T21:18:07.997691Z"
    }
   },
   "outputs": [
    {
     "data": {
      "text/plain": [
       "Index(['bot', 'screen_name', 'created_at', 'hour_created', 'verified',\n",
       "       'acct_location', 'geo_enabled', 'lang', 'default_profile',\n",
       "       'default_profile_image', 'favourites_count', 'followers_count',\n",
       "       'friends_count', 'statuses_count', 'average_tweets_per_day',\n",
       "       'account_age_days', 'avg_daily_followers', 'avg_daily_friends',\n",
       "       'avg_daily_favorites', 'friends_log', 'followers_log', 'favs_log',\n",
       "       'avg_daily_tweets_log', 'popularity', 'tweet_to_followers',\n",
       "       'follower_acq_rate', 'friends_acq_rate', 'favs_rate'],\n",
       "      dtype='object')"
      ]
     },
     "execution_count": 13,
     "metadata": {},
     "output_type": "execute_result"
    }
   ],
   "source": [
    "df.columns"
   ]
  },
  {
   "cell_type": "code",
   "execution_count": 15,
   "metadata": {
    "ExecuteTime": {
     "end_time": "2020-10-21T21:18:32.604248Z",
     "start_time": "2020-10-21T21:18:32.599974Z"
    }
   },
   "outputs": [],
   "source": [
    "features = ['verified', \n",
    "            #'created_at',\n",
    "            #'hour_created',\n",
    "            'geo_enabled', \n",
    "            'default_profile', \n",
    "            'default_profile_image', \n",
    "            'favourites_count', \n",
    "            'followers_count', \n",
    "            'friends_count', \n",
    "            'statuses_count', \n",
    "            'average_tweets_per_day',\n",
    "            #'avg_daily_followers', \n",
    "            #'avg_daily_friends',\n",
    "            #'avg_daily_favorites',\n",
    "            'popularity', \n",
    "            'tweet_to_followers', \n",
    "            'follower_acq_rate', \n",
    "            'friends_acq_rate', \n",
    "            'favs_rate'\n",
    "           ]\n",
    "\n",
    "X = df[features]\n",
    "y = df['bot']"
   ]
  },
  {
   "cell_type": "code",
   "execution_count": 17,
   "metadata": {
    "ExecuteTime": {
     "end_time": "2020-10-21T21:18:48.182107Z",
     "start_time": "2020-10-21T21:18:48.172469Z"
    }
   },
   "outputs": [],
   "source": [
    "X, X_test, y, y_test = train_test_split(X, y, test_size=.3, random_state=1234)"
   ]
  },
  {
   "cell_type": "markdown",
   "metadata": {},
   "source": [
    "## Model Selection"
   ]
  },
  {
   "cell_type": "markdown",
   "metadata": {},
   "source": [
    "### KNN"
   ]
  },
  {
   "cell_type": "code",
   "execution_count": 18,
   "metadata": {
    "ExecuteTime": {
     "end_time": "2020-10-21T21:18:49.369374Z",
     "start_time": "2020-10-21T21:18:49.353412Z"
    }
   },
   "outputs": [],
   "source": [
    "scalar = StandardScaler()\n",
    "\n",
    "scalar.fit(X)\n",
    "\n",
    "X_train_scaled = scalar.transform(X)\n",
    "X_test_scaled = scalar.transform(X_test)"
   ]
  },
  {
   "cell_type": "code",
   "execution_count": 19,
   "metadata": {
    "ExecuteTime": {
     "end_time": "2020-10-21T21:19:00.028912Z",
     "start_time": "2020-10-21T21:18:51.113548Z"
    }
   },
   "outputs": [
    {
     "name": "stdout",
     "output_type": "stream",
     "text": [
      "RMSE Metric\n",
      "Optimal number of Neighbors: 10\n",
      "Root Mean Squared Error: 0.40\n",
      "\n",
      "Accuracy Metric\n",
      "Optimal number of Neighbors: 10\n",
      "Accuracy Score: 0.84\n"
     ]
    }
   ],
   "source": [
    "ks = range(1, 30)\n",
    "\n",
    "X_train_scaled, X_val_scaled, y_train, y_val = train_test_split(X, y, test_size=.3, random_state=2)\n",
    "\n",
    "test_errors = np.zeros(len(list(ks)))\n",
    "acc_scores = np.zeros(len(list(ks)))\n",
    "\n",
    "for i, k in enumerate(ks):\n",
    "    \n",
    "    nn = KNeighborsClassifier(n_neighbors=k)\n",
    "\n",
    "    nn.fit(X_train_scaled, y_train)\n",
    "    test_preds = nn.predict(X_val_scaled)\n",
    "    \n",
    "    test_errors[i] = np.sqrt(mean_squared_error(y_val, test_preds))\n",
    "    acc_scores[i] = accuracy_score(y_val, test_preds)\n",
    "    \n",
    "\n",
    "optimal_k_r2 = list(ks)[np.argmin(test_errors)]\n",
    "optimal_error = np.min(test_errors)\n",
    "\n",
    "optimal_k_acc = list(ks)[np.argmax(acc_scores)]\n",
    "optimal_acc = np.max(acc_scores)\n",
    "\n",
    "print(\"RMSE Metric\")\n",
    "print(f'Optimal number of Neighbors: {optimal_k_r2}\\nRoot Mean Squared Error: {optimal_error:.2f}')\n",
    "print('\\nAccuracy Metric')\n",
    "print(f'Optimal number of Neighbors: {optimal_k_acc}\\nAccuracy Score: {optimal_acc:.2f}')    "
   ]
  },
  {
   "cell_type": "code",
   "execution_count": 20,
   "metadata": {
    "ExecuteTime": {
     "end_time": "2020-10-21T21:19:04.903655Z",
     "start_time": "2020-10-21T21:19:04.593692Z"
    }
   },
   "outputs": [
    {
     "data": {
      "image/png": "[encoded data removed]",
      "text/plain": [
       "<Figure size 1008x432 with 2 Axes>"
      ]
     },
     "metadata": {
      "needs_background": "light"
     },
     "output_type": "display_data"
    }
   ],
   "source": [
    "plt.figure(figsize=(14, 6))\n",
    "plt.suptitle('Optimal K Search', fontsize=16)\n",
    "\n",
    "# Optimal RMSE\n",
    "plt.subplot(1, 2, 1)\n",
    "\n",
    "plt.title('Optimal K by RMSE Score: {}'.format(optimal_k_r2))\n",
    "plt.plot(list(ks), test_errors, color='red')\n",
    "plt.axvline(list(ks)[np.argmin(test_errors)], linestyle='--', color='black')\n",
    "\n",
    "# Optimal accuracy score\n",
    "plt.subplot(1, 2, 2)\n",
    "\n",
    "plt.title('Optimal K by Accuracy Score: {}'.format(optimal_k_acc))\n",
    "plt.plot(list(ks), acc_scores, color='blue')\n",
    "plt.axvline(list(ks)[np.argmax(acc_scores)], linestyle='--', color='black');"
   ]
  },
  {
   "cell_type": "code",
   "execution_count": 21,
   "metadata": {
    "ExecuteTime": {
     "end_time": "2020-10-21T21:22:48.854016Z",
     "start_time": "2020-10-21T21:22:48.833477Z"
    }
   },
   "outputs": [],
   "source": [
    "# Resetting train/test split\n",
    "X, X_test, y, y_test = train_test_split(X, y, test_size=.3, random_state=1234)\n",
    "\n",
    "# Scaling\n",
    "scalar = StandardScaler()\n",
    "scalar.fit(X)\n",
    "X_train_scaled = scalar.transform(X)\n",
    "X_test_scaled = scalar.transform(X_test)"
   ]
  },
  {
   "cell_type": "code",
   "execution_count": 22,
   "metadata": {
    "ExecuteTime": {
     "end_time": "2020-10-21T21:23:30.362958Z",
     "start_time": "2020-10-21T21:23:26.853019Z"
    }
   },
   "outputs": [
    {
     "name": "stdout",
     "output_type": "stream",
     "text": [
      "CV Scores:  [0.82774598 0.83101663 0.83919324 0.8258381  0.83696838]\n",
      "Mean Score:  0.8321524648882603\n"
     ]
    }
   ],
   "source": [
    "knn = KNeighborsClassifier(n_neighbors=10, n_jobs=-1)\n",
    "\n",
    "cv_scores = cross_val_score(knn, X_train_scaled, y, cv=5)\n",
    "\n",
    "print(\"CV Scores: \", cv_scores)\n",
    "print(\"Mean Score: \", cv_scores.mean())"
   ]
  },
  {
   "cell_type": "code",
   "execution_count": 25,
   "metadata": {
    "ExecuteTime": {
     "end_time": "2020-10-21T21:29:05.392625Z",
     "start_time": "2020-10-21T21:29:05.386485Z"
    }
   },
   "outputs": [],
   "source": [
    "X_train_scaled, X_val_scaled, y_train, y_val = train_test_split(X_train_scaled, y, test_size=.3, random_state=4)"
   ]
  },
  {
   "cell_type": "markdown",
   "metadata": {},
   "source": [
    "Run a single instance and few classification report: "
   ]
  },
  {
   "cell_type": "code",
   "execution_count": 26,
   "metadata": {
    "ExecuteTime": {
     "end_time": "2020-10-21T21:29:07.360664Z",
     "start_time": "2020-10-21T21:29:06.886949Z"
    }
   },
   "outputs": [
    {
     "name": "stdout",
     "output_type": "stream",
     "text": [
      "Accuracy:  0.8270\n",
      "Precision: 0.7875\n",
      "Recall:    0.6741\n",
      "F1 Score:  0.7264\n",
      "\n",
      "              precision    recall  f1-score   support\n",
      "\n",
      "           0       0.84      0.91      0.87      3629\n",
      "           1       0.79      0.67      0.73      1875\n",
      "\n",
      "    accuracy                           0.83      5504\n",
      "   macro avg       0.82      0.79      0.80      5504\n",
      "weighted avg       0.82      0.83      0.82      5504\n",
      "\n"
     ]
    }
   ],
   "source": [
    "knn = KNeighborsClassifier(n_neighbors=10)\n",
    "knn.fit(X_train_scaled, y_train)\n",
    "pred = knn.predict(X_val_scaled)\n",
    "\n",
    "print('Accuracy:  {:.4f}'.format(accuracy_score(y_val, pred)))\n",
    "print('Precision: {:.4f}'.format(precision_score(y_val, pred)))\n",
    "print('Recall:    {:.4f}'.format(recall_score(y_val, pred)))\n",
    "print('F1 Score:  {:.4f}'.format(f1_score(y_val, pred)))\n",
    "\n",
    "print(\"\")\n",
    "print(classification_report(y_val, pred))"
   ]
  },
  {
   "cell_type": "code",
   "execution_count": 27,
   "metadata": {
    "ExecuteTime": {
     "end_time": "2020-10-21T21:29:17.351729Z",
     "start_time": "2020-10-21T21:29:16.612305Z"
    }
   },
   "outputs": [
    {
     "name": "stdout",
     "output_type": "stream",
     "text": [
      "ROC AUC score =  0.8885567741342886\n"
     ]
    },
    {
     "data": {
      "image/png": "[encoded data removed]",
      "text/plain": [
       "<Figure size 432x288 with 1 Axes>"
      ]
     },
     "metadata": {
      "needs_background": "light"
     },
     "output_type": "display_data"
    }
   ],
   "source": [
    "fpr, tpr, thresholds = roc_curve(y_val, knn.predict_proba(X_val_scaled)[:,1])\n",
    "\n",
    "plt.plot(fpr, tpr,lw=2)\n",
    "plt.plot([0,1],[0,1],c='violet',ls='--')\n",
    "plt.xlim([-0.05,1.05])\n",
    "plt.ylim([-0.05,1.05])\n",
    "\n",
    "plt.xlabel('False positive rate')\n",
    "plt.ylabel('True positive rate')\n",
    "plt.title('ROC curve for Politics Problem');\n",
    "print(\"ROC AUC score = \", roc_auc_score(y_val, knn.predict_proba(X_val_scaled)[:,1]))"
   ]
  },
  {
   "cell_type": "markdown",
   "metadata": {},
   "source": [
    "### Logistic Regression"
   ]
  },
  {
   "cell_type": "code",
   "execution_count": 28,
   "metadata": {
    "ExecuteTime": {
     "end_time": "2020-10-21T21:29:27.774876Z",
     "start_time": "2020-10-21T21:29:27.691206Z"
    }
   },
   "outputs": [
    {
     "name": "stdout",
     "output_type": "stream",
     "text": [
      "Accuracy: 0.7969\n",
      "Precision: 0.7006\n",
      "Recall: 0.7051\n",
      "F1 Score: 0.7028\n",
      "\n",
      "              precision    recall  f1-score   support\n",
      "\n",
      "           0       0.85      0.84      0.85      3629\n",
      "           1       0.70      0.71      0.70      1875\n",
      "\n",
      "    accuracy                           0.80      5504\n",
      "   macro avg       0.77      0.77      0.77      5504\n",
      "weighted avg       0.80      0.80      0.80      5504\n",
      "\n"
     ]
    }
   ],
   "source": [
    "lr = LogisticRegression()\n",
    "lr.fit(X_train_scaled, y_train)\n",
    "\n",
    "pred = lr.predict(X_val_scaled)\n",
    "\n",
    "print('Accuracy: {:.4f}'.format(accuracy_score(y_val, pred)))\n",
    "print('Precision: {:.4f}'.format(precision_score(y_val, pred)))\n",
    "print('Recall: {:.4f}'.format(recall_score(y_val, pred)))\n",
    "print('F1 Score: {:.4f}'.format(f1_score(y_val, pred)))\n",
    "\n",
    "print(\"\")\n",
    "print(classification_report(y_val, pred))"
   ]
  },
  {
   "cell_type": "code",
   "execution_count": 29,
   "metadata": {
    "ExecuteTime": {
     "end_time": "2020-10-21T21:29:31.527330Z",
     "start_time": "2020-10-21T21:29:31.347935Z"
    }
   },
   "outputs": [
    {
     "name": "stdout",
     "output_type": "stream",
     "text": [
      "ROC AUC score =  0.8483027463947828\n"
     ]
    },
    {
     "data": {
      "image/png": "[encoded data removed]",
      "text/plain": [
       "<Figure size 432x288 with 1 Axes>"
      ]
     },
     "metadata": {
      "needs_background": "light"
     },
     "output_type": "display_data"
    }
   ],
   "source": [
    "fpr, tpr, thresholds = roc_curve(y_val, lr.predict_proba(X_val_scaled)[:,1])\n",
    "\n",
    "plt.plot(fpr, tpr,lw=2)\n",
    "plt.plot([0,1],[0,1],c='violet',ls='--')\n",
    "plt.xlim([-0.05,1.05])\n",
    "plt.ylim([-0.05,1.05])\n",
    "\n",
    "plt.xlabel('False positive rate')\n",
    "plt.ylabel('True positive rate')\n",
    "plt.title('ROC curve');\n",
    "print(\"ROC AUC score = \", roc_auc_score(y_val, lr.predict_proba(X_val_scaled)[:,1]))"
   ]
  },
  {
   "cell_type": "markdown",
   "metadata": {},
   "source": [
    "### Support Vector Classification"
   ]
  },
  {
   "cell_type": "code",
   "execution_count": 30,
   "metadata": {
    "ExecuteTime": {
     "end_time": "2020-10-21T21:29:55.320581Z",
     "start_time": "2020-10-21T21:29:36.160685Z"
    }
   },
   "outputs": [
    {
     "name": "stdout",
     "output_type": "stream",
     "text": [
      "Accuracy: 0.8023\n",
      "Precision: 0.7005\n",
      "Recall: 0.7333\n",
      "F1 Score: 0.7165\n",
      "\n",
      "              precision    recall  f1-score   support\n",
      "\n",
      "           0       0.86      0.84      0.85      3629\n",
      "           1       0.70      0.73      0.72      1875\n",
      "\n",
      "    accuracy                           0.80      5504\n",
      "   macro avg       0.78      0.79      0.78      5504\n",
      "weighted avg       0.80      0.80      0.80      5504\n",
      "\n"
     ]
    }
   ],
   "source": [
    "svc = SVC(probability=True)\n",
    "svc.fit(X_train_scaled, y_train)\n",
    "\n",
    "pred = svc.predict(X_val_scaled)\n",
    "\n",
    "print('Accuracy: {:.4f}'.format(accuracy_score(y_val, pred)))\n",
    "print('Precision: {:.4f}'.format(precision_score(y_val, pred)))\n",
    "print('Recall: {:.4f}'.format(recall_score(y_val, pred)))\n",
    "print('F1 Score: {:.4f}'.format(f1_score(y_val, pred)))\n",
    "\n",
    "print(\"\")\n",
    "print(classification_report(y_val, pred))"
   ]
  },
  {
   "cell_type": "code",
   "execution_count": 31,
   "metadata": {
    "ExecuteTime": {
     "end_time": "2020-10-21T21:30:01.330550Z",
     "start_time": "2020-10-21T21:29:59.942509Z"
    }
   },
   "outputs": [
    {
     "name": "stdout",
     "output_type": "stream",
     "text": [
      "ROC AUC score =  0.847041058142739\n"
     ]
    },
    {
     "data": {
      "image/png": "[encoded data removed]",
      "text/plain": [
       "<Figure size 432x288 with 1 Axes>"
      ]
     },
     "metadata": {
      "needs_background": "light"
     },
     "output_type": "display_data"
    }
   ],
   "source": [
    "fpr, tpr, thresholds = roc_curve(y_val, svc.predict_proba(X_val_scaled)[:,1])\n",
    "\n",
    "plt.plot(fpr, tpr,lw=2)\n",
    "plt.plot([0,1],[0,1],c='violet',ls='--')\n",
    "plt.xlim([-0.05,1.05])\n",
    "plt.ylim([-0.05,1.05])\n",
    "\n",
    "plt.xlabel('False positive rate')\n",
    "plt.ylabel('True positive rate')\n",
    "plt.title('ROC curve');\n",
    "print(\"ROC AUC score = \", roc_auc_score(y_val, svc.predict_proba(X_val_scaled)[:,1]))"
   ]
  },
  {
   "cell_type": "code",
   "execution_count": null,
   "metadata": {},
   "outputs": [],
   "source": []
  },
  {
   "cell_type": "code",
   "execution_count": 33,
   "metadata": {
    "ExecuteTime": {
     "end_time": "2020-10-21T21:30:53.824401Z",
     "start_time": "2020-10-21T21:30:53.814209Z"
    }
   },
   "outputs": [],
   "source": [
    "# Resetting train/test split for non-scaled models\n",
    "X, X_test, y, y_test = train_test_split(X, y, test_size=.3, random_state=1234)\n",
    "\n",
    "X_train, X_val, y_train, y_val = train_test_split(X, y, test_size=.3, random_state=4)"
   ]
  },
  {
   "cell_type": "markdown",
   "metadata": {},
   "source": [
    "### GaussianNB"
   ]
  },
  {
   "cell_type": "code",
   "execution_count": 34,
   "metadata": {
    "ExecuteTime": {
     "end_time": "2020-10-21T21:30:56.129422Z",
     "start_time": "2020-10-21T21:30:56.100560Z"
    }
   },
   "outputs": [
    {
     "name": "stdout",
     "output_type": "stream",
     "text": [
      "Accuracy: 0.7100\n",
      "Precision: 0.5369\n",
      "Recall: 0.9060\n",
      "F1 Score: 0.6742\n",
      "\n",
      "              precision    recall  f1-score   support\n",
      "\n",
      "           0       0.93      0.61      0.74      2576\n",
      "           1       0.54      0.91      0.67      1276\n",
      "\n",
      "    accuracy                           0.71      3852\n",
      "   macro avg       0.73      0.76      0.71      3852\n",
      "weighted avg       0.80      0.71      0.72      3852\n",
      "\n"
     ]
    }
   ],
   "source": [
    "gnb = GaussianNB()\n",
    "gnb.fit(X_train, y_train)\n",
    "\n",
    "pred = gnb.predict(X_val)\n",
    "\n",
    "print('Accuracy: {:.4f}'.format(accuracy_score(y_val, pred)))\n",
    "print('Precision: {:.4f}'.format(precision_score(y_val, pred)))\n",
    "print('Recall: {:.4f}'.format(recall_score(y_val, pred)))\n",
    "print('F1 Score: {:.4f}'.format(f1_score(y_val, pred)))\n",
    "\n",
    "print(\"\")\n",
    "print(classification_report(y_val, pred))"
   ]
  },
  {
   "cell_type": "code",
   "execution_count": 35,
   "metadata": {
    "ExecuteTime": {
     "end_time": "2020-10-21T21:31:06.374011Z",
     "start_time": "2020-10-21T21:31:06.217702Z"
    }
   },
   "outputs": [
    {
     "name": "stdout",
     "output_type": "stream",
     "text": [
      "ROC AUC score =  0.8276221061547149\n"
     ]
    },
    {
     "data": {
      "image/png": "[encoded data removed]",
      "text/plain": [
       "<Figure size 432x288 with 1 Axes>"
      ]
     },
     "metadata": {
      "needs_background": "light"
     },
     "output_type": "display_data"
    }
   ],
   "source": [
    "fpr, tpr, thresholds = roc_curve(y_val, gnb.predict_proba(X_val)[:,1])\n",
    "\n",
    "plt.plot(fpr, tpr,lw=2)\n",
    "plt.plot([0,1],[0,1],c='violet',ls='--')\n",
    "plt.xlim([-0.05,1.05])\n",
    "plt.ylim([-0.05,1.05])\n",
    "\n",
    "plt.xlabel('False positive rate')\n",
    "plt.ylabel('True positive rate')\n",
    "plt.title('ROC curve');\n",
    "print(\"ROC AUC score = \", roc_auc_score(y_val, gnb.predict_proba(X_val)[:,1]))"
   ]
  },
  {
   "cell_type": "markdown",
   "metadata": {},
   "source": [
    "### DecisionTree"
   ]
  },
  {
   "cell_type": "code",
   "execution_count": 36,
   "metadata": {
    "ExecuteTime": {
     "end_time": "2020-10-21T21:31:29.105859Z",
     "start_time": "2020-10-21T21:31:28.972849Z"
    }
   },
   "outputs": [
    {
     "name": "stdout",
     "output_type": "stream",
     "text": [
      "Accuracy:  0.8113\n",
      "Precision: 0.7087\n",
      "Recall:    0.7304\n",
      "F1 Score:  0.7194\n",
      "\n",
      "              precision    recall  f1-score   support\n",
      "\n",
      "           0       0.86      0.85      0.86      2576\n",
      "           1       0.71      0.73      0.72      1276\n",
      "\n",
      "    accuracy                           0.81      3852\n",
      "   macro avg       0.79      0.79      0.79      3852\n",
      "weighted avg       0.81      0.81      0.81      3852\n",
      "\n"
     ]
    }
   ],
   "source": [
    "tree = DecisionTreeClassifier()\n",
    "tree.fit(X_train, y_train)\n",
    "\n",
    "pred = tree.predict(X_val)\n",
    "\n",
    "print('Accuracy:  {:.4f}'.format(accuracy_score(y_val, pred)))\n",
    "print('Precision: {:.4f}'.format(precision_score(y_val, pred)))\n",
    "print('Recall:    {:.4f}'.format(recall_score(y_val, pred)))\n",
    "print('F1 Score:  {:.4f}'.format(f1_score(y_val, pred)))\n",
    "\n",
    "print(\"\")\n",
    "print(classification_report(y_val, pred))"
   ]
  },
  {
   "cell_type": "code",
   "execution_count": 37,
   "metadata": {
    "ExecuteTime": {
     "end_time": "2020-10-21T21:31:31.836090Z",
     "start_time": "2020-10-21T21:31:31.684060Z"
    }
   },
   "outputs": [
    {
     "name": "stdout",
     "output_type": "stream",
     "text": [
      "ROC AUC score =  0.7908636996436847\n"
     ]
    },
    {
     "data": {
      "image/png": "[encoded data removed]",
      "text/plain": [
       "<Figure size 432x288 with 1 Axes>"
      ]
     },
     "metadata": {
      "needs_background": "light"
     },
     "output_type": "display_data"
    }
   ],
   "source": [
    "fpr, tpr, thresholds = roc_curve(y_val, tree.predict_proba(X_val)[:,1])\n",
    "\n",
    "plt.plot(fpr, tpr,lw=2)\n",
    "plt.plot([0,1],[0,1],c='violet',ls='--')\n",
    "plt.xlim([-0.05,1.05])\n",
    "plt.ylim([-0.05,1.05])\n",
    "\n",
    "plt.xlabel('False positive rate')\n",
    "plt.ylabel('True positive rate')\n",
    "plt.title('ROC curve');\n",
    "print(\"ROC AUC score = \", roc_auc_score(y_val, tree.predict_proba(X_val)[:,1]))"
   ]
  },
  {
   "cell_type": "markdown",
   "metadata": {},
   "source": [
    "### RandomForest"
   ]
  },
  {
   "cell_type": "code",
   "execution_count": 38,
   "metadata": {
    "ExecuteTime": {
     "end_time": "2020-10-21T21:31:51.784125Z",
     "start_time": "2020-10-21T21:31:50.451901Z"
    }
   },
   "outputs": [
    {
     "name": "stdout",
     "output_type": "stream",
     "text": [
      "Accuracy:  0.8699\n",
      "Precision: 0.8396\n",
      "Recall:    0.7508\n",
      "F1 Score:  0.7927\n",
      "\n",
      "              precision    recall  f1-score   support\n",
      "\n",
      "           0       0.88      0.93      0.91      2576\n",
      "           1       0.84      0.75      0.79      1276\n",
      "\n",
      "    accuracy                           0.87      3852\n",
      "   macro avg       0.86      0.84      0.85      3852\n",
      "weighted avg       0.87      0.87      0.87      3852\n",
      "\n"
     ]
    }
   ],
   "source": [
    "forest = RandomForestClassifier()\n",
    "forest.fit(X_train, y_train)\n",
    "\n",
    "pred = forest.predict(X_val)\n",
    "\n",
    "print('Accuracy:  {:.4f}'.format(accuracy_score(y_val, pred)))\n",
    "print('Precision: {:.4f}'.format(precision_score(y_val, pred)))\n",
    "print('Recall:    {:.4f}'.format(recall_score(y_val, pred)))\n",
    "print('F1 Score:  {:.4f}'.format(f1_score(y_val, pred)))\n",
    "\n",
    "print(\"\")\n",
    "print(classification_report(y_val, pred))"
   ]
  },
  {
   "cell_type": "code",
   "execution_count": 39,
   "metadata": {
    "ExecuteTime": {
     "end_time": "2020-10-21T21:31:57.414612Z",
     "start_time": "2020-10-21T21:31:57.146099Z"
    }
   },
   "outputs": [
    {
     "name": "stdout",
     "output_type": "stream",
     "text": [
      "ROC AUC score =  0.9248867347981853\n"
     ]
    },
    {
     "data": {
      "image/png": "[encoded data removed]",
      "text/plain": [
       "<Figure size 432x288 with 1 Axes>"
      ]
     },
     "metadata": {
      "needs_background": "light"
     },
     "output_type": "display_data"
    }
   ],
   "source": [
    "fpr, tpr, thresholds = roc_curve(y_val, forest.predict_proba(X_val)[:,1])\n",
    "\n",
    "plt.plot(fpr, tpr,lw=2)\n",
    "plt.plot([0,1],[0,1],c='violet',ls='--')\n",
    "plt.xlim([-0.05,1.05])\n",
    "plt.ylim([-0.05,1.05])\n",
    "\n",
    "plt.xlabel('False positive rate')\n",
    "plt.ylabel('True positive rate')\n",
    "plt.title('ROC curve');\n",
    "print(\"ROC AUC score = \", roc_auc_score(y_val, forest.predict_proba(X_val)[:,1]))"
   ]
  },
  {
   "cell_type": "code",
   "execution_count": null,
   "metadata": {},
   "outputs": [],
   "source": []
  },
  {
   "cell_type": "code",
   "execution_count": 41,
   "metadata": {
    "ExecuteTime": {
     "end_time": "2020-10-19T22:02:16.824552Z",
     "start_time": "2020-10-19T22:02:16.814080Z"
    }
   },
   "outputs": [
    {
     "data": {
      "text/plain": [
       "array([[4981,  337],\n",
       "       [ 636, 1908]])"
      ]
     },
     "execution_count": 41,
     "metadata": {},
     "output_type": "execute_result"
    }
   ],
   "source": [
    "# forest_cm = confusion_matrix(y_val, forest_pred)\n",
    "# forest_cm"
   ]
  },
  {
   "cell_type": "code",
   "execution_count": 42,
   "metadata": {
    "ExecuteTime": {
     "end_time": "2020-10-19T22:02:19.020949Z",
     "start_time": "2020-10-19T22:02:18.818615Z"
    }
   },
   "outputs": [
    {
     "data": {
      "image/png": "[encoded data removed]",
      "text/plain": [
       "<Figure size 576x432 with 2 Axes>"
      ]
     },
     "metadata": {
      "needs_background": "light"
     },
     "output_type": "display_data"
    }
   ],
   "source": [
    "# model = 'Random Forest'\n",
    "\n",
    "# plot_cm(forest_cm, normalize=False, target_names=['human', 'bot'], title='Confusion Matrix: {}'.format(model))"
   ]
  },
  {
   "cell_type": "code",
   "execution_count": 47,
   "metadata": {
    "ExecuteTime": {
     "end_time": "2020-10-19T22:04:30.498453Z",
     "start_time": "2020-10-19T22:04:27.492713Z"
    }
   },
   "outputs": [],
   "source": [
    "# forest_bal = RandomForestClassifier(class_weight='balanced')\n",
    "# forest_bal.fit(X_train, y_train)\n",
    "\n",
    "# forest_pred = forest_bal.predict(X_val)"
   ]
  },
  {
   "cell_type": "code",
   "execution_count": 48,
   "metadata": {
    "ExecuteTime": {
     "end_time": "2020-10-19T22:04:31.263885Z",
     "start_time": "2020-10-19T22:04:30.837583Z"
    }
   },
   "outputs": [
    {
     "name": "stdout",
     "output_type": "stream",
     "text": [
      "Training score: 0.999836\n",
      "Validation score: 0.876367\n",
      "\n",
      "Accuracy: 0.8764\n",
      "Precision: 0.8541\n",
      "Recall: 0.7453\n",
      "F1 Score: 0.7960\n",
      "\n",
      "              precision    recall  f1-score   support\n",
      "\n",
      "           0       0.89      0.94      0.91      5318\n",
      "           1       0.85      0.75      0.80      2544\n",
      "\n",
      "    accuracy                           0.88      7862\n",
      "   macro avg       0.87      0.84      0.85      7862\n",
      "weighted avg       0.88      0.88      0.87      7862\n",
      "\n"
     ]
    }
   ],
   "source": [
    "# print(\"Training score: {:.6f}\".format(forest_bal.score(X_train, y_train)))\n",
    "# print(\"Validation score: {:.6f}\".format(forest_bal.score(X_val, y_val)))\n",
    "# print(\"\")\n",
    "# print('Accuracy: {:.4f}'.format(accuracy_score(y_val, forest_pred)))\n",
    "# print('Precision: {:.4f}'.format(precision_score(y_val, forest_pred)))\n",
    "# print('Recall: {:.4f}'.format(recall_score(y_val, forest_pred)))\n",
    "# print('F1 Score: {:.4f}'.format(f1_score(y_val, forest_pred)))\n",
    "# print(\"\")\n",
    "# print(classification_report(y_val, forest_pred))"
   ]
  },
  {
   "cell_type": "code",
   "execution_count": 49,
   "metadata": {
    "ExecuteTime": {
     "end_time": "2020-10-19T22:05:07.195278Z",
     "start_time": "2020-10-19T22:05:06.987238Z"
    }
   },
   "outputs": [
    {
     "data": {
      "image/png": "[encoded data removed]",
      "text/plain": [
       "<Figure size 576x432 with 2 Axes>"
      ]
     },
     "metadata": {
      "needs_background": "light"
     },
     "output_type": "display_data"
    }
   ],
   "source": [
    "# model = 'Random Forest'\n",
    "\n",
    "# forest_cm = confusion_matrix(y_val, forest_pred)\n",
    "# forest_cm\n",
    "\n",
    "# plot_cm(forest_cm, normalize=False, target_names=['human', 'bot'], \n",
    "#         title='Confusion Matrix: {}'.format(model))"
   ]
  },
  {
   "cell_type": "code",
   "execution_count": 69,
   "metadata": {
    "ExecuteTime": {
     "end_time": "2020-10-19T22:12:21.910670Z",
     "start_time": "2020-10-19T22:12:21.669065Z"
    }
   },
   "outputs": [
    {
     "data": {
      "image/png": "[encoded data removed]",
      "text/plain": [
       "<Figure size 576x432 with 1 Axes>"
      ]
     },
     "metadata": {
      "needs_background": "light"
     },
     "output_type": "display_data"
    }
   ],
   "source": [
    "# # set up feature_importance\n",
    "# importance = forest_bal.feature_importances_\n",
    "# feature_importance = list(zip(features, importance))\n",
    "\n",
    "# feature_importance.sort(key = lambda x: x[1])\n",
    "\n",
    "# # split sorted features_importance into x,y\n",
    "# feat = [f[0] for f in feature_importance]\n",
    "# imp = [i[1]*100 for i in feature_importance]\n",
    "\n",
    "# # Plot feature importance\n",
    "# plt.figure(figsize=(8, 6))\n",
    "# plt.title('Feature Importance: RandomForest Model', fontsize=16)\n",
    "# plt.barh(feat, imp)\n",
    "# plt.xlabel('Importance Rating (%)')\n",
    "# plt.ylabel('Feature Labels');"
   ]
  },
  {
   "cell_type": "markdown",
   "metadata": {},
   "source": [
    "### XGBoost"
   ]
  },
  {
   "cell_type": "code",
   "execution_count": 40,
   "metadata": {
    "ExecuteTime": {
     "end_time": "2020-10-21T21:34:00.719768Z",
     "start_time": "2020-10-21T21:34:00.374518Z"
    }
   },
   "outputs": [
    {
     "data": {
      "text/plain": [
       "XGBClassifier(base_score=0.5, booster='gbtree', colsample_bylevel=1,\n",
       "              colsample_bynode=1, colsample_bytree=1, gamma=0, gpu_id=-1,\n",
       "              importance_type='gain', interaction_constraints='',\n",
       "              learning_rate=0.300000012, max_delta_step=0, max_depth=6,\n",
       "              min_child_weight=1, missing=nan, monotone_constraints='()',\n",
       "              n_estimators=100, n_jobs=0, num_parallel_tree=1, random_state=0,\n",
       "              reg_alpha=0, reg_lambda=1, scale_pos_weight=1, subsample=1,\n",
       "              tree_method='exact', validate_parameters=1, verbosity=None)"
      ]
     },
     "execution_count": 40,
     "metadata": {},
     "output_type": "execute_result"
    }
   ],
   "source": [
    "xgb = XGBClassifier()\n",
    "\n",
    "xgb.fit(X_train, y_train)"
   ]
  },
  {
   "cell_type": "code",
   "execution_count": 42,
   "metadata": {
    "ExecuteTime": {
     "end_time": "2020-10-21T21:34:35.935816Z",
     "start_time": "2020-10-21T21:34:35.898641Z"
    }
   },
   "outputs": [
    {
     "name": "stdout",
     "output_type": "stream",
     "text": [
      "Accuracy:  0.8686\n",
      "Precision: 0.8319\n",
      "Recall:    0.7563\n",
      "F1 Score:  0.7923\n",
      "\n",
      "              precision    recall  f1-score   support\n",
      "\n",
      "           0       0.88      0.92      0.90      2576\n",
      "           1       0.83      0.76      0.79      1276\n",
      "\n",
      "    accuracy                           0.87      3852\n",
      "   macro avg       0.86      0.84      0.85      3852\n",
      "weighted avg       0.87      0.87      0.87      3852\n",
      "\n"
     ]
    }
   ],
   "source": [
    "pred = xgb.predict(X_val)\n",
    "\n",
    "print('Accuracy:  {:.4f}'.format(accuracy_score(y_val, pred)))\n",
    "print('Precision: {:.4f}'.format(precision_score(y_val, pred)))\n",
    "print('Recall:    {:.4f}'.format(recall_score(y_val, pred)))\n",
    "print('F1 Score:  {:.4f}'.format(f1_score(y_val, pred)))\n",
    "\n",
    "print(\"\")\n",
    "print(classification_report(y_val, pred))"
   ]
  },
  {
   "cell_type": "code",
   "execution_count": 43,
   "metadata": {
    "ExecuteTime": {
     "end_time": "2020-10-21T21:34:50.559689Z",
     "start_time": "2020-10-21T21:34:50.384223Z"
    }
   },
   "outputs": [
    {
     "name": "stdout",
     "output_type": "stream",
     "text": [
      "ROC AUC score =  0.9259717746646158\n"
     ]
    },
    {
     "data": {
      "image/png": "[encoded data removed]",
      "text/plain": [
       "<Figure size 432x288 with 1 Axes>"
      ]
     },
     "metadata": {
      "needs_background": "light"
     },
     "output_type": "display_data"
    }
   ],
   "source": [
    "fpr, tpr, thresholds = roc_curve(y_val, xgb.predict_proba(X_val)[:,1])\n",
    "\n",
    "plt.plot(fpr, tpr,lw=2)\n",
    "plt.plot([0,1],[0,1],c='violet',ls='--')\n",
    "plt.xlim([-0.05,1.05])\n",
    "plt.ylim([-0.05,1.05])\n",
    "\n",
    "plt.xlabel('False positive rate')\n",
    "plt.ylabel('True positive rate')\n",
    "plt.title('ROC curve');\n",
    "print(\"ROC AUC score = \", roc_auc_score(y_val, xgb.predict_proba(X_val)[:,1]))"
   ]
  },
  {
   "cell_type": "markdown",
   "metadata": {},
   "source": [
    "**RandomForest** and **XGBoost** seem to perform the best out of the box and will the models I continue to use and tune going forward. \n",
    "\n",
    "**Next set of evaluations** \n",
    "* Oversampling methods\n",
    "    * RandomOversampler\n",
    "    * SMOTE\n",
    "    * ADASYN\n",
    "* Undersampling methods\n",
    "    * Tuning class weight parameters\n",
    "    * RandomUndersampler"
   ]
  },
  {
   "cell_type": "code",
   "execution_count": 75,
   "metadata": {
    "ExecuteTime": {
     "end_time": "2020-10-19T22:21:02.899338Z",
     "start_time": "2020-10-19T22:21:02.681181Z"
    }
   },
   "outputs": [
    {
     "data": {
      "image/png": "[encoded data removed]",
      "text/plain": [
       "<Figure size 576x432 with 2 Axes>"
      ]
     },
     "metadata": {
      "needs_background": "light"
     },
     "output_type": "display_data"
    }
   ],
   "source": [
    "# model = 'XGBoost'\n",
    "\n",
    "# xgb_cm = confusion_matrix(y_val, xgb_pred)\n",
    "\n",
    "# plot_cm(xgb_cm, normalize=False, target_names=['human', 'bot'], \n",
    "#         title='Confusion Matrix: {}'.format(model))"
   ]
  },
  {
   "cell_type": "code",
   "execution_count": null,
   "metadata": {},
   "outputs": [],
   "source": []
  },
  {
   "cell_type": "code",
   "execution_count": 77,
   "metadata": {
    "ExecuteTime": {
     "end_time": "2020-10-19T22:22:16.873037Z",
     "start_time": "2020-10-19T22:22:16.612628Z"
    }
   },
   "outputs": [
    {
     "data": {
      "image/png": "[encoded data removed]",
      "text/plain": [
       "<Figure size 576x432 with 1 Axes>"
      ]
     },
     "metadata": {
      "needs_background": "light"
     },
     "output_type": "display_data"
    }
   ],
   "source": [
    "# # set up feature_importance\n",
    "# importance = xgb.feature_importances_\n",
    "# feature_importance = list(zip(features, importance))\n",
    "\n",
    "# feature_importance.sort(key = lambda x: x[1])\n",
    "\n",
    "# # split sorted features_importance into x,y\n",
    "# feat = [f[0] for f in feature_importance]\n",
    "# imp = [i[1]*100 for i in feature_importance]\n",
    "\n",
    "# # Plot feature importance\n",
    "# plt.figure(figsize=(8, 6))\n",
    "# plt.title('Feature Importance: XGBoost', fontsize=16)\n",
    "# plt.barh(feat, imp)\n",
    "# plt.xlabel('Importance Rating (%)')\n",
    "# plt.ylabel('Feature Labels');"
   ]
  },
  {
   "cell_type": "code",
   "execution_count": null,
   "metadata": {},
   "outputs": [],
   "source": []
  },
  {
   "cell_type": "code",
   "execution_count": null,
   "metadata": {},
   "outputs": [],
   "source": []
  },
  {
   "cell_type": "code",
   "execution_count": null,
   "metadata": {},
   "outputs": [],
   "source": []
  },
  {
   "cell_type": "code",
   "execution_count": null,
   "metadata": {},
   "outputs": [],
   "source": []
  },
  {
   "cell_type": "code",
   "execution_count": null,
   "metadata": {},
   "outputs": [],
   "source": []
  },
  {
   "cell_type": "code",
   "execution_count": null,
   "metadata": {},
   "outputs": [],
   "source": []
  },
  {
   "cell_type": "code",
   "execution_count": null,
   "metadata": {},
   "outputs": [],
   "source": []
  },
  {
   "cell_type": "code",
   "execution_count": null,
   "metadata": {},
   "outputs": [],
   "source": []
  },
  {
   "cell_type": "code",
   "execution_count": null,
   "metadata": {},
   "outputs": [],
   "source": []
  },
  {
   "cell_type": "code",
   "execution_count": null,
   "metadata": {},
   "outputs": [],
   "source": []
  },
  {
   "cell_type": "code",
   "execution_count": null,
   "metadata": {},
   "outputs": [],
   "source": []
  },
  {
   "cell_type": "code",
   "execution_count": null,
   "metadata": {},
   "outputs": [],
   "source": []
  },
  {
   "cell_type": "code",
   "execution_count": null,
   "metadata": {},
   "outputs": [],
   "source": []
  },
  {
   "cell_type": "code",
   "execution_count": null,
   "metadata": {},
   "outputs": [],
   "source": []
  },
  {
   "cell_type": "code",
   "execution_count": null,
   "metadata": {},
   "outputs": [],
   "source": []
  },
  {
   "cell_type": "markdown",
   "metadata": {},
   "source": [
    "## Oversampling Methods"
   ]
  },
  {
   "cell_type": "code",
   "execution_count": 78,
   "metadata": {
    "ExecuteTime": {
     "end_time": "2020-10-19T22:28:30.115578Z",
     "start_time": "2020-10-19T22:28:30.103347Z"
    }
   },
   "outputs": [],
   "source": [
    "df2 = df.copy()"
   ]
  },
  {
   "cell_type": "code",
   "execution_count": 93,
   "metadata": {
    "ExecuteTime": {
     "end_time": "2020-10-19T22:34:52.993541Z",
     "start_time": "2020-10-19T22:34:52.988835Z"
    }
   },
   "outputs": [],
   "source": [
    "features = ['verified', \n",
    "            #'created_at',\n",
    "            #'hour_created',\n",
    "            'geo_enabled', \n",
    "            'default_profile', \n",
    "            'default_profile_image', \n",
    "            'favourites_count', \n",
    "            'followers_count', \n",
    "            'friends_count', \n",
    "            'statuses_count', \n",
    "            'average_tweets_per_day',\n",
    "            #'avg_daily_followers', \n",
    "            #'avg_daily_friends',\n",
    "            #'avg_daily_favorites',\n",
    "            'popularity', \n",
    "            'tweet_to_followers', \n",
    "            'follower_acq_rate', \n",
    "            'friends_acq_rate', \n",
    "            'favs_rate'\n",
    "           ]\n",
    "\n",
    "X = df[features]\n",
    "y = df['bot']"
   ]
  },
  {
   "cell_type": "code",
   "execution_count": 94,
   "metadata": {
    "ExecuteTime": {
     "end_time": "2020-10-19T22:34:54.202684Z",
     "start_time": "2020-10-19T22:34:54.197391Z"
    }
   },
   "outputs": [
    {
     "data": {
      "text/plain": [
       "0    25013\n",
       "1    12425\n",
       "Name: bot, dtype: int64"
      ]
     },
     "execution_count": 94,
     "metadata": {},
     "output_type": "execute_result"
    }
   ],
   "source": [
    "df2.bot.value_counts()"
   ]
  },
  {
   "cell_type": "code",
   "execution_count": 95,
   "metadata": {
    "ExecuteTime": {
     "end_time": "2020-10-19T22:34:55.879731Z",
     "start_time": "2020-10-19T22:34:55.871619Z"
    }
   },
   "outputs": [],
   "source": [
    "X, X_test, y, y_test = train_test_split(X, y, test_size=.3, random_state=1234)"
   ]
  },
  {
   "cell_type": "code",
   "execution_count": 123,
   "metadata": {
    "ExecuteTime": {
     "end_time": "2020-10-19T22:43:59.004511Z",
     "start_time": "2020-10-19T22:43:58.995422Z"
    }
   },
   "outputs": [
    {
     "data": {
      "text/plain": [
       "(Counter({0: 17420, 1: 8786}), Counter({0: 7593, 1: 3639}))"
      ]
     },
     "execution_count": 123,
     "metadata": {},
     "output_type": "execute_result"
    }
   ],
   "source": [
    "Counter(y), Counter(y_test)"
   ]
  },
  {
   "cell_type": "code",
   "execution_count": 98,
   "metadata": {
    "ExecuteTime": {
     "end_time": "2020-10-19T22:35:41.254031Z",
     "start_time": "2020-10-19T22:35:41.246970Z"
    }
   },
   "outputs": [],
   "source": [
    "X_train, X_val, y_train, y_val = train_test_split(X, y, test_size=.3, random_state=1234)"
   ]
  },
  {
   "cell_type": "code",
   "execution_count": 100,
   "metadata": {
    "ExecuteTime": {
     "end_time": "2020-10-19T22:36:07.910597Z",
     "start_time": "2020-10-19T22:36:07.903983Z"
    }
   },
   "outputs": [
    {
     "data": {
      "text/plain": [
       "(Counter({0: 12195, 1: 6149}), Counter({1: 2637, 0: 5225}))"
      ]
     },
     "execution_count": 100,
     "metadata": {},
     "output_type": "execute_result"
    }
   ],
   "source": [
    "Counter(y_train), Counter(y_val)"
   ]
  },
  {
   "cell_type": "markdown",
   "metadata": {},
   "source": [
    "### RandomOversampler"
   ]
  },
  {
   "cell_type": "code",
   "execution_count": null,
   "metadata": {},
   "outputs": [],
   "source": [
    "ros = RandomOverSampler(random_state=0)\n",
    "X_resampled, y_resampled = ros.fit_sample(X,y)"
   ]
  },
  {
   "cell_type": "code",
   "execution_count": 102,
   "metadata": {
    "ExecuteTime": {
     "end_time": "2020-10-19T22:36:19.629261Z",
     "start_time": "2020-10-19T22:36:19.622825Z"
    }
   },
   "outputs": [
    {
     "data": {
      "text/plain": [
       "Counter({0: 12195, 1: 12195})"
      ]
     },
     "execution_count": 102,
     "metadata": {},
     "output_type": "execute_result"
    }
   ],
   "source": [
    "Counter(y_resampled)"
   ]
  },
  {
   "cell_type": "markdown",
   "metadata": {},
   "source": [
    "#### Random Forest"
   ]
  },
  {
   "cell_type": "code",
   "execution_count": 109,
   "metadata": {
    "ExecuteTime": {
     "end_time": "2020-10-19T22:38:35.714062Z",
     "start_time": "2020-10-19T22:38:31.984769Z"
    }
   },
   "outputs": [],
   "source": [
    "forest = RandomForestClassifier()\n",
    "\n",
    "forest.fit(X_resampled, y_resampled)\n",
    "\n",
    "forest_pred = forest.predict(X_val)"
   ]
  },
  {
   "cell_type": "code",
   "execution_count": 110,
   "metadata": {
    "ExecuteTime": {
     "end_time": "2020-10-19T22:38:37.163197Z",
     "start_time": "2020-10-19T22:38:36.628234Z"
    }
   },
   "outputs": [
    {
     "name": "stdout",
     "output_type": "stream",
     "text": [
      "Training score: 0.999877\n",
      "Validation score: 0.866701\n",
      "\n",
      "Accuracy: 0.8667\n",
      "Precision: 0.8218\n",
      "Recall: 0.7694\n",
      "F1 Score: 0.7948\n",
      "\n",
      "              precision    recall  f1-score   support\n",
      "\n",
      "           0       0.89      0.92      0.90      5225\n",
      "           1       0.82      0.77      0.79      2637\n",
      "\n",
      "    accuracy                           0.87      7862\n",
      "   macro avg       0.85      0.84      0.85      7862\n",
      "weighted avg       0.87      0.87      0.87      7862\n",
      "\n"
     ]
    }
   ],
   "source": [
    "print(\"Training score: {:.6f}\".format(forest.score(X_resampled, y_resampled)))\n",
    "print(\"Validation score: {:.6f}\".format(forest.score(X_val, y_val)))\n",
    "print(\"\")\n",
    "print('Accuracy: {:.4f}'.format(accuracy_score(y_val, forest_pred)))\n",
    "print('Precision: {:.4f}'.format(precision_score(y_val, forest_pred)))\n",
    "print('Recall: {:.4f}'.format(recall_score(y_val, forest_pred)))\n",
    "print('F1 Score: {:.4f}'.format(f1_score(y_val, forest_pred)))\n",
    "print(\"\")\n",
    "print(classification_report(y_val, forest_pred))"
   ]
  },
  {
   "cell_type": "code",
   "execution_count": 111,
   "metadata": {
    "ExecuteTime": {
     "end_time": "2020-10-19T22:38:39.638411Z",
     "start_time": "2020-10-19T22:38:39.402656Z"
    }
   },
   "outputs": [
    {
     "data": {
      "image/png": "[encoded data removed]",
      "text/plain": [
       "<Figure size 576x432 with 2 Axes>"
      ]
     },
     "metadata": {
      "needs_background": "light"
     },
     "output_type": "display_data"
    }
   ],
   "source": [
    "model = 'Random Forest'\n",
    "\n",
    "forest_cm = confusion_matrix(y_val, forest_pred)\n",
    "forest_cm\n",
    "\n",
    "plot_cm(forest_cm, normalize=False, target_names=['human', 'bot'], \n",
    "        title='Confusion Matrix: {}'.format(model))"
   ]
  },
  {
   "cell_type": "code",
   "execution_count": 116,
   "metadata": {
    "ExecuteTime": {
     "end_time": "2020-10-19T22:40:40.324258Z",
     "start_time": "2020-10-19T22:40:40.089237Z"
    }
   },
   "outputs": [
    {
     "data": {
      "image/png": "[encoded data removed]",
      "text/plain": [
       "<Figure size 576x432 with 1 Axes>"
      ]
     },
     "metadata": {
      "needs_background": "light"
     },
     "output_type": "display_data"
    }
   ],
   "source": [
    "# set up feature_importance\n",
    "importance = forest.feature_importances_\n",
    "feature_importance = list(zip(features, importance))\n",
    "\n",
    "feature_importance.sort(key = lambda x: x[1])\n",
    "\n",
    "# split sorted features_importance into x,y\n",
    "feat = [f[0] for f in feature_importance]\n",
    "imp = [i[1]*100 for i in feature_importance]\n",
    "\n",
    "# Plot feature importance\n",
    "plt.figure(figsize=(8, 6))\n",
    "plt.title('Feature Importance: RandomForest', fontsize=16)\n",
    "plt.barh(feat, imp)\n",
    "plt.xlabel('Importance Rating (%)')\n",
    "plt.ylabel('Feature Labels');"
   ]
  },
  {
   "cell_type": "code",
   "execution_count": null,
   "metadata": {},
   "outputs": [],
   "source": []
  },
  {
   "cell_type": "markdown",
   "metadata": {},
   "source": [
    "#### XGBoost"
   ]
  },
  {
   "cell_type": "code",
   "execution_count": 112,
   "metadata": {
    "ExecuteTime": {
     "end_time": "2020-10-19T22:38:44.362745Z",
     "start_time": "2020-10-19T22:38:43.616947Z"
    }
   },
   "outputs": [
    {
     "data": {
      "text/plain": [
       "XGBClassifier(base_score=0.5, booster='gbtree', colsample_bylevel=1,\n",
       "              colsample_bynode=1, colsample_bytree=1, gamma=0, gpu_id=-1,\n",
       "              importance_type='gain', interaction_constraints='',\n",
       "              learning_rate=0.300000012, max_delta_step=0, max_depth=6,\n",
       "              min_child_weight=1, missing=nan, monotone_constraints='()',\n",
       "              n_estimators=100, n_jobs=0, num_parallel_tree=1, random_state=0,\n",
       "              reg_alpha=0, reg_lambda=1, scale_pos_weight=1, subsample=1,\n",
       "              tree_method='exact', validate_parameters=1, verbosity=None)"
      ]
     },
     "execution_count": 112,
     "metadata": {},
     "output_type": "execute_result"
    }
   ],
   "source": [
    "xgb = XGBClassifier()\n",
    "\n",
    "xgb.fit(X_resampled, y_resampled)"
   ]
  },
  {
   "cell_type": "code",
   "execution_count": 113,
   "metadata": {
    "ExecuteTime": {
     "end_time": "2020-10-19T22:38:57.894434Z",
     "start_time": "2020-10-19T22:38:57.795796Z"
    }
   },
   "outputs": [
    {
     "name": "stdout",
     "output_type": "stream",
     "text": [
      "Training score: 0.951087\n",
      "Validation score: 0.862885\n",
      "\n",
      "Accuracy: 0.8629\n",
      "Precision: 0.8004\n",
      "Recall: 0.7876\n",
      "F1 Score: 0.7940\n",
      "\n",
      "              precision    recall  f1-score   support\n",
      "\n",
      "           0       0.89      0.90      0.90      5225\n",
      "           1       0.80      0.79      0.79      2637\n",
      "\n",
      "    accuracy                           0.86      7862\n",
      "   macro avg       0.85      0.84      0.85      7862\n",
      "weighted avg       0.86      0.86      0.86      7862\n",
      "\n"
     ]
    }
   ],
   "source": [
    "xgb_pred = xgb.predict(X_val)\n",
    "\n",
    "print(\"Training score: {:.6f}\".format(xgb.score(X_resampled, y_resampled)))\n",
    "print(\"Validation score: {:.6f}\".format(xgb.score(X_val, y_val)))\n",
    "print(\"\")\n",
    "print('Accuracy: {:.4f}'.format(accuracy_score(y_val, xgb_pred)))\n",
    "print('Precision: {:.4f}'.format(precision_score(y_val, xgb_pred)))\n",
    "print('Recall: {:.4f}'.format(recall_score(y_val, xgb_pred)))\n",
    "print('F1 Score: {:.4f}'.format(f1_score(y_val, xgb_pred)))\n",
    "print(\"\")\n",
    "print(classification_report(y_val, xgb_pred))"
   ]
  },
  {
   "cell_type": "code",
   "execution_count": 131,
   "metadata": {
    "ExecuteTime": {
     "end_time": "2020-10-19T22:56:57.908718Z",
     "start_time": "2020-10-19T22:56:57.668875Z"
    }
   },
   "outputs": [
    {
     "data": {
      "image/png": "[encoded data removed]",
      "text/plain": [
       "<Figure size 576x432 with 2 Axes>"
      ]
     },
     "metadata": {
      "needs_background": "light"
     },
     "output_type": "display_data"
    }
   ],
   "source": [
    "model = 'XGBoost'\n",
    "\n",
    "xgb_cm = confusion_matrix(y_val, xgb_pred)\n",
    "\n",
    "plot_cm(xgb_cm, normalize=False, target_names=['human', 'bot'], \n",
    "        title='Confusion Matrix: {}'.format(model))"
   ]
  },
  {
   "cell_type": "code",
   "execution_count": 115,
   "metadata": {
    "ExecuteTime": {
     "end_time": "2020-10-19T22:40:26.552381Z",
     "start_time": "2020-10-19T22:40:26.293725Z"
    }
   },
   "outputs": [
    {
     "data": {
      "image/png": "[encoded data removed]",
      "text/plain": [
       "<Figure size 576x432 with 1 Axes>"
      ]
     },
     "metadata": {
      "needs_background": "light"
     },
     "output_type": "display_data"
    }
   ],
   "source": [
    "# set up feature_importance\n",
    "importance = xgb.feature_importances_\n",
    "feature_importance = list(zip(features, importance))\n",
    "\n",
    "feature_importance.sort(key = lambda x: x[1])\n",
    "\n",
    "# split sorted features_importance into x,y\n",
    "feat = [f[0] for f in feature_importance]\n",
    "imp = [i[1]*100 for i in feature_importance]\n",
    "\n",
    "# Plot feature importance\n",
    "plt.figure(figsize=(8, 6))\n",
    "plt.title('Feature Importance: XGBoost', fontsize=16)\n",
    "plt.barh(feat, imp)\n",
    "plt.xlabel('Importance Rating (%)')\n",
    "plt.ylabel('Feature Labels');"
   ]
  },
  {
   "cell_type": "markdown",
   "metadata": {},
   "source": [
    "### SMOTE"
   ]
  },
  {
   "cell_type": "code",
   "execution_count": 126,
   "metadata": {
    "ExecuteTime": {
     "end_time": "2020-10-19T22:54:34.263304Z",
     "start_time": "2020-10-19T22:54:34.156326Z"
    }
   },
   "outputs": [],
   "source": [
    "# SMOTE\n",
    "X_smoted, y_smoted = SMOTE(random_state=42).fit_sample(X_train,y_train)"
   ]
  },
  {
   "cell_type": "code",
   "execution_count": 127,
   "metadata": {
    "ExecuteTime": {
     "end_time": "2020-10-19T22:54:35.533723Z",
     "start_time": "2020-10-19T22:54:35.526792Z"
    }
   },
   "outputs": [
    {
     "data": {
      "text/plain": [
       "Counter({0: 12195, 1: 12195})"
      ]
     },
     "execution_count": 127,
     "metadata": {},
     "output_type": "execute_result"
    }
   ],
   "source": [
    "Counter(y_smoted)"
   ]
  },
  {
   "cell_type": "markdown",
   "metadata": {},
   "source": [
    "#### Random Forest"
   ]
  },
  {
   "cell_type": "code",
   "execution_count": 128,
   "metadata": {
    "ExecuteTime": {
     "end_time": "2020-10-19T22:55:18.734224Z",
     "start_time": "2020-10-19T22:55:14.470508Z"
    }
   },
   "outputs": [],
   "source": [
    "forest = RandomForestClassifier()\n",
    "\n",
    "forest.fit(X_smoted, y_smoted)\n",
    "\n",
    "forest_pred = forest.predict(X_val)"
   ]
  },
  {
   "cell_type": "code",
   "execution_count": 129,
   "metadata": {
    "ExecuteTime": {
     "end_time": "2020-10-19T22:55:35.094766Z",
     "start_time": "2020-10-19T22:55:34.519980Z"
    }
   },
   "outputs": [
    {
     "name": "stdout",
     "output_type": "stream",
     "text": [
      "Training score: 0.999918\n",
      "Validation score: 0.859705\n",
      "\n",
      "Accuracy: 0.8597\n",
      "Precision: 0.7919\n",
      "Recall: 0.7892\n",
      "F1 Score: 0.7905\n",
      "\n",
      "              precision    recall  f1-score   support\n",
      "\n",
      "           0       0.89      0.90      0.89      5225\n",
      "           1       0.79      0.79      0.79      2637\n",
      "\n",
      "    accuracy                           0.86      7862\n",
      "   macro avg       0.84      0.84      0.84      7862\n",
      "weighted avg       0.86      0.86      0.86      7862\n",
      "\n"
     ]
    }
   ],
   "source": [
    "print(\"Training score: {:.6f}\".format(forest.score(X_smoted, y_smoted)))\n",
    "print(\"Validation score: {:.6f}\".format(forest.score(X_val, y_val)))\n",
    "print(\"\")\n",
    "print('Accuracy: {:.4f}'.format(accuracy_score(y_val, forest_pred)))\n",
    "print('Precision: {:.4f}'.format(precision_score(y_val, forest_pred)))\n",
    "print('Recall: {:.4f}'.format(recall_score(y_val, forest_pred)))\n",
    "print('F1 Score: {:.4f}'.format(f1_score(y_val, forest_pred)))\n",
    "print(\"\")\n",
    "print(classification_report(y_val, forest_pred))"
   ]
  },
  {
   "cell_type": "code",
   "execution_count": 130,
   "metadata": {
    "ExecuteTime": {
     "end_time": "2020-10-19T22:56:01.142608Z",
     "start_time": "2020-10-19T22:56:00.893161Z"
    },
    "scrolled": true
   },
   "outputs": [
    {
     "data": {
      "image/png": "[encoded data removed]",
      "text/plain": [
       "<Figure size 576x432 with 2 Axes>"
      ]
     },
     "metadata": {
      "needs_background": "light"
     },
     "output_type": "display_data"
    }
   ],
   "source": [
    "model = 'Random Forest'\n",
    "\n",
    "forest_cm = confusion_matrix(y_val, forest_pred)\n",
    "forest_cm\n",
    "\n",
    "plot_cm(forest_cm, normalize=False, target_names=['human', 'bot'], \n",
    "        title='Confusion Matrix: {}'.format(model))"
   ]
  },
  {
   "cell_type": "markdown",
   "metadata": {},
   "source": [
    "#### XGBoost"
   ]
  },
  {
   "cell_type": "code",
   "execution_count": 142,
   "metadata": {
    "ExecuteTime": {
     "end_time": "2020-10-19T23:02:04.160441Z",
     "start_time": "2020-10-19T23:02:03.394565Z"
    }
   },
   "outputs": [
    {
     "data": {
      "text/plain": [
       "XGBClassifier(base_score=0.5, booster='gbtree', colsample_bylevel=1,\n",
       "              colsample_bynode=1, colsample_bytree=1, gamma=0, gpu_id=-1,\n",
       "              importance_type='gain', interaction_constraints='',\n",
       "              learning_rate=0.300000012, max_delta_step=0, max_depth=6,\n",
       "              min_child_weight=1, missing=nan, monotone_constraints='()',\n",
       "              n_estimators=100, n_jobs=0, num_parallel_tree=1, random_state=0,\n",
       "              reg_alpha=0, reg_lambda=1, scale_pos_weight=1, subsample=1,\n",
       "              tree_method='exact', validate_parameters=1, verbosity=None)"
      ]
     },
     "execution_count": 142,
     "metadata": {},
     "output_type": "execute_result"
    }
   ],
   "source": [
    "xgb = XGBClassifier()\n",
    "\n",
    "xgb.fit(X_smoted, y_smoted)"
   ]
  },
  {
   "cell_type": "code",
   "execution_count": 143,
   "metadata": {
    "ExecuteTime": {
     "end_time": "2020-10-19T23:02:05.821976Z",
     "start_time": "2020-10-19T23:02:05.730354Z"
    },
    "scrolled": true
   },
   "outputs": [
    {
     "name": "stdout",
     "output_type": "stream",
     "text": [
      "Training score: 0.948380\n",
      "Validation score: 0.860850\n",
      "\n",
      "Accuracy: 0.8608\n",
      "Precision: 0.7880\n",
      "Recall: 0.8005\n",
      "F1 Score: 0.7942\n",
      "\n",
      "              precision    recall  f1-score   support\n",
      "\n",
      "           0       0.90      0.89      0.89      5225\n",
      "           1       0.79      0.80      0.79      2637\n",
      "\n",
      "    accuracy                           0.86      7862\n",
      "   macro avg       0.84      0.85      0.84      7862\n",
      "weighted avg       0.86      0.86      0.86      7862\n",
      "\n"
     ]
    }
   ],
   "source": [
    "xgb_pred = xgb.predict(X_val)\n",
    "\n",
    "print(\"Training score: {:.6f}\".format(xgb.score(X_smoted, y_smoted)))\n",
    "print(\"Validation score: {:.6f}\".format(xgb.score(X_val, y_val)))\n",
    "print(\"\")\n",
    "print('Accuracy: {:.4f}'.format(accuracy_score(y_val, xgb_pred)))\n",
    "print('Precision: {:.4f}'.format(precision_score(y_val, xgb_pred)))\n",
    "print('Recall: {:.4f}'.format(recall_score(y_val, xgb_pred)))\n",
    "print('F1 Score: {:.4f}'.format(f1_score(y_val, xgb_pred)))\n",
    "print(\"\")\n",
    "print(classification_report(y_val, xgb_pred))"
   ]
  },
  {
   "cell_type": "code",
   "execution_count": 144,
   "metadata": {
    "ExecuteTime": {
     "end_time": "2020-10-19T23:02:07.791624Z",
     "start_time": "2020-10-19T23:02:07.559374Z"
    }
   },
   "outputs": [
    {
     "data": {
      "image/png": "[encoded data removed]",
      "text/plain": [
       "<Figure size 576x432 with 2 Axes>"
      ]
     },
     "metadata": {
      "needs_background": "light"
     },
     "output_type": "display_data"
    }
   ],
   "source": [
    "model = 'XGBoost'\n",
    "\n",
    "xgb_cm = confusion_matrix(y_val, xgb_pred)\n",
    "\n",
    "plot_cm(xgb_cm, normalize=False, target_names=['human', 'bot'], \n",
    "        title='Confusion Matrix: {}'.format(model))"
   ]
  },
  {
   "cell_type": "code",
   "execution_count": null,
   "metadata": {},
   "outputs": [],
   "source": []
  },
  {
   "cell_type": "markdown",
   "metadata": {},
   "source": [
    "### ADASYN"
   ]
  },
  {
   "cell_type": "code",
   "execution_count": 134,
   "metadata": {
    "ExecuteTime": {
     "end_time": "2020-10-19T22:58:51.240777Z",
     "start_time": "2020-10-19T22:58:51.036853Z"
    }
   },
   "outputs": [],
   "source": [
    "X_adasyn, y_adasyn = ADASYN(random_state=42).fit_sample(X_train, y_train)"
   ]
  },
  {
   "cell_type": "code",
   "execution_count": 135,
   "metadata": {
    "ExecuteTime": {
     "end_time": "2020-10-19T22:59:02.865154Z",
     "start_time": "2020-10-19T22:59:02.858305Z"
    }
   },
   "outputs": [
    {
     "data": {
      "text/plain": [
       "Counter({0: 12195, 1: 12248})"
      ]
     },
     "execution_count": 135,
     "metadata": {},
     "output_type": "execute_result"
    }
   ],
   "source": [
    "Counter(y_adasyn)"
   ]
  },
  {
   "cell_type": "markdown",
   "metadata": {},
   "source": [
    "#### RandomForest"
   ]
  },
  {
   "cell_type": "code",
   "execution_count": 136,
   "metadata": {
    "ExecuteTime": {
     "end_time": "2020-10-19T22:59:45.581156Z",
     "start_time": "2020-10-19T22:59:41.139119Z"
    }
   },
   "outputs": [],
   "source": [
    "forest = RandomForestClassifier()\n",
    "\n",
    "forest.fit(X_adasyn, y_adasyn)\n",
    "\n",
    "forest_pred = forest.predict(X_val)"
   ]
  },
  {
   "cell_type": "code",
   "execution_count": 137,
   "metadata": {
    "ExecuteTime": {
     "end_time": "2020-10-19T23:00:02.440451Z",
     "start_time": "2020-10-19T23:00:01.826150Z"
    }
   },
   "outputs": [
    {
     "name": "stdout",
     "output_type": "stream",
     "text": [
      "Training score: 0.999918\n",
      "Validation score: 0.846095\n",
      "\n",
      "Accuracy: 0.8461\n",
      "Precision: 0.7468\n",
      "Recall: 0.8187\n",
      "F1 Score: 0.7811\n",
      "\n",
      "              precision    recall  f1-score   support\n",
      "\n",
      "           0       0.90      0.86      0.88      5225\n",
      "           1       0.75      0.82      0.78      2637\n",
      "\n",
      "    accuracy                           0.85      7862\n",
      "   macro avg       0.83      0.84      0.83      7862\n",
      "weighted avg       0.85      0.85      0.85      7862\n",
      "\n"
     ]
    }
   ],
   "source": [
    "print(\"Training score: {:.6f}\".format(forest.score(X_adasyn, y_adasyn)))\n",
    "print(\"Validation score: {:.6f}\".format(forest.score(X_val, y_val)))\n",
    "print(\"\")\n",
    "print('Accuracy: {:.4f}'.format(accuracy_score(y_val, forest_pred)))\n",
    "print('Precision: {:.4f}'.format(precision_score(y_val, forest_pred)))\n",
    "print('Recall: {:.4f}'.format(recall_score(y_val, forest_pred)))\n",
    "print('F1 Score: {:.4f}'.format(f1_score(y_val, forest_pred)))\n",
    "print(\"\")\n",
    "print(classification_report(y_val, forest_pred))"
   ]
  },
  {
   "cell_type": "code",
   "execution_count": 138,
   "metadata": {
    "ExecuteTime": {
     "end_time": "2020-10-19T23:00:25.353026Z",
     "start_time": "2020-10-19T23:00:25.112674Z"
    }
   },
   "outputs": [
    {
     "data": {
      "image/png": "[encoded data removed]",
      "text/plain": [
       "<Figure size 576x432 with 2 Axes>"
      ]
     },
     "metadata": {
      "needs_background": "light"
     },
     "output_type": "display_data"
    }
   ],
   "source": [
    "model = 'Random Forest'\n",
    "\n",
    "forest_cm = confusion_matrix(y_val, forest_pred)\n",
    "forest_cm\n",
    "\n",
    "plot_cm(forest_cm, normalize=False, target_names=['human', 'bot'], \n",
    "        title='Confusion Matrix: {}'.format(model))"
   ]
  },
  {
   "cell_type": "markdown",
   "metadata": {},
   "source": [
    "#### XGBoost"
   ]
  },
  {
   "cell_type": "code",
   "execution_count": 139,
   "metadata": {
    "ExecuteTime": {
     "end_time": "2020-10-19T23:00:46.746324Z",
     "start_time": "2020-10-19T23:00:45.939324Z"
    },
    "scrolled": true
   },
   "outputs": [
    {
     "data": {
      "text/plain": [
       "XGBClassifier(base_score=0.5, booster='gbtree', colsample_bylevel=1,\n",
       "              colsample_bynode=1, colsample_bytree=1, gamma=0, gpu_id=-1,\n",
       "              importance_type='gain', interaction_constraints='',\n",
       "              learning_rate=0.300000012, max_delta_step=0, max_depth=6,\n",
       "              min_child_weight=1, missing=nan, monotone_constraints='()',\n",
       "              n_estimators=100, n_jobs=0, num_parallel_tree=1, random_state=0,\n",
       "              reg_alpha=0, reg_lambda=1, scale_pos_weight=1, subsample=1,\n",
       "              tree_method='exact', validate_parameters=1, verbosity=None)"
      ]
     },
     "execution_count": 139,
     "metadata": {},
     "output_type": "execute_result"
    }
   ],
   "source": [
    "xgb = XGBClassifier()\n",
    "\n",
    "xgb.fit(X_adasyn, y_adasyn)"
   ]
  },
  {
   "cell_type": "code",
   "execution_count": 140,
   "metadata": {
    "ExecuteTime": {
     "end_time": "2020-10-19T23:01:11.931235Z",
     "start_time": "2020-10-19T23:01:11.825261Z"
    }
   },
   "outputs": [
    {
     "name": "stdout",
     "output_type": "stream",
     "text": [
      "Training score: 0.937201\n",
      "Validation score: 0.846350\n",
      "\n",
      "Accuracy: 0.8463\n",
      "Precision: 0.7468\n",
      "Recall: 0.8199\n",
      "F1 Score: 0.7816\n",
      "\n",
      "              precision    recall  f1-score   support\n",
      "\n",
      "           0       0.90      0.86      0.88      5225\n",
      "           1       0.75      0.82      0.78      2637\n",
      "\n",
      "    accuracy                           0.85      7862\n",
      "   macro avg       0.83      0.84      0.83      7862\n",
      "weighted avg       0.85      0.85      0.85      7862\n",
      "\n"
     ]
    }
   ],
   "source": [
    "xgb_pred = xgb.predict(X_val)\n",
    "\n",
    "print(\"Training score: {:.6f}\".format(xgb.score(X_adasyn, y_adasyn)))\n",
    "print(\"Validation score: {:.6f}\".format(xgb.score(X_val, y_val)))\n",
    "print(\"\")\n",
    "print('Accuracy: {:.4f}'.format(accuracy_score(y_val, xgb_pred)))\n",
    "print('Precision: {:.4f}'.format(precision_score(y_val, xgb_pred)))\n",
    "print('Recall: {:.4f}'.format(recall_score(y_val, xgb_pred)))\n",
    "print('F1 Score: {:.4f}'.format(f1_score(y_val, xgb_pred)))\n",
    "print(\"\")\n",
    "print(classification_report(y_val, xgb_pred))"
   ]
  },
  {
   "cell_type": "code",
   "execution_count": 141,
   "metadata": {
    "ExecuteTime": {
     "end_time": "2020-10-19T23:01:39.329762Z",
     "start_time": "2020-10-19T23:01:39.087712Z"
    }
   },
   "outputs": [
    {
     "data": {
      "image/png": "[encoded data removed]",
      "text/plain": [
       "<Figure size 576x432 with 2 Axes>"
      ]
     },
     "metadata": {
      "needs_background": "light"
     },
     "output_type": "display_data"
    }
   ],
   "source": [
    "model = 'XGBoost'\n",
    "\n",
    "xgb_cm = confusion_matrix(y_val, xgb_pred)\n",
    "\n",
    "plot_cm(xgb_cm, normalize=False, target_names=['human', 'bot'], \n",
    "        title='Confusion Matrix: {}'.format(model))"
   ]
  },
  {
   "cell_type": "code",
   "execution_count": null,
   "metadata": {},
   "outputs": [],
   "source": []
  },
  {
   "cell_type": "code",
   "execution_count": null,
   "metadata": {},
   "outputs": [],
   "source": []
  }
 ],
 "metadata": {
  "kernelspec": {
   "display_name": "Python [conda env:metis] *",
   "language": "python",
   "name": "conda-env-metis-py"
  },
  "language_info": {
   "codemirror_mode": {
    "name": "ipython",
    "version": 3
   },
   "file_extension": ".py",
   "mimetype": "text/x-python",
   "name": "python",
   "nbconvert_exporter": "python",
   "pygments_lexer": "ipython3",
   "version": "3.8.5"
  },
  "toc": {
   "base_numbering": 1,
   "nav_menu": {},
   "number_sections": true,
   "sideBar": true,
   "skip_h1_title": false,
   "title_cell": "Table of Contents",
   "title_sidebar": "Contents",
   "toc_cell": false,
   "toc_position": {
    "height": "calc(100% - 180px)",
    "left": "10px",
    "top": "150px",
    "width": "300px"
   },
   "toc_section_display": true,
   "toc_window_display": true
  },
  "varInspector": {
   "cols": {
    "lenName": 16,
    "lenType": 16,
    "lenVar": 40
   },
   "kernels_config": {
    "python": {
     "delete_cmd_postfix": "",
     "delete_cmd_prefix": "del ",
     "library": "var_list.py",
     "varRefreshCmd": "print(var_dic_list())"
    },
    "r": {
     "delete_cmd_postfix": ") ",
     "delete_cmd_prefix": "rm(",
     "library": "var_list.r",
     "varRefreshCmd": "cat(var_dic_list()) "
    }
   },
   "types_to_exclude": [
    "module",
    "function",
    "builtin_function_or_method",
    "instance",
    "_Feature"
   ],
   "window_display": false
  }
 },
 "nbformat": 4,
 "nbformat_minor": 4
}
