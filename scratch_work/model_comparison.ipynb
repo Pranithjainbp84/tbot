{
 "cells": [
  {
   "cell_type": "markdown",
   "metadata": {},
   "source": [
    "# Twitter Bot or Not?\n",
    "\n",
    "Model Comparison: \n",
    "* RandomForest \n",
    "* XGBoost\n",
    "\n",
    "Oversampling Method Comparison: \n",
    "* None\n",
    "* RandomOversampler\n",
    "* SMOTE\n",
    "* ADASYN"
   ]
  },
  {
   "cell_type": "code",
   "execution_count": 90,
   "metadata": {
    "ExecuteTime": {
     "end_time": "2020-10-20T23:27:13.039702Z",
     "start_time": "2020-10-20T23:27:13.032946Z"
    }
   },
   "outputs": [],
   "source": [
    "# Basics\n",
    "import pandas as pd\n",
    "import numpy as np\n",
    "from collections import Counter\n",
    "\n",
    "# Visuals\n",
    "import matplotlib.pyplot as plt\n",
    "%matplotlib inline\n",
    "import seaborn as sns\n",
    "from visualize import *\n",
    "\n",
    "# Models\n",
    "from sklearn.ensemble import RandomForestClassifier\n",
    "from xgboost import XGBClassifier\n",
    "\n",
    "# Model support\n",
    "from sklearn.model_selection import (train_test_split, cross_val_score, learning_curve, \n",
    "                                    KFold, StratifiedKFold, GridSearchCV)\n",
    "from sklearn.metrics import mean_squared_error, r2_score\n",
    "from sklearn.preprocessing import StandardScaler\n",
    "from sklearn.metrics import (accuracy_score, classification_report, confusion_matrix, f1_score, make_scorer,\n",
    "                             plot_confusion_matrix, precision_score, recall_score, roc_auc_score, roc_curve)\n",
    "from imblearn.over_sampling import RandomOverSampler, SMOTE, ADASYN"
   ]
  },
  {
   "cell_type": "markdown",
   "metadata": {},
   "source": [
    "## Data import and setup"
   ]
  },
  {
   "cell_type": "code",
   "execution_count": 2,
   "metadata": {
    "ExecuteTime": {
     "end_time": "2020-10-20T21:34:36.580897Z",
     "start_time": "2020-10-20T21:34:36.237341Z"
    }
   },
   "outputs": [],
   "source": [
    "raw_df = pd.read_csv('data_files/twitter_human_bots_dataset.csv.zip', index_col=False)\n",
    "\n",
    "# drop funny index column\n",
    "raw_df.drop(columns=['Unnamed: 0'], inplace=True)\n",
    "\n",
    "# Binary classifications for bots and boolean values\n",
    "raw_df['bot'] = raw_df['account_type'].apply(lambda x: 1 if x == 'bot' else 0)\n",
    "raw_df['default_profile'] = raw_df['default_profile'].astype(int)\n",
    "raw_df['default_profile'] = raw_df['default_profile'].astype(int)\n",
    "raw_df['default_profile_image'] = raw_df['default_profile_image'].astype(int)\n",
    "raw_df['geo_enabled'] = raw_df['geo_enabled'].astype(int)\n",
    "raw_df['verified'] = raw_df['verified'].astype(int)\n",
    "\n",
    "# datetime conversion\n",
    "raw_df['created_at'] = pd.to_datetime(raw_df['created_at'])\n",
    "# hour created\n",
    "raw_df['hour_created'] = pd.to_datetime(raw_df['created_at']).dt.hour\n",
    "\n"
   ]
  },
  {
   "cell_type": "code",
   "execution_count": 3,
   "metadata": {
    "ExecuteTime": {
     "end_time": "2020-10-20T21:34:36.592363Z",
     "start_time": "2020-10-20T21:34:36.582944Z"
    }
   },
   "outputs": [],
   "source": [
    "# usable df setup\n",
    "df = raw_df[['bot', 'screen_name', 'created_at', 'hour_created', 'verified', 'location', 'geo_enabled', 'lang', 'default_profile', \n",
    "              'default_profile_image', 'favourites_count', 'followers_count', 'friends_count', 'statuses_count',\n",
    "             'average_tweets_per_day', 'account_age_days']]"
   ]
  },
  {
   "cell_type": "code",
   "execution_count": 4,
   "metadata": {
    "ExecuteTime": {
     "end_time": "2020-10-20T21:34:36.619402Z",
     "start_time": "2020-10-20T21:34:36.594064Z"
    }
   },
   "outputs": [
    {
     "name": "stderr",
     "output_type": "stream",
     "text": [
      "<ipython-input-4-f05b6e00d5a8>:2: SettingWithCopyWarning: \n",
      "A value is trying to be set on a copy of a slice from a DataFrame.\n",
      "Try using .loc[row_indexer,col_indexer] = value instead\n",
      "\n",
      "See the caveats in the documentation: https://pandas.pydata.org/pandas-docs/stable/user_guide/indexing.html#returning-a-view-versus-a-copy\n",
      "  df['avg_daily_followers'] = np.round(df['followers_count'] / df['account_age_days'])\n",
      "<ipython-input-4-f05b6e00d5a8>:3: SettingWithCopyWarning: \n",
      "A value is trying to be set on a copy of a slice from a DataFrame.\n",
      "Try using .loc[row_indexer,col_indexer] = value instead\n",
      "\n",
      "See the caveats in the documentation: https://pandas.pydata.org/pandas-docs/stable/user_guide/indexing.html#returning-a-view-versus-a-copy\n",
      "  df['avg_daily_friends'] = np.round(df['followers_count'] / df['account_age_days'])\n",
      "<ipython-input-4-f05b6e00d5a8>:4: SettingWithCopyWarning: \n",
      "A value is trying to be set on a copy of a slice from a DataFrame.\n",
      "Try using .loc[row_indexer,col_indexer] = value instead\n",
      "\n",
      "See the caveats in the documentation: https://pandas.pydata.org/pandas-docs/stable/user_guide/indexing.html#returning-a-view-versus-a-copy\n",
      "  df['avg_daily_favorites'] = np.round(df['followers_count'] / df['account_age_days'])\n",
      "<ipython-input-4-f05b6e00d5a8>:7: SettingWithCopyWarning: \n",
      "A value is trying to be set on a copy of a slice from a DataFrame.\n",
      "Try using .loc[row_indexer,col_indexer] = value instead\n",
      "\n",
      "See the caveats in the documentation: https://pandas.pydata.org/pandas-docs/stable/user_guide/indexing.html#returning-a-view-versus-a-copy\n",
      "  df['friends_log'] = np.round(np.log(1 + df['friends_count']), 3)\n"
     ]
    }
   ],
   "source": [
    "# Interesting features to look at: \n",
    "df['avg_daily_followers'] = np.round(df['followers_count'] / df['account_age_days'])\n",
    "df['avg_daily_friends'] = np.round(df['followers_count'] / df['account_age_days'])\n",
    "df['avg_daily_favorites'] = np.round(df['followers_count'] / df['account_age_days'])\n",
    "\n",
    "# Log transformations for highly skewed data\n",
    "df['friends_log'] = np.round(np.log(1 + df['friends_count']), 3)\n",
    "df['followers_log'] = np.round(np.log(1 + df['followers_count']), 3)\n",
    "df['favs_log'] = np.round(np.log(1 + df['favourites_count']), 3)\n",
    "df['avg_daily_tweets_log'] = np.round(np.log(1+ df['average_tweets_per_day']), 3)\n",
    "\n",
    "# Possible popularity metrics\n",
    "df['popularity'] = np.round(df['friends_log'] * df['followers_log'], 3)\n",
    "df['tweet_to_followers'] = np.round(np.log( 1+ df['statuses_count']) * np.log(1+ df['followers_count']), 3)\n",
    "\n",
    "# Log-transformed daily acquisition metrics for dist. plots\n",
    "df['follower_acq_rate'] = np.round(np.log(1 + (df['followers_count'] / df['account_age_days'])), 3)\n",
    "df['friends_acq_rate'] = np.round(np.log(1 + (df['friends_count'] / df['account_age_days'])), 3)\n",
    "df['favs_rate'] = np.round(np.log(1 + (df['friends_count'] / df['account_age_days'])), 3)"
   ]
  },
  {
   "cell_type": "code",
   "execution_count": 5,
   "metadata": {
    "ExecuteTime": {
     "end_time": "2020-10-20T21:34:36.626366Z",
     "start_time": "2020-10-20T21:34:36.620996Z"
    }
   },
   "outputs": [],
   "source": [
    "del raw_df"
   ]
  },
  {
   "cell_type": "code",
   "execution_count": 6,
   "metadata": {
    "ExecuteTime": {
     "end_time": "2020-10-20T21:34:36.650635Z",
     "start_time": "2020-10-20T21:34:36.629555Z"
    }
   },
   "outputs": [
    {
     "name": "stdout",
     "output_type": "stream",
     "text": [
      "Number of bots:  12425\n",
      "Number of humans:  25013\n",
      "Bots / Total %:  33.18820449810353\n"
     ]
    }
   ],
   "source": [
    "num_bots = len(df[df['bot'] == 1])\n",
    "num_humans = len(df[df['bot'] == 0])\n",
    "\n",
    "print(\"Number of bots: \", num_bots)\n",
    "print(\"Number of humans: \", num_humans)\n",
    "print(\"Bots / Total %: \", (num_bots / len(df)) * 100)"
   ]
  },
  {
   "cell_type": "code",
   "execution_count": 129,
   "metadata": {
    "ExecuteTime": {
     "end_time": "2020-10-21T00:11:03.267074Z",
     "start_time": "2020-10-21T00:11:03.255898Z"
    }
   },
   "outputs": [],
   "source": [
    "features = ['verified', \n",
    "            #'created_at',\n",
    "            #'hour_created',\n",
    "            'geo_enabled', \n",
    "            'default_profile', \n",
    "            'default_profile_image', \n",
    "            'favourites_count', \n",
    "            'followers_count', \n",
    "            'friends_count', \n",
    "            'statuses_count', \n",
    "            'average_tweets_per_day',\n",
    "            #'avg_daily_followers', \n",
    "            #'avg_daily_friends',\n",
    "            #'avg_daily_favorites',\n",
    "            'popularity', \n",
    "            'tweet_to_followers', \n",
    "            'follower_acq_rate', \n",
    "            'friends_acq_rate', \n",
    "            'favs_rate'\n",
    "           ]\n",
    "\n",
    "X = df[features]\n",
    "y = df['bot']\n",
    "\n",
    "X, X_test, y, y_test = train_test_split(X, y, test_size=.3, random_state=34)"
   ]
  },
  {
   "cell_type": "code",
   "execution_count": null,
   "metadata": {},
   "outputs": [],
   "source": []
  },
  {
   "cell_type": "code",
   "execution_count": null,
   "metadata": {},
   "outputs": [],
   "source": []
  },
  {
   "cell_type": "markdown",
   "metadata": {},
   "source": [
    "## No Oversampling"
   ]
  },
  {
   "cell_type": "code",
   "execution_count": 130,
   "metadata": {
    "ExecuteTime": {
     "end_time": "2020-10-21T00:11:15.575561Z",
     "start_time": "2020-10-21T00:11:05.123332Z"
    }
   },
   "outputs": [
    {
     "name": "stdout",
     "output_type": "stream",
     "text": [
      "RandomForest\n",
      "------------\n",
      "Accuracy:  0.87327 +- 0.003574\n",
      "Precision: 0.85106 +- 0.003062\n",
      "Recall:    0.75007 +- 0.013341\n",
      "F1 Score:  0.79729 +- 0.006354\n",
      "ROC AUC:   0.92615 +- 0.004390\n",
      "\n",
      "XGBoost\n",
      "-------\n",
      "Accuracy:  0.87373 +- 0.003636\n",
      "Precision: 0.84463 +- 0.002626\n",
      "Recall:    0.75992 +- 0.015917\n",
      "F1 Score:  0.79993 +- 0.007712\n",
      "ROC AUC:   0.92685 +- 0.002910\n"
     ]
    }
   ],
   "source": [
    "kf = KFold(n_splits=3, shuffle=True, random_state=33)\n",
    "\n",
    "forest_acc, forest_prec, forest_rec, forest_f1, forest_roc_auc = [], [], [], [], []\n",
    "xgb_acc, xgb_prec, xgb_rec, xgb_f1, xgb_roc_auc = [], [], [], [], []\n",
    "\n",
    "X_kf, y_kf = np.array(X), np.array(y)\n",
    "\n",
    "for train_ind, val_ind in kf.split(X, y):\n",
    "\n",
    "    X_train, y_train = X_kf[train_ind], y_kf[train_ind]\n",
    "    X_val, y_val = X_kf[val_ind], y_kf[val_ind]\n",
    "\n",
    "    # Random Forest\n",
    "    forest = RandomForestClassifier()\n",
    "    forest.fit(X_train, y_train)\n",
    "    forest_pred = forest.predict(X_val)\n",
    "\n",
    "    forest_acc.append(accuracy_score(y_val, forest_pred))\n",
    "    forest_prec.append(precision_score(y_val, forest_pred))\n",
    "    forest_rec.append(recall_score(y_val, forest_pred))\n",
    "    forest_f1.append(f1_score(y_val, forest_pred))\n",
    "    forest_roc_auc.append(roc_auc_score(y_val, forest.predict_proba(X_val)[:,1]))\n",
    "\n",
    "    # XGBoost\n",
    "    xgb = XGBClassifier()\n",
    "    xgb.fit(X_train, y_train)\n",
    "    xgb_pred = xgb.predict(X_val)\n",
    "\n",
    "    xgb_acc.append(accuracy_score(y_val, xgb_pred))\n",
    "    xgb_prec.append(precision_score(y_val, xgb_pred))\n",
    "    xgb_rec.append(recall_score(y_val, xgb_pred))\n",
    "    xgb_f1.append(f1_score(y_val, xgb_pred))\n",
    "    xgb_roc_auc.append(roc_auc_score(y_val, xgb.predict_proba(X_val)[:,1]))\n",
    "\n",
    "\n",
    "print(\"RandomForest\")\n",
    "print(\"------------\")\n",
    "print(f'Accuracy:  {np.mean(forest_acc):.5f} +- {np.std(forest_acc):5f}')\n",
    "print(f'Precision: {np.mean(forest_prec):.5f} +- {np.std(forest_prec):5f}')\n",
    "print(f'Recall:    {np.mean(forest_rec):.5f} +- {np.std(forest_rec):5f}')\n",
    "print(f'F1 Score:  {np.mean(forest_f1):.5f} +- {np.std(forest_f1):5f}')\n",
    "print(f'ROC AUC:   {np.mean(forest_roc_auc):.5f} +- {np.std(forest_roc_auc):5f}')\n",
    "print(\"\")\n",
    "print(\"XGBoost\")\n",
    "print(\"-------\")\n",
    "print(f'Accuracy:  {np.mean(xgb_acc):.5f} +- {np.std(xgb_acc):5f}')\n",
    "print(f'Precision: {np.mean(xgb_prec):.5f} +- {np.std(xgb_prec):5f}')\n",
    "print(f'Recall:    {np.mean(xgb_rec):.5f} +- {np.std(xgb_rec):5f}')\n",
    "print(f'F1 Score:  {np.mean(xgb_f1):.5f} +- {np.std(xgb_f1):5f}')\n",
    "print(f'ROC AUC:   {np.mean(xgb_roc_auc):.5f} +- {np.std(xgb_roc_auc):5f}')"
   ]
  },
  {
   "cell_type": "code",
   "execution_count": null,
   "metadata": {},
   "outputs": [],
   "source": []
  },
  {
   "cell_type": "markdown",
   "metadata": {},
   "source": [
    "## SMOTE"
   ]
  },
  {
   "cell_type": "code",
   "execution_count": 131,
   "metadata": {
    "ExecuteTime": {
     "end_time": "2020-10-21T00:11:42.043329Z",
     "start_time": "2020-10-21T00:11:16.055117Z"
    }
   },
   "outputs": [
    {
     "name": "stdout",
     "output_type": "stream",
     "text": [
      "RandomForest\n",
      "------------\n",
      "Accuracy:  0.87036 +- 0.003810\n",
      "Precision: 0.82851 +- 0.019905\n",
      "Recall:    0.76956 +- 0.018904\n",
      "F1 Score:  0.79753 +- 0.007001\n",
      "ROC AUC:   0.92606 +- 0.003713\n",
      "\n",
      "XGBoost\n",
      "-------\n",
      "Accuracy:  0.87259 +- 0.002498\n",
      "Precision: 0.82089 +- 0.006591\n",
      "Recall:    0.78777 +- 0.008624\n",
      "F1 Score:  0.80395 +- 0.005084\n",
      "ROC AUC:   0.92863 +- 0.003112\n"
     ]
    }
   ],
   "source": [
    "kf = KFold(n_splits=5, shuffle=True, random_state=614)\n",
    "\n",
    "xgb_acc, xgb_prec, xgb_rec, xgb_f1, xgb_roc_auc = [], [], [], [], []\n",
    "\n",
    "X_kf, y_kf = np.array(X), np.array(y)\n",
    "\n",
    "for train_ind, val_ind in kf.split(X_smoted, y_smoted):\n",
    "\n",
    "    X_train, y_train = X_kf[train_ind], y_kf[train_ind]\n",
    "    X_val, y_val = X_kf[val_ind], y_kf[val_ind]\n",
    "    \n",
    "    # SMOTE training values\n",
    "    X_train_smoted, y_train_smoted = SMOTE(random_state=2049).fit_sample(X_train, y_train)\n",
    "    \n",
    "    # Random Forest\n",
    "    forest = RandomForestClassifier()\n",
    "    forest.fit(X_train_smoted, y_train_smoted)\n",
    "    forest_pred = forest.predict(X_val)\n",
    "\n",
    "    forest_acc.append(accuracy_score(y_val, forest_pred))\n",
    "    forest_prec.append(precision_score(y_val, forest_pred))\n",
    "    forest_rec.append(recall_score(y_val, forest_pred))\n",
    "    forest_f1.append(f1_score(y_val, forest_pred))\n",
    "    forest_roc_auc.append(roc_auc_score(y_val, forest.predict_proba(X_val)[:,1]))\n",
    "\n",
    "    # XGBoost\n",
    "    xgb = XGBClassifier()\n",
    "    xgb.fit(X_train_smoted, y_train_smoted)\n",
    "    xgb_pred = xgb.predict(X_val)\n",
    "\n",
    "    xgb_acc.append(accuracy_score(y_val, xgb_pred))\n",
    "    xgb_prec.append(precision_score(y_val, xgb_pred))\n",
    "    xgb_rec.append(recall_score(y_val, xgb_pred))\n",
    "    xgb_f1.append(f1_score(y_val, xgb_pred))\n",
    "    xgb_roc_auc.append(roc_auc_score(y_val, xgb.predict_proba(X_val)[:,1]))\n",
    "\n",
    "\n",
    "print(\"RandomForest\")\n",
    "print(\"------------\")\n",
    "print(f'Accuracy:  {np.mean(forest_acc):.5f} +- {np.std(forest_acc):5f}')\n",
    "print(f'Precision: {np.mean(forest_prec):.5f} +- {np.std(forest_prec):5f}')\n",
    "print(f'Recall:    {np.mean(forest_rec):.5f} +- {np.std(forest_rec):5f}')\n",
    "print(f'F1 Score:  {np.mean(forest_f1):.5f} +- {np.std(forest_f1):5f}')\n",
    "print(f'ROC AUC:   {np.mean(forest_roc_auc):.5f} +- {np.std(forest_roc_auc):5f}')\n",
    "print(\"\")\n",
    "print(\"XGBoost\")\n",
    "print(\"-------\")\n",
    "print(f'Accuracy:  {np.mean(xgb_acc):.5f} +- {np.std(xgb_acc):5f}')\n",
    "print(f'Precision: {np.mean(xgb_prec):.5f} +- {np.std(xgb_prec):5f}')\n",
    "print(f'Recall:    {np.mean(xgb_rec):.5f} +- {np.std(xgb_rec):5f}')\n",
    "print(f'F1 Score:  {np.mean(xgb_f1):.5f} +- {np.std(xgb_f1):5f}')\n",
    "print(f'ROC AUC:   {np.mean(xgb_roc_auc):.5f} +- {np.std(xgb_roc_auc):5f}')"
   ]
  },
  {
   "cell_type": "markdown",
   "metadata": {},
   "source": [
    "# Tuning"
   ]
  },
  {
   "cell_type": "code",
   "execution_count": 132,
   "metadata": {
    "ExecuteTime": {
     "end_time": "2020-10-21T00:11:52.988954Z",
     "start_time": "2020-10-21T00:11:52.978010Z"
    }
   },
   "outputs": [],
   "source": [
    "df2 = df.copy()\n",
    "\n",
    "features = ['verified', \n",
    "            #'created_at',\n",
    "            #'hour_created',\n",
    "            'geo_enabled', \n",
    "            'default_profile', \n",
    "            'default_profile_image', \n",
    "            'favourites_count', \n",
    "            'followers_count', \n",
    "            'friends_count', \n",
    "            'statuses_count', \n",
    "            'average_tweets_per_day',\n",
    "            #'avg_daily_followers', \n",
    "            #'avg_daily_friends',\n",
    "            #'avg_daily_favorites',\n",
    "            'popularity', \n",
    "            'tweet_to_followers', \n",
    "            'follower_acq_rate', \n",
    "            'friends_acq_rate', \n",
    "            'favs_rate'\n",
    "           ]\n",
    "\n",
    "X = df2[features]\n",
    "y = df2['bot']"
   ]
  },
  {
   "cell_type": "code",
   "execution_count": 133,
   "metadata": {
    "ExecuteTime": {
     "end_time": "2020-10-21T00:12:01.419196Z",
     "start_time": "2020-10-21T00:12:01.307491Z"
    }
   },
   "outputs": [],
   "source": [
    "X, X_test, y, y_test = train_test_split(X, y, test_size=.3, random_state=34)\n",
    "\n",
    "X_train, X_val, y_train, y_val = train_test_split(X, y, test_size=.3, random_state=214)\n",
    "\n",
    "X_smoted, y_smoted = SMOTE(random_state=4214).fit_sample(X_train, y_train)"
   ]
  },
  {
   "cell_type": "markdown",
   "metadata": {},
   "source": [
    "## RandomForest"
   ]
  },
  {
   "cell_type": "markdown",
   "metadata": {},
   "source": [
    "### Baseline"
   ]
  },
  {
   "cell_type": "code",
   "execution_count": 134,
   "metadata": {
    "ExecuteTime": {
     "end_time": "2020-10-21T00:12:08.740903Z",
     "start_time": "2020-10-21T00:12:08.104216Z"
    }
   },
   "outputs": [
    {
     "name": "stdout",
     "output_type": "stream",
     "text": [
      "Accuracy:  0.865301\n",
      "Precision: 0.796881\n",
      "Recall:    0.799618\n",
      "F1 Score:  0.798247\n",
      "ROC AUC:   0.927583\n"
     ]
    }
   ],
   "source": [
    "forest = RandomForestClassifier(n_jobs=-1)\n",
    "\n",
    "forest.fit(X_smoted, y_smoted)\n",
    "forest_pred = forest.predict(X_val)\n",
    "\n",
    "print(f'Accuracy:  {accuracy_score(y_val, forest_pred):5f}')\n",
    "print(f'Precision: {precision_score(y_val, forest_pred):5f}')\n",
    "print(f'Recall:    {recall_score(y_val, forest_pred):5f}')\n",
    "print(f'F1 Score:  {f1_score(y_val, forest_pred):5f}')\n",
    "print(f'ROC AUC:   {roc_auc_score(y_val, forest.predict_proba(X_val)[:,1]):5f}')"
   ]
  },
  {
   "cell_type": "code",
   "execution_count": 135,
   "metadata": {
    "ExecuteTime": {
     "end_time": "2020-10-21T00:12:15.492334Z",
     "start_time": "2020-10-21T00:12:15.474984Z"
    }
   },
   "outputs": [
    {
     "name": "stdout",
     "output_type": "stream",
     "text": [
      "              precision    recall  f1-score   support\n",
      "\n",
      "           0       0.90      0.90      0.90      5242\n",
      "           1       0.80      0.80      0.80      2620\n",
      "\n",
      "    accuracy                           0.87      7862\n",
      "   macro avg       0.85      0.85      0.85      7862\n",
      "weighted avg       0.87      0.87      0.87      7862\n",
      "\n"
     ]
    }
   ],
   "source": [
    "print(classification_report(y_val, forest_pred))"
   ]
  },
  {
   "cell_type": "code",
   "execution_count": 136,
   "metadata": {
    "ExecuteTime": {
     "end_time": "2020-10-21T00:12:19.752263Z",
     "start_time": "2020-10-21T00:12:19.557489Z"
    }
   },
   "outputs": [
    {
     "data": {
      "image/png": "[encoded data removed]",
      "text/plain": [
       "<Figure size 576x432 with 2 Axes>"
      ]
     },
     "metadata": {
      "needs_background": "light"
     },
     "output_type": "display_data"
    }
   ],
   "source": [
    "model = 'RandomForest'\n",
    "\n",
    "forest_cm = confusion_matrix(y_val, forest_pred)\n",
    "plot_cm(forest_cm, normalize=False, target_names=['human', 'bot'], title='Confusion Matrix: {}'.format(model))"
   ]
  },
  {
   "cell_type": "code",
   "execution_count": 137,
   "metadata": {
    "ExecuteTime": {
     "end_time": "2020-10-21T00:12:23.071423Z",
     "start_time": "2020-10-21T00:12:22.864673Z"
    },
    "scrolled": false
   },
   "outputs": [
    {
     "name": "stdout",
     "output_type": "stream",
     "text": [
      "ROC AUC score =  0.9275832529976613\n"
     ]
    },
    {
     "data": {
      "image/png": "[encoded data removed]",
      "text/plain": [
       "<Figure size 432x288 with 1 Axes>"
      ]
     },
     "metadata": {
      "needs_background": "light"
     },
     "output_type": "display_data"
    }
   ],
   "source": [
    "fpr, tpr, thresholds = roc_curve(y_val, forest.predict_proba(X_val)[:,1])\n",
    "\n",
    "plt.plot(fpr, tpr,lw=2)\n",
    "plt.plot([0,1],[0,1],c='violet',ls='--')\n",
    "plt.xlim([-0.05,1.05])\n",
    "plt.ylim([-0.05,1.05])\n",
    "\n",
    "plt.xlabel('False positive rate')\n",
    "plt.ylabel('True positive rate')\n",
    "plt.title('ROC curve');\n",
    "print(\"ROC AUC score = \", roc_auc_score(y_val, forest.predict_proba(X_val)[:,1]))"
   ]
  },
  {
   "cell_type": "markdown",
   "metadata": {},
   "source": [
    "### Tuning"
   ]
  },
  {
   "cell_type": "code",
   "execution_count": 84,
   "metadata": {
    "ExecuteTime": {
     "end_time": "2020-10-20T23:20:36.494100Z",
     "start_time": "2020-10-20T23:20:36.490758Z"
    }
   },
   "outputs": [
    {
     "data": {
      "text/plain": [
       "14"
      ]
     },
     "execution_count": 84,
     "metadata": {},
     "output_type": "execute_result"
    }
   ],
   "source": [
    "len(features)"
   ]
  },
  {
   "cell_type": "code",
   "execution_count": 103,
   "metadata": {
    "ExecuteTime": {
     "end_time": "2020-10-20T23:38:30.668657Z",
     "start_time": "2020-10-20T23:38:30.664935Z"
    }
   },
   "outputs": [],
   "source": [
    "estimator = RandomForestClassifier(random_state=42, n_jobs=-1)\n",
    "\n",
    "param_grid = {\n",
    "    'min_samples_split': [2, 3, 5, 10], \n",
    "    'n_estimators' : [100, 300],\n",
    "    'max_depth': [3, 5, 15, 25],\n",
    "    'max_features': ['sqrt', None]\n",
    "}\n",
    "\n",
    "grid_search = GridSearchCV(\n",
    "    estimator=estimator,\n",
    "    param_grid=param_grid,\n",
    "    scoring = 'f1',\n",
    "    n_jobs = 10,\n",
    "    cv = 5,\n",
    "    verbose=True\n",
    ")"
   ]
  },
  {
   "cell_type": "code",
   "execution_count": 104,
   "metadata": {
    "ExecuteTime": {
     "end_time": "2020-10-20T23:45:34.581104Z",
     "start_time": "2020-10-20T23:38:32.130071Z"
    }
   },
   "outputs": [
    {
     "name": "stdout",
     "output_type": "stream",
     "text": [
      "Fitting 5 folds for each of 64 candidates, totalling 320 fits\n"
     ]
    },
    {
     "name": "stderr",
     "output_type": "stream",
     "text": [
      "[Parallel(n_jobs=10)]: Using backend LokyBackend with 10 concurrent workers.\n",
      "[Parallel(n_jobs=10)]: Done  30 tasks      | elapsed:    8.5s\n",
      "[Parallel(n_jobs=10)]: Done 180 tasks      | elapsed:  2.2min\n",
      "[Parallel(n_jobs=10)]: Done 320 out of 320 | elapsed:  7.0min finished\n"
     ]
    },
    {
     "data": {
      "text/plain": [
       "GridSearchCV(cv=5, estimator=RandomForestClassifier(n_jobs=-1, random_state=42),\n",
       "             n_jobs=10,\n",
       "             param_grid={'max_depth': [3, 5, 15, 25],\n",
       "                         'max_features': ['sqrt', None],\n",
       "                         'min_samples_split': [2, 3, 5, 10],\n",
       "                         'n_estimators': [100, 300]},\n",
       "             scoring='f1', verbose=True)"
      ]
     },
     "execution_count": 104,
     "metadata": {},
     "output_type": "execute_result"
    }
   ],
   "source": [
    "#grid_search.fit(X_smoted, y_smoted)"
   ]
  },
  {
   "cell_type": "code",
   "execution_count": 105,
   "metadata": {
    "ExecuteTime": {
     "end_time": "2020-10-20T23:45:51.835549Z",
     "start_time": "2020-10-20T23:45:51.831657Z"
    }
   },
   "outputs": [
    {
     "data": {
      "text/plain": [
       "RandomForestClassifier(max_depth=25, max_features='sqrt', n_estimators=300,\n",
       "                       n_jobs=-1, random_state=42)"
      ]
     },
     "execution_count": 105,
     "metadata": {},
     "output_type": "execute_result"
    }
   ],
   "source": [
    "grid_search.best_estimator_"
   ]
  },
  {
   "cell_type": "markdown",
   "metadata": {},
   "source": [
    "**Best estimator for this round**\n",
    "```\n",
    "RandomForestClassifier(max_depth=25, max_features='sqrt', n_estimators=300,\n",
    "                       n_jobs=-1, random_state=42)\n",
    "```\n",
    "Params:\n",
    "* max_features = 'sqrt`\n",
    "* n_estimators = 300\n",
    "* max_depth = 25"
   ]
  },
  {
   "cell_type": "code",
   "execution_count": 106,
   "metadata": {
    "ExecuteTime": {
     "end_time": "2020-10-20T23:47:23.882051Z",
     "start_time": "2020-10-20T23:47:23.683114Z"
    }
   },
   "outputs": [
    {
     "name": "stdout",
     "output_type": "stream",
     "text": [
      "Accuracy:  0.865556\n",
      "Precision: 0.798624\n",
      "Recall:    0.797710\n",
      "F1 Score:  0.798167\n",
      "ROC AUC:   0.928904\n"
     ]
    }
   ],
   "source": [
    "forest_pred = grid_search.predict(X_val)\n",
    "\n",
    "print(f'Accuracy:  {accuracy_score(y_val, forest_pred):5f}')\n",
    "print(f'Precision: {precision_score(y_val, forest_pred):5f}')\n",
    "print(f'Recall:    {recall_score(y_val, forest_pred):5f}')\n",
    "print(f'F1 Score:  {f1_score(y_val, forest_pred):5f}')\n",
    "print(f'ROC AUC:   {roc_auc_score(y_val, grid_search.predict_proba(X_val)[:,1]):5f}')"
   ]
  },
  {
   "cell_type": "code",
   "execution_count": 138,
   "metadata": {
    "ExecuteTime": {
     "end_time": "2020-10-21T00:12:42.030771Z",
     "start_time": "2020-10-21T00:12:40.345504Z"
    }
   },
   "outputs": [
    {
     "name": "stdout",
     "output_type": "stream",
     "text": [
      "Accuracy:  0.864665\n",
      "Precision: 0.796494\n",
      "Recall:    0.797710\n",
      "F1 Score:  0.797101\n",
      "ROC AUC:   0.928464\n"
     ]
    }
   ],
   "source": [
    "forest = RandomForestClassifier(max_features='sqrt', n_jobs=-1, n_estimators=300)\n",
    "\n",
    "forest.fit(X_smoted, y_smoted)\n",
    "forest_pred = forest.predict(X_val)\n",
    "\n",
    "print(f'Accuracy:  {accuracy_score(y_val, forest_pred):5f}')\n",
    "print(f'Precision: {precision_score(y_val, forest_pred):5f}')\n",
    "print(f'Recall:    {recall_score(y_val, forest_pred):5f}')\n",
    "print(f'F1 Score:  {f1_score(y_val, forest_pred):5f}')\n",
    "print(f'ROC AUC:   {roc_auc_score(y_val, forest.predict_proba(X_val)[:,1]):5f}')"
   ]
  },
  {
   "cell_type": "markdown",
   "metadata": {},
   "source": [
    "Seems like `max_depth` parameter isn't that important here"
   ]
  },
  {
   "cell_type": "markdown",
   "metadata": {},
   "source": [
    "#### Cross Validation with Best Model"
   ]
  },
  {
   "cell_type": "code",
   "execution_count": 139,
   "metadata": {
    "ExecuteTime": {
     "end_time": "2020-10-21T00:12:53.580443Z",
     "start_time": "2020-10-21T00:12:53.564138Z"
    }
   },
   "outputs": [],
   "source": [
    "df4 = df.copy()\n",
    "\n",
    "features = ['verified', \n",
    "            #'created_at',\n",
    "            #'hour_created',\n",
    "            'geo_enabled', \n",
    "            'default_profile', \n",
    "            'default_profile_image', \n",
    "            'favourites_count', \n",
    "            'followers_count', \n",
    "            'friends_count', \n",
    "            'statuses_count', \n",
    "            'average_tweets_per_day',\n",
    "            #'avg_daily_followers', \n",
    "            #'avg_daily_friends',\n",
    "            #'avg_daily_favorites',\n",
    "            'popularity', \n",
    "            'tweet_to_followers', \n",
    "            'follower_acq_rate', \n",
    "            'friends_acq_rate', \n",
    "            'favs_rate'\n",
    "           ]\n",
    "\n",
    "X = df4[features]\n",
    "y = df4['bot']\n",
    "\n",
    "X, X_test, y, y_test = train_test_split(X, y, test_size=.3, random_state=222)"
   ]
  },
  {
   "cell_type": "code",
   "execution_count": 140,
   "metadata": {
    "ExecuteTime": {
     "end_time": "2020-10-21T00:14:42.685122Z",
     "start_time": "2020-10-21T00:14:33.417337Z"
    }
   },
   "outputs": [
    {
     "name": "stdout",
     "output_type": "stream",
     "text": [
      "RandomForest\n",
      "------------\n",
      "Accuracy:  0.86755 +- 0.002660\n",
      "Precision: 0.81540 +- 0.014635\n",
      "Recall:    0.77607 +- 0.006013\n",
      "F1 Score:  0.79518 +- 0.008127\n",
      "ROC AUC:   0.92376 +- 0.003313\n"
     ]
    }
   ],
   "source": [
    "kf = KFold(n_splits=5, shuffle=True, random_state=614)\n",
    "\n",
    "forest_acc, forest_prec, forest_rec, forest_f1, forest_roc_auc = [], [], [], [], []\n",
    "\n",
    "X_kf, y_kf = np.array(X), np.array(y)\n",
    "\n",
    "for train_ind, val_ind in kf.split(X_smoted, y_smoted):\n",
    "\n",
    "    X_train, y_train = X_kf[train_ind], y_kf[train_ind]\n",
    "    X_val, y_val = X_kf[val_ind], y_kf[val_ind]\n",
    "    \n",
    "    # SMOTE training values\n",
    "    X_train_smoted, y_train_smoted = SMOTE(random_state=2049).fit_sample(X_train, y_train)\n",
    "    \n",
    "\n",
    "    # Random Forest\n",
    "    forest = RandomForestClassifier(max_features='sqrt', n_jobs=-1, n_estimators=300)\n",
    "    forest.fit(X_train_smoted, y_train_smoted)\n",
    "    forest_pred = forest.predict(X_val)\n",
    "\n",
    "    forest_acc.append(accuracy_score(y_val, forest_pred))\n",
    "    forest_prec.append(precision_score(y_val, forest_pred))\n",
    "    forest_rec.append(recall_score(y_val, forest_pred))\n",
    "    forest_f1.append(f1_score(y_val, forest_pred))\n",
    "    forest_roc_auc.append(roc_auc_score(y_val, forest.predict_proba(X_val)[:,1]))\n",
    "\n",
    "print(\"RandomForest\")\n",
    "print(\"------------\")\n",
    "print(f'Accuracy:  {np.mean(forest_acc):.5f} +- {np.std(forest_acc):5f}')\n",
    "print(f'Precision: {np.mean(forest_prec):.5f} +- {np.std(forest_prec):5f}')\n",
    "print(f'Recall:    {np.mean(forest_rec):.5f} +- {np.std(forest_rec):5f}')\n",
    "print(f'F1 Score:  {np.mean(forest_f1):.5f} +- {np.std(forest_f1):5f}')\n",
    "print(f'ROC AUC:   {np.mean(forest_roc_auc):.5f} +- {np.std(forest_roc_auc):5f}')"
   ]
  },
  {
   "cell_type": "markdown",
   "metadata": {},
   "source": [
    "#### Re-train and look at Confusion Matrix"
   ]
  },
  {
   "cell_type": "code",
   "execution_count": 141,
   "metadata": {
    "ExecuteTime": {
     "end_time": "2020-10-21T00:15:13.352105Z",
     "start_time": "2020-10-21T00:15:13.236050Z"
    }
   },
   "outputs": [],
   "source": [
    "df5 = df.copy()\n",
    "\n",
    "features = ['verified', \n",
    "            #'created_at',\n",
    "            #'hour_created',\n",
    "            'geo_enabled', \n",
    "            'default_profile', \n",
    "            'default_profile_image', \n",
    "            'favourites_count', \n",
    "            'followers_count', \n",
    "            'friends_count', \n",
    "            'statuses_count', \n",
    "            'average_tweets_per_day',\n",
    "            #'avg_daily_followers', \n",
    "            #'avg_daily_friends',\n",
    "            #'avg_daily_favorites',\n",
    "            'popularity', \n",
    "            'tweet_to_followers', \n",
    "            'follower_acq_rate', \n",
    "            'friends_acq_rate', \n",
    "            'favs_rate'\n",
    "           ]\n",
    "\n",
    "X = df5[features]\n",
    "y = df5['bot']\n",
    "\n",
    "X, X_test, y, y_test = train_test_split(X, y, test_size=.3, random_state=222)\n",
    "\n",
    "X_train, X_val, y_train, y_val = train_test_split(X, y, test_size=.3, random_state=333)\n",
    "\n",
    "X_smoted, y_smoted = SMOTE(random_state=444).fit_sample(X_train, y_train)"
   ]
  },
  {
   "cell_type": "code",
   "execution_count": 142,
   "metadata": {
    "ExecuteTime": {
     "end_time": "2020-10-21T00:15:16.835207Z",
     "start_time": "2020-10-21T00:15:15.175536Z"
    }
   },
   "outputs": [
    {
     "name": "stdout",
     "output_type": "stream",
     "text": [
      "              precision    recall  f1-score   support\n",
      "\n",
      "           0       0.89      0.90      0.90      5199\n",
      "           1       0.80      0.79      0.79      2663\n",
      "\n",
      "    accuracy                           0.86      7862\n",
      "   macro avg       0.85      0.84      0.84      7862\n",
      "weighted avg       0.86      0.86      0.86      7862\n",
      "\n"
     ]
    }
   ],
   "source": [
    "forest = RandomForestClassifier(max_features='sqrt', n_jobs=-1, n_estimators=300)\n",
    "\n",
    "forest.fit(X_smoted, y_smoted)\n",
    "forest_pred = forest.predict(X_val)\n",
    "\n",
    "print(classification_report(y_val, forest_pred))"
   ]
  },
  {
   "cell_type": "code",
   "execution_count": 143,
   "metadata": {
    "ExecuteTime": {
     "end_time": "2020-10-21T00:15:19.047891Z",
     "start_time": "2020-10-21T00:15:18.854288Z"
    }
   },
   "outputs": [
    {
     "data": {
      "image/png": "[encoded data removed]",
      "text/plain": [
       "<Figure size 576x432 with 2 Axes>"
      ]
     },
     "metadata": {
      "needs_background": "light"
     },
     "output_type": "display_data"
    }
   ],
   "source": [
    "model = 'RandomForest'\n",
    "\n",
    "forest_cm = confusion_matrix(y_val, forest_pred)\n",
    "plot_cm(forest_cm, normalize=False, target_names=['human', 'bot'], title='Confusion Matrix: {}'.format(model))"
   ]
  },
  {
   "cell_type": "code",
   "execution_count": null,
   "metadata": {},
   "outputs": [],
   "source": []
  },
  {
   "cell_type": "code",
   "execution_count": null,
   "metadata": {},
   "outputs": [],
   "source": []
  },
  {
   "cell_type": "markdown",
   "metadata": {},
   "source": [
    "## XGBoost"
   ]
  },
  {
   "cell_type": "markdown",
   "metadata": {},
   "source": [
    "### Baseline"
   ]
  },
  {
   "cell_type": "code",
   "execution_count": 144,
   "metadata": {
    "ExecuteTime": {
     "end_time": "2020-10-21T00:15:25.055619Z",
     "start_time": "2020-10-21T00:15:24.179724Z"
    }
   },
   "outputs": [
    {
     "data": {
      "text/plain": [
       "XGBClassifier(base_score=0.5, booster='gbtree', colsample_bylevel=1,\n",
       "              colsample_bynode=1, colsample_bytree=1, gamma=0, gpu_id=-1,\n",
       "              importance_type='gain', interaction_constraints='',\n",
       "              learning_rate=0.300000012, max_delta_step=0, max_depth=6,\n",
       "              min_child_weight=1, missing=nan, monotone_constraints='()',\n",
       "              n_estimators=100, n_jobs=0, num_parallel_tree=1, random_state=0,\n",
       "              reg_alpha=0, reg_lambda=1, scale_pos_weight=1, subsample=1,\n",
       "              tree_method='exact', validate_parameters=1, verbosity=None)"
      ]
     },
     "execution_count": 144,
     "metadata": {},
     "output_type": "execute_result"
    }
   ],
   "source": [
    "# XGBoost\n",
    "xgb = XGBClassifier()\n",
    "xgb.fit(X_smoted, y_smoted)"
   ]
  },
  {
   "cell_type": "code",
   "execution_count": 145,
   "metadata": {
    "ExecuteTime": {
     "end_time": "2020-10-21T00:15:35.899391Z",
     "start_time": "2020-10-21T00:15:35.013011Z"
    }
   },
   "outputs": [
    {
     "name": "stdout",
     "output_type": "stream",
     "text": [
      "Accuracy:  0.856016\n",
      "Precision: 0.788541\n",
      "Recall:    0.785580\n",
      "F1 Score:  0.787058\n",
      "ROC AUC:   0.918236\n"
     ]
    }
   ],
   "source": [
    "xgb.fit(X_smoted, y_smoted)\n",
    "xgb_pred = xgb.predict(X_val)\n",
    "\n",
    "print(f'Accuracy:  {accuracy_score(y_val, xgb_pred):5f}')\n",
    "print(f'Precision: {precision_score(y_val, xgb_pred):5f}')\n",
    "print(f'Recall:    {recall_score(y_val, xgb_pred):5f}')\n",
    "print(f'F1 Score:  {f1_score(y_val, xgb_pred):5f}')\n",
    "print(f'ROC AUC:   {roc_auc_score(y_val, xgb.predict_proba(X_val)[:,1]):5f}')"
   ]
  },
  {
   "cell_type": "code",
   "execution_count": 146,
   "metadata": {
    "ExecuteTime": {
     "end_time": "2020-10-21T00:15:40.433773Z",
     "start_time": "2020-10-21T00:15:40.418524Z"
    }
   },
   "outputs": [
    {
     "name": "stdout",
     "output_type": "stream",
     "text": [
      "              precision    recall  f1-score   support\n",
      "\n",
      "           0       0.89      0.89      0.89      5199\n",
      "           1       0.79      0.79      0.79      2663\n",
      "\n",
      "    accuracy                           0.86      7862\n",
      "   macro avg       0.84      0.84      0.84      7862\n",
      "weighted avg       0.86      0.86      0.86      7862\n",
      "\n"
     ]
    }
   ],
   "source": [
    "print(classification_report(y_val, xgb_pred))"
   ]
  },
  {
   "cell_type": "code",
   "execution_count": 147,
   "metadata": {
    "ExecuteTime": {
     "end_time": "2020-10-21T00:15:42.637503Z",
     "start_time": "2020-10-21T00:15:42.478477Z"
    }
   },
   "outputs": [
    {
     "name": "stdout",
     "output_type": "stream",
     "text": [
      "ROC AUC score =  0.9182361754336623\n"
     ]
    },
    {
     "data": {
      "image/png": "[encoded data removed]",
      "text/plain": [
       "<Figure size 432x288 with 1 Axes>"
      ]
     },
     "metadata": {
      "needs_background": "light"
     },
     "output_type": "display_data"
    }
   ],
   "source": [
    "fpr, tpr, thresholds = roc_curve(y_val, xgb.predict_proba(X_val)[:,1])\n",
    "\n",
    "plt.plot(fpr, tpr,lw=2)\n",
    "plt.plot([0,1],[0,1],c='violet',ls='--')\n",
    "plt.xlim([-0.05,1.05])\n",
    "plt.ylim([-0.05,1.05])\n",
    "\n",
    "plt.xlabel('False positive rate')\n",
    "plt.ylabel('True positive rate')\n",
    "plt.title('ROC curve');\n",
    "print(\"ROC AUC score = \", roc_auc_score(y_val, xgb.predict_proba(X_val)[:,1]))"
   ]
  },
  {
   "cell_type": "markdown",
   "metadata": {},
   "source": [
    "### Tuning"
   ]
  },
  {
   "cell_type": "markdown",
   "metadata": {},
   "source": [
    "#### Round 1 \n",
    "* Target = roc_auc\n",
    "* Params:\n",
    "    * max_depth, \n",
    "    * n_estimators, \n",
    "    * learning_rate"
   ]
  },
  {
   "cell_type": "code",
   "execution_count": 26,
   "metadata": {
    "ExecuteTime": {
     "end_time": "2020-10-20T21:55:54.003264Z",
     "start_time": "2020-10-20T21:55:54.000874Z"
    }
   },
   "outputs": [],
   "source": [
    "estimator = XGBClassifier(\n",
    "    nthread=4,\n",
    "    seed=42\n",
    ")"
   ]
  },
  {
   "cell_type": "code",
   "execution_count": 27,
   "metadata": {
    "ExecuteTime": {
     "end_time": "2020-10-20T21:55:56.447653Z",
     "start_time": "2020-10-20T21:55:56.445110Z"
    }
   },
   "outputs": [],
   "source": [
    "parameters = {\n",
    "    'max_depth': range (2, 10, 1),\n",
    "    'n_estimators': range(60, 220, 40),\n",
    "    'learning_rate': [0.1, 0.01, 0.05]\n",
    "}"
   ]
  },
  {
   "cell_type": "code",
   "execution_count": 30,
   "metadata": {
    "ExecuteTime": {
     "end_time": "2020-10-20T21:56:18.516628Z",
     "start_time": "2020-10-20T21:56:18.513747Z"
    }
   },
   "outputs": [],
   "source": [
    "grid_search = GridSearchCV(\n",
    "    estimator=estimator,\n",
    "    param_grid=parameters,\n",
    "    scoring = 'roc_auc',\n",
    "    n_jobs = 10,\n",
    "    cv = 10,\n",
    "    verbose=True\n",
    ")"
   ]
  },
  {
   "cell_type": "code",
   "execution_count": 31,
   "metadata": {
    "ExecuteTime": {
     "end_time": "2020-10-20T22:08:07.824965Z",
     "start_time": "2020-10-20T21:57:10.322729Z"
    }
   },
   "outputs": [
    {
     "name": "stdout",
     "output_type": "stream",
     "text": [
      "Fitting 10 folds for each of 96 candidates, totalling 960 fits\n"
     ]
    },
    {
     "name": "stderr",
     "output_type": "stream",
     "text": [
      "[Parallel(n_jobs=10)]: Using backend LokyBackend with 10 concurrent workers.\n",
      "[Parallel(n_jobs=10)]: Done  30 tasks      | elapsed:    8.1s\n",
      "[Parallel(n_jobs=10)]: Done 180 tasks      | elapsed:  1.3min\n",
      "[Parallel(n_jobs=10)]: Done 430 tasks      | elapsed:  4.2min\n",
      "[Parallel(n_jobs=10)]: Done 780 tasks      | elapsed:  8.2min\n",
      "[Parallel(n_jobs=10)]: Done 960 out of 960 | elapsed: 10.9min finished\n"
     ]
    },
    {
     "data": {
      "text/plain": [
       "GridSearchCV(cv=10,\n",
       "             estimator=XGBClassifier(base_score=None, booster=None,\n",
       "                                     colsample_bylevel=None,\n",
       "                                     colsample_bynode=None,\n",
       "                                     colsample_bytree=None, gamma=None,\n",
       "                                     gpu_id=None, importance_type='gain',\n",
       "                                     interaction_constraints=None,\n",
       "                                     learning_rate=None, max_delta_step=None,\n",
       "                                     max_depth=None, min_child_weight=None,\n",
       "                                     missing=nan, monotone_constraints=None,\n",
       "                                     n_estimators=100, n_jobs=None, nthread=4,\n",
       "                                     num_parallel_tree=None, random_state=None,\n",
       "                                     reg_alpha=None, reg_lambda=None,\n",
       "                                     scale_pos_weight=None, seed=42,\n",
       "                                     subsample=None, tree_method=None,\n",
       "                                     validate_parameters=None, verbosity=None),\n",
       "             n_jobs=10,\n",
       "             param_grid={'learning_rate': [0.1, 0.01, 0.05],\n",
       "                         'max_depth': range(2, 10),\n",
       "                         'n_estimators': range(60, 220, 40)},\n",
       "             scoring='roc_auc', verbose=True)"
      ]
     },
     "execution_count": 31,
     "metadata": {},
     "output_type": "execute_result"
    }
   ],
   "source": [
    "#grid_search.fit(X_smoted, y_smoted)"
   ]
  },
  {
   "cell_type": "code",
   "execution_count": 32,
   "metadata": {
    "ExecuteTime": {
     "end_time": "2020-10-20T22:08:50.854080Z",
     "start_time": "2020-10-20T22:08:50.848838Z"
    }
   },
   "outputs": [
    {
     "data": {
      "text/plain": [
       "XGBClassifier(base_score=0.5, booster='gbtree', colsample_bylevel=1,\n",
       "              colsample_bynode=1, colsample_bytree=1, gamma=0, gpu_id=-1,\n",
       "              importance_type='gain', interaction_constraints='',\n",
       "              learning_rate=0.1, max_delta_step=0, max_depth=9,\n",
       "              min_child_weight=1, missing=nan, monotone_constraints='()',\n",
       "              n_estimators=180, n_jobs=4, nthread=4, num_parallel_tree=1,\n",
       "              random_state=42, reg_alpha=0, reg_lambda=1, scale_pos_weight=1,\n",
       "              seed=42, subsample=1, tree_method='exact', validate_parameters=1,\n",
       "              verbosity=None)"
      ]
     },
     "execution_count": 32,
     "metadata": {},
     "output_type": "execute_result"
    }
   ],
   "source": [
    "#grid_search.best_estimator_"
   ]
  },
  {
   "cell_type": "markdown",
   "metadata": {},
   "source": [
    "**Best estimator for this round**\n",
    "\n",
    "```\n",
    "XGBClassifier(base_score=0.5, booster='gbtree', colsample_bylevel=1,\n",
    "              colsample_bynode=1, colsample_bytree=1, gamma=0, gpu_id=-1,\n",
    "              importance_type='gain', interaction_constraints='',\n",
    "              learning_rate=0.1, max_delta_step=0, max_depth=9,\n",
    "              min_child_weight=1, missing=nan, monotone_constraints='()',\n",
    "              n_estimators=180, n_jobs=4, nthread=4, num_parallel_tree=1,\n",
    "              random_state=42, reg_alpha=0, reg_lambda=1, scale_pos_weight=1,\n",
    "              seed=42, subsample=1, tree_method='exact', validate_parameters=1,\n",
    "              verbosity=None)\n",
    "```\n",
    "\n",
    "best params:\n",
    "* learning_rate=0.1\n",
    "* n_estimators=180\n",
    "* max_depth=9"
   ]
  },
  {
   "cell_type": "code",
   "execution_count": 36,
   "metadata": {
    "ExecuteTime": {
     "end_time": "2020-10-20T22:11:22.540109Z",
     "start_time": "2020-10-20T22:11:22.443848Z"
    },
    "scrolled": true
   },
   "outputs": [
    {
     "name": "stdout",
     "output_type": "stream",
     "text": [
      "Accuracy: 0.867591\n",
      "Precision: 0.805652\n",
      "Recall: 0.794275\n",
      "F1 Score: 0.799923\n",
      "ROC AUC: 0.931059\n"
     ]
    }
   ],
   "source": [
    "xgb_pred = grid_search.predict(X_val)\n",
    "\n",
    "print(f'Accuracy:  {accuracy_score(y_val, xgb_pred):5f}')\n",
    "print(f'Precision: {precision_score(y_val, xgb_pred):5f}')\n",
    "print(f'Recall:    {recall_score(y_val, xgb_pred):5f}')\n",
    "print(f'F1 Score:  {f1_score(y_val, xgb_pred):5f}')\n",
    "print(f'ROC AUC:   {roc_auc_score(y_val, grid_search.predict_proba(X_val)[:,1]):5f}')"
   ]
  },
  {
   "cell_type": "code",
   "execution_count": 34,
   "metadata": {
    "ExecuteTime": {
     "end_time": "2020-10-20T22:10:36.985150Z",
     "start_time": "2020-10-20T22:10:36.968420Z"
    }
   },
   "outputs": [
    {
     "name": "stdout",
     "output_type": "stream",
     "text": [
      "              precision    recall  f1-score   support\n",
      "\n",
      "           0       0.90      0.90      0.90      5242\n",
      "           1       0.81      0.79      0.80      2620\n",
      "\n",
      "    accuracy                           0.87      7862\n",
      "   macro avg       0.85      0.85      0.85      7862\n",
      "weighted avg       0.87      0.87      0.87      7862\n",
      "\n"
     ]
    }
   ],
   "source": [
    "print(classification_report(y_val, xgb_pred))"
   ]
  },
  {
   "cell_type": "code",
   "execution_count": 35,
   "metadata": {
    "ExecuteTime": {
     "end_time": "2020-10-20T22:11:10.864615Z",
     "start_time": "2020-10-20T22:11:10.675153Z"
    }
   },
   "outputs": [
    {
     "name": "stdout",
     "output_type": "stream",
     "text": [
      "ROC AUC score =  0.9310594697554399\n"
     ]
    },
    {
     "data": {
      "image/png": "[encoded data removed]",
      "text/plain": [
       "<Figure size 432x288 with 1 Axes>"
      ]
     },
     "metadata": {
      "needs_background": "light"
     },
     "output_type": "display_data"
    }
   ],
   "source": [
    "fpr, tpr, thresholds = roc_curve(y_val, grid_search.predict_proba(X_val)[:,1])\n",
    "\n",
    "plt.plot(fpr, tpr,lw=2)\n",
    "plt.plot([0,1],[0,1],c='violet',ls='--')\n",
    "plt.xlim([-0.05,1.05])\n",
    "plt.ylim([-0.05,1.05])\n",
    "\n",
    "plt.xlabel('False positive rate')\n",
    "plt.ylabel('True positive rate')\n",
    "plt.title('ROC curve');\n",
    "print(\"ROC AUC score = \", roc_auc_score(y_val, grid_search.predict_proba(X_val)[:,1]))"
   ]
  },
  {
   "cell_type": "markdown",
   "metadata": {},
   "source": [
    "#### Round 2\n",
    "* Target: f1 score\n",
    "* params\n",
    "    * max_depth\n",
    "    * n_estimators\n",
    "    * learning_rate"
   ]
  },
  {
   "cell_type": "code",
   "execution_count": 37,
   "metadata": {
    "ExecuteTime": {
     "end_time": "2020-10-20T22:16:07.430746Z",
     "start_time": "2020-10-20T22:16:07.428213Z"
    }
   },
   "outputs": [],
   "source": [
    "estimator = XGBClassifier(\n",
    "    nthread=4,\n",
    "    seed=42\n",
    ")"
   ]
  },
  {
   "cell_type": "code",
   "execution_count": 38,
   "metadata": {
    "ExecuteTime": {
     "end_time": "2020-10-20T22:16:10.034774Z",
     "start_time": "2020-10-20T22:16:10.031913Z"
    }
   },
   "outputs": [],
   "source": [
    "parameters = {\n",
    "    'max_depth': range (8, 12, 1),\n",
    "    'n_estimators': range(100, 220, 40),\n",
    "    'learning_rate': [0.1, 0.05]\n",
    "}"
   ]
  },
  {
   "cell_type": "code",
   "execution_count": 39,
   "metadata": {
    "ExecuteTime": {
     "end_time": "2020-10-20T22:16:19.282255Z",
     "start_time": "2020-10-20T22:16:19.279572Z"
    }
   },
   "outputs": [],
   "source": [
    "grid_search = GridSearchCV(\n",
    "    estimator=estimator,\n",
    "    param_grid=parameters,\n",
    "    scoring = 'f1',\n",
    "    n_jobs = 10,\n",
    "    cv = 5,\n",
    "    verbose=True\n",
    ")"
   ]
  },
  {
   "cell_type": "code",
   "execution_count": 40,
   "metadata": {
    "ExecuteTime": {
     "end_time": "2020-10-20T22:18:55.569792Z",
     "start_time": "2020-10-20T22:16:33.910540Z"
    }
   },
   "outputs": [
    {
     "name": "stdout",
     "output_type": "stream",
     "text": [
      "Fitting 5 folds for each of 24 candidates, totalling 120 fits\n"
     ]
    },
    {
     "name": "stderr",
     "output_type": "stream",
     "text": [
      "[Parallel(n_jobs=10)]: Using backend LokyBackend with 10 concurrent workers.\n",
      "[Parallel(n_jobs=10)]: Done  30 tasks      | elapsed:   32.3s\n",
      "[Parallel(n_jobs=10)]: Done 120 out of 120 | elapsed:  2.3min finished\n"
     ]
    },
    {
     "data": {
      "text/plain": [
       "GridSearchCV(cv=5,\n",
       "             estimator=XGBClassifier(base_score=None, booster=None,\n",
       "                                     colsample_bylevel=None,\n",
       "                                     colsample_bynode=None,\n",
       "                                     colsample_bytree=None, gamma=None,\n",
       "                                     gpu_id=None, importance_type='gain',\n",
       "                                     interaction_constraints=None,\n",
       "                                     learning_rate=None, max_delta_step=None,\n",
       "                                     max_depth=None, min_child_weight=None,\n",
       "                                     missing=nan, monotone_constraints=None,\n",
       "                                     n_estimators=100, n_jobs=None, nthread=4,\n",
       "                                     num_parallel_tree=None, random_state=None,\n",
       "                                     reg_alpha=None, reg_lambda=None,\n",
       "                                     scale_pos_weight=None, seed=42,\n",
       "                                     subsample=None, tree_method=None,\n",
       "                                     validate_parameters=None, verbosity=None),\n",
       "             n_jobs=10,\n",
       "             param_grid={'learning_rate': [0.1, 0.05],\n",
       "                         'max_depth': range(8, 12),\n",
       "                         'n_estimators': range(100, 220, 40)},\n",
       "             scoring='f1', verbose=True)"
      ]
     },
     "execution_count": 40,
     "metadata": {},
     "output_type": "execute_result"
    }
   ],
   "source": [
    "#grid_search.fit(X_smoted, y_smoted)"
   ]
  },
  {
   "cell_type": "code",
   "execution_count": 41,
   "metadata": {
    "ExecuteTime": {
     "end_time": "2020-10-20T22:20:42.178503Z",
     "start_time": "2020-10-20T22:20:42.173108Z"
    }
   },
   "outputs": [
    {
     "data": {
      "text/plain": [
       "XGBClassifier(base_score=0.5, booster='gbtree', colsample_bylevel=1,\n",
       "              colsample_bynode=1, colsample_bytree=1, gamma=0, gpu_id=-1,\n",
       "              importance_type='gain', interaction_constraints='',\n",
       "              learning_rate=0.1, max_delta_step=0, max_depth=11,\n",
       "              min_child_weight=1, missing=nan, monotone_constraints='()',\n",
       "              n_estimators=180, n_jobs=4, nthread=4, num_parallel_tree=1,\n",
       "              random_state=42, reg_alpha=0, reg_lambda=1, scale_pos_weight=1,\n",
       "              seed=42, subsample=1, tree_method='exact', validate_parameters=1,\n",
       "              verbosity=None)"
      ]
     },
     "execution_count": 41,
     "metadata": {},
     "output_type": "execute_result"
    }
   ],
   "source": [
    "#grid_search.best_estimator_"
   ]
  },
  {
   "cell_type": "markdown",
   "metadata": {},
   "source": [
    "**Best Estimator for this round**\n",
    "```\n",
    "XGBClassifier(base_score=0.5, booster='gbtree', colsample_bylevel=1,\n",
    "              colsample_bynode=1, colsample_bytree=1, gamma=0, gpu_id=-1,\n",
    "              importance_type='gain', interaction_constraints='',\n",
    "              learning_rate=0.1, max_delta_step=0, max_depth=11,\n",
    "              min_child_weight=1, missing=nan, monotone_constraints='()',\n",
    "              n_estimators=180, n_jobs=4, nthread=4, num_parallel_tree=1,\n",
    "              random_state=42, reg_alpha=0, reg_lambda=1, scale_pos_weight=1,\n",
    "              seed=42, subsample=1, tree_method='exact', validate_parameters=1,\n",
    "              verbosity=None)\n",
    "```\n",
    "best params:\n",
    "* **learning_rate=0.1**\n",
    "* **n_estimators=180**\n",
    "* max_depth=11\n",
    "\n",
    "\n",
    "max_depth: 9-11"
   ]
  },
  {
   "cell_type": "code",
   "execution_count": 42,
   "metadata": {
    "ExecuteTime": {
     "end_time": "2020-10-20T22:21:08.357470Z",
     "start_time": "2020-10-20T22:21:08.236501Z"
    }
   },
   "outputs": [
    {
     "name": "stdout",
     "output_type": "stream",
     "text": [
      "Accuracy: 0.865556\n",
      "Precision: 0.797714\n",
      "Recall: 0.799237\n",
      "F1 Score: 0.798475\n",
      "ROC AUC: 0.929095\n"
     ]
    }
   ],
   "source": [
    "xgb_pred = grid_search.predict(X_val)\n",
    "\n",
    "print(f'Accuracy:  {accuracy_score(y_val, xgb_pred):5f}')\n",
    "print(f'Precision: {precision_score(y_val, xgb_pred):5f}')\n",
    "print(f'Recall:    {recall_score(y_val, xgb_pred):5f}')\n",
    "print(f'F1 Score:  {f1_score(y_val, xgb_pred):5f}')\n",
    "print(f'ROC AUC:   {roc_auc_score(y_val, grid_search.predict_proba(X_val)[:,1]):5f}')"
   ]
  },
  {
   "cell_type": "code",
   "execution_count": 43,
   "metadata": {
    "ExecuteTime": {
     "end_time": "2020-10-20T22:21:26.860452Z",
     "start_time": "2020-10-20T22:21:26.653178Z"
    },
    "scrolled": true
   },
   "outputs": [
    {
     "name": "stdout",
     "output_type": "stream",
     "text": [
      "ROC AUC score =  0.929095116950293\n"
     ]
    },
    {
     "data": {
      "image/png": "[encoded data removed]",
      "text/plain": [
       "<Figure size 432x288 with 1 Axes>"
      ]
     },
     "metadata": {
      "needs_background": "light"
     },
     "output_type": "display_data"
    }
   ],
   "source": [
    "fpr, tpr, thresholds = roc_curve(y_val, grid_search.predict_proba(X_val)[:,1])\n",
    "\n",
    "plt.plot(fpr, tpr,lw=2)\n",
    "plt.plot([0,1],[0,1],c='violet',ls='--')\n",
    "plt.xlim([-0.05,1.05])\n",
    "plt.ylim([-0.05,1.05])\n",
    "\n",
    "plt.xlabel('False positive rate')\n",
    "plt.ylabel('True positive rate')\n",
    "plt.title('ROC curve');\n",
    "print(\"ROC AUC score = \", roc_auc_score(y_val, grid_search.predict_proba(X_val)[:,1]))"
   ]
  },
  {
   "cell_type": "markdown",
   "metadata": {},
   "source": [
    "#### Round 3\n",
    "* Target: f1\n",
    "* Set estimator params: \n",
    "    * learning_rate = 0.1\n",
    "    * n_estimators = 180\n",
    "* Params: \n",
    "    * subsample\n",
    "    * colsammple_bylevel\n",
    "    * colsample_bytree\n",
    "    * min_child_weight\n",
    "    * max_depth"
   ]
  },
  {
   "cell_type": "code",
   "execution_count": 46,
   "metadata": {
    "ExecuteTime": {
     "end_time": "2020-10-20T22:33:50.857046Z",
     "start_time": "2020-10-20T22:33:50.853293Z"
    }
   },
   "outputs": [],
   "source": [
    "estimator = XGBClassifier(\n",
    "    learning_rate=0.1,\n",
    "    n_estimators=180,\n",
    "    nthread=4,\n",
    "    seed=42\n",
    ")\n",
    "\n",
    "parameters = {\n",
    "    'subsample': [.8, 1],\n",
    "    'colsample_bylevel' : [.6, .8, 1], \n",
    "    'colsample_bytree' : [.6, .8, 1],\n",
    "    'min_child_weight' : [1, 2, 3],     \n",
    "    'max_depth': range (9, 12, 1)\n",
    "}\n",
    "\n",
    "grid_search = GridSearchCV(\n",
    "    estimator=estimator,\n",
    "    param_grid=parameters,\n",
    "    scoring = 'f1',\n",
    "    n_jobs = 10,\n",
    "    cv = 5,\n",
    "    verbose=True\n",
    ")"
   ]
  },
  {
   "cell_type": "code",
   "execution_count": 47,
   "metadata": {
    "ExecuteTime": {
     "end_time": "2020-10-20T22:49:11.255862Z",
     "start_time": "2020-10-20T22:34:03.447485Z"
    },
    "scrolled": true
   },
   "outputs": [
    {
     "name": "stdout",
     "output_type": "stream",
     "text": [
      "Fitting 5 folds for each of 162 candidates, totalling 810 fits\n"
     ]
    },
    {
     "name": "stderr",
     "output_type": "stream",
     "text": [
      "[Parallel(n_jobs=10)]: Using backend LokyBackend with 10 concurrent workers.\n",
      "[Parallel(n_jobs=10)]: Done  30 tasks      | elapsed:   19.8s\n",
      "[Parallel(n_jobs=10)]: Done 180 tasks      | elapsed:  2.4min\n",
      "[Parallel(n_jobs=10)]: Done 430 tasks      | elapsed:  6.7min\n",
      "[Parallel(n_jobs=10)]: Done 780 tasks      | elapsed: 14.2min\n",
      "[Parallel(n_jobs=10)]: Done 810 out of 810 | elapsed: 15.1min finished\n"
     ]
    },
    {
     "data": {
      "text/plain": [
       "GridSearchCV(cv=5,\n",
       "             estimator=XGBClassifier(base_score=None, booster=None,\n",
       "                                     colsample_bylevel=None,\n",
       "                                     colsample_bynode=None,\n",
       "                                     colsample_bytree=None, gamma=None,\n",
       "                                     gpu_id=None, importance_type='gain',\n",
       "                                     interaction_constraints=None,\n",
       "                                     learning_rate=0.1, max_delta_step=None,\n",
       "                                     max_depth=None, min_child_weight=None,\n",
       "                                     missing=nan, monotone_constraints=None,\n",
       "                                     n_estimators=180, n_jobs=...\n",
       "                                     num_parallel_tree=None, random_state=None,\n",
       "                                     reg_alpha=None, reg_lambda=None,\n",
       "                                     scale_pos_weight=None, seed=42,\n",
       "                                     subsample=None, tree_method=None,\n",
       "                                     validate_parameters=None, verbosity=None),\n",
       "             n_jobs=10,\n",
       "             param_grid={'colsample_bylevel': [0.6, 0.8, 1],\n",
       "                         'colsample_bytree': [0.6, 0.8, 1],\n",
       "                         'max_depth': range(9, 12),\n",
       "                         'min_child_weight': [1, 2, 3], 'subsample': [0.8, 1]},\n",
       "             scoring='f1', verbose=True)"
      ]
     },
     "execution_count": 47,
     "metadata": {},
     "output_type": "execute_result"
    }
   ],
   "source": [
    "#grid_search.fit(X_smoted, y_smoted)"
   ]
  },
  {
   "cell_type": "code",
   "execution_count": 48,
   "metadata": {
    "ExecuteTime": {
     "end_time": "2020-10-20T22:49:26.717760Z",
     "start_time": "2020-10-20T22:49:26.712500Z"
    }
   },
   "outputs": [
    {
     "data": {
      "text/plain": [
       "XGBClassifier(base_score=0.5, booster='gbtree', colsample_bylevel=0.6,\n",
       "              colsample_bynode=1, colsample_bytree=1, gamma=0, gpu_id=-1,\n",
       "              importance_type='gain', interaction_constraints='',\n",
       "              learning_rate=0.1, max_delta_step=0, max_depth=11,\n",
       "              min_child_weight=1, missing=nan, monotone_constraints='()',\n",
       "              n_estimators=180, n_jobs=4, nthread=4, num_parallel_tree=1,\n",
       "              random_state=42, reg_alpha=0, reg_lambda=1, scale_pos_weight=1,\n",
       "              seed=42, subsample=0.8, tree_method='exact',\n",
       "              validate_parameters=1, verbosity=None)"
      ]
     },
     "execution_count": 48,
     "metadata": {},
     "output_type": "execute_result"
    }
   ],
   "source": [
    "grid_search.best_estimator_"
   ]
  },
  {
   "cell_type": "markdown",
   "metadata": {},
   "source": [
    "**Best estimator for this round**\n",
    "```\n",
    "XGBClassifier(base_score=0.5, booster='gbtree', colsample_bylevel=0.6,\n",
    "              colsample_bynode=1, colsample_bytree=1, gamma=0, gpu_id=-1,\n",
    "              importance_type='gain', interaction_constraints='',\n",
    "              learning_rate=0.1, max_delta_step=0, max_depth=11,\n",
    "              min_child_weight=1, missing=nan, monotone_constraints='()',\n",
    "              n_estimators=180, n_jobs=4, nthread=4, num_parallel_tree=1,\n",
    "              random_state=42, reg_alpha=0, reg_lambda=1, scale_pos_weight=1,\n",
    "              seed=42, subsample=0.8, tree_method='exact',\n",
    "              validate_parameters=1, verbosity=None)\n",
    "```\n",
    "Params:\n",
    "* subsample = 0.8\n",
    "* colsample_bylevel = 0.6\n",
    "* colsample_bytree = 1.0\n",
    "* min_child_weight = 1\n",
    "* max_depth = 11"
   ]
  },
  {
   "cell_type": "code",
   "execution_count": 49,
   "metadata": {
    "ExecuteTime": {
     "end_time": "2020-10-20T22:50:56.056409Z",
     "start_time": "2020-10-20T22:50:55.921986Z"
    }
   },
   "outputs": [
    {
     "name": "stdout",
     "output_type": "stream",
     "text": [
      "Accuracy: 0.872552\n",
      "Precision: 0.812838\n",
      "Recall: 0.802290\n",
      "F1 Score: 0.807530\n",
      "ROC AUC: 0.929495\n"
     ]
    }
   ],
   "source": [
    "xgb_pred = grid_search.predict(X_val)\n",
    "\n",
    "print(f'Accuracy:  {accuracy_score(y_val, xgb_pred):5f}')\n",
    "print(f'Precision: {precision_score(y_val, xgb_pred):5f}')\n",
    "print(f'Recall:    {recall_score(y_val, xgb_pred):5f}')\n",
    "print(f'F1 Score:  {f1_score(y_val, xgb_pred):5f}')\n",
    "print(f'ROC AUC:   {roc_auc_score(y_val, grid_search.predict_proba(X_val)[:,1]):5f}')"
   ]
  },
  {
   "cell_type": "code",
   "execution_count": 50,
   "metadata": {
    "ExecuteTime": {
     "end_time": "2020-10-20T22:51:09.663305Z",
     "start_time": "2020-10-20T22:51:09.368209Z"
    }
   },
   "outputs": [
    {
     "name": "stdout",
     "output_type": "stream",
     "text": [
      "ROC AUC score =  0.9294946352275076\n"
     ]
    },
    {
     "data": {
      "image/png": "[encoded data removed]",
      "text/plain": [
       "<Figure size 432x288 with 1 Axes>"
      ]
     },
     "metadata": {
      "needs_background": "light"
     },
     "output_type": "display_data"
    }
   ],
   "source": [
    "fpr, tpr, thresholds = roc_curve(y_val, grid_search.predict_proba(X_val)[:,1])\n",
    "\n",
    "plt.plot(fpr, tpr,lw=2)\n",
    "plt.plot([0,1],[0,1],c='violet',ls='--')\n",
    "plt.xlim([-0.05,1.05])\n",
    "plt.ylim([-0.05,1.05])\n",
    "\n",
    "plt.xlabel('False positive rate')\n",
    "plt.ylabel('True positive rate')\n",
    "plt.title('ROC curve');\n",
    "print(\"ROC AUC score = \", roc_auc_score(y_val, grid_search.predict_proba(X_val)[:,1]))"
   ]
  },
  {
   "cell_type": "code",
   "execution_count": 52,
   "metadata": {
    "ExecuteTime": {
     "end_time": "2020-10-20T22:52:23.376131Z",
     "start_time": "2020-10-20T22:52:23.359688Z"
    }
   },
   "outputs": [
    {
     "name": "stdout",
     "output_type": "stream",
     "text": [
      "              precision    recall  f1-score   support\n",
      "\n",
      "           0       0.90      0.91      0.90      5242\n",
      "           1       0.81      0.80      0.81      2620\n",
      "\n",
      "    accuracy                           0.87      7862\n",
      "   macro avg       0.86      0.85      0.86      7862\n",
      "weighted avg       0.87      0.87      0.87      7862\n",
      "\n"
     ]
    }
   ],
   "source": [
    "print(classification_report(y_val, xgb_pred))"
   ]
  },
  {
   "cell_type": "code",
   "execution_count": 51,
   "metadata": {
    "ExecuteTime": {
     "end_time": "2020-10-20T22:51:53.744823Z",
     "start_time": "2020-10-20T22:51:53.546099Z"
    },
    "scrolled": true
   },
   "outputs": [
    {
     "data": {
      "image/png": "[encoded data removed]",
      "text/plain": [
       "<Figure size 576x432 with 2 Axes>"
      ]
     },
     "metadata": {
      "needs_background": "light"
     },
     "output_type": "display_data"
    }
   ],
   "source": [
    "model = 'XGBoost'\n",
    "\n",
    "xgb_cm = confusion_matrix(y_val, xgb_pred)\n",
    "plot_cm(xgb_cm, normalize=False, target_names=['human', 'bot'], title='Confusion Matrix: {}'.format(model))"
   ]
  },
  {
   "cell_type": "markdown",
   "metadata": {},
   "source": [
    "#### Cross Validation with Best Model"
   ]
  },
  {
   "cell_type": "markdown",
   "metadata": {
    "ExecuteTime": {
     "end_time": "2020-10-20T22:57:34.020790Z",
     "start_time": "2020-10-20T22:57:31.940780Z"
    }
   },
   "source": [
    "**Best XGBoost Model**\n",
    "\n",
    "```\n",
    "best_xgb = XGBClassifier(\n",
    "                    learning_rate=0.1,\n",
    "                    n_estimators=180,\n",
    "                    nthread=4,\n",
    "                    subsample = 0.8, \n",
    "                    colsample_bylevel = 0.6, \n",
    "                    colsample_bytree = 1.0, \n",
    "                    min_child_weight = 1, \n",
    "                    max_depth = 11\n",
    ")x\n",
    "```"
   ]
  },
  {
   "cell_type": "code",
   "execution_count": 149,
   "metadata": {
    "ExecuteTime": {
     "end_time": "2020-10-21T00:16:44.453832Z",
     "start_time": "2020-10-21T00:16:44.440864Z"
    }
   },
   "outputs": [],
   "source": [
    "df3 = df.copy()\n",
    "\n",
    "features = ['verified', \n",
    "            #'created_at',\n",
    "            #'hour_created',\n",
    "            'geo_enabled', \n",
    "            'default_profile', \n",
    "            'default_profile_image', \n",
    "            'favourites_count', \n",
    "            'followers_count', \n",
    "            'friends_count', \n",
    "            'statuses_count', \n",
    "            'average_tweets_per_day',\n",
    "            #'avg_daily_followers', \n",
    "            #'avg_daily_friends',\n",
    "            #'avg_daily_favorites',\n",
    "            'popularity', \n",
    "            'tweet_to_followers', \n",
    "            'follower_acq_rate', \n",
    "            'friends_acq_rate', \n",
    "            'favs_rate'\n",
    "           ]\n",
    "\n",
    "X = df3[features]\n",
    "y = df3['bot']\n",
    "\n",
    "X, X_test, y, y_test = train_test_split(X, y, test_size=.3, random_state=2020)"
   ]
  },
  {
   "cell_type": "code",
   "execution_count": 150,
   "metadata": {
    "ExecuteTime": {
     "end_time": "2020-10-21T00:17:18.692842Z",
     "start_time": "2020-10-21T00:17:06.772125Z"
    }
   },
   "outputs": [
    {
     "name": "stdout",
     "output_type": "stream",
     "text": [
      "XGBoost cross-validated scoring\n",
      "-------------------------------\n",
      "Accuracy:  0.87109 +- 0.005812\n",
      "Precision: 0.82466 +- 0.013785\n",
      "Recall:    0.77784 +- 0.007421\n",
      "F1 Score:  0.80047 +- 0.006394\n",
      "ROC AUC:   0.92758 +- 0.001879\n"
     ]
    }
   ],
   "source": [
    "kf = KFold(n_splits=5, shuffle=True, random_state=614)\n",
    "\n",
    "xgb_acc, xgb_prec, xgb_rec, xgb_f1, xgb_roc_auc = [], [], [], [], []\n",
    "\n",
    "X_kf, y_kf = np.array(X), np.array(y)\n",
    "\n",
    "for train_ind, val_ind in kf.split(X_smoted, y_smoted):\n",
    "\n",
    "    X_train, y_train = X_kf[train_ind], y_kf[train_ind]\n",
    "    X_val, y_val = X_kf[val_ind], y_kf[val_ind]\n",
    "    \n",
    "    # SMOTE training values\n",
    "    X_train_smoted, y_train_smoted = SMOTE(random_state=2049).fit_sample(X_train, y_train)\n",
    "\n",
    "    # XGBoost\n",
    "    xgb = XGBClassifier(\n",
    "                    learning_rate=0.1,\n",
    "                    n_estimators=180,\n",
    "                    nthread=4,\n",
    "                    subsample = 0.8, \n",
    "                    colsample_bylevel = 0.6, \n",
    "                    colsample_bytree = 1.0, \n",
    "                    min_child_weight = 1, \n",
    "                    max_depth = 11\n",
    "    )\n",
    "    xgb.fit(X_train_smoted, y_train_smoted)\n",
    "    xgb_pred = xgb.predict(X_val)\n",
    "\n",
    "    xgb_acc.append(accuracy_score(y_val, xgb_pred))\n",
    "    xgb_prec.append(precision_score(y_val, xgb_pred))\n",
    "    xgb_rec.append(recall_score(y_val, xgb_pred))\n",
    "    xgb_f1.append(f1_score(y_val, xgb_pred))\n",
    "    xgb_roc_auc.append(roc_auc_score(y_val, xgb.predict_proba(X_val)[:,1]))\n",
    "\n",
    "print(\"XGBoost cross-validated scoring\")\n",
    "print(\"-------------------------------\")\n",
    "print(f'Accuracy:  {np.mean(xgb_acc):.5f} +- {np.std(xgb_acc):5f}')\n",
    "print(f'Precision: {np.mean(xgb_prec):.5f} +- {np.std(xgb_prec):5f}')\n",
    "print(f'Recall:    {np.mean(xgb_rec):.5f} +- {np.std(xgb_rec):5f}')\n",
    "print(f'F1 Score:  {np.mean(xgb_f1):.5f} +- {np.std(xgb_f1):5f}')\n",
    "print(f'ROC AUC:   {np.mean(xgb_roc_auc):.5f} +- {np.std(xgb_roc_auc):5f}')"
   ]
  },
  {
   "cell_type": "markdown",
   "metadata": {},
   "source": [
    "#### Re-train and look at Confusion Matrix"
   ]
  },
  {
   "cell_type": "code",
   "execution_count": 151,
   "metadata": {
    "ExecuteTime": {
     "end_time": "2020-10-21T00:17:22.771747Z",
     "start_time": "2020-10-21T00:17:22.655783Z"
    }
   },
   "outputs": [],
   "source": [
    "df4 = df.copy()\n",
    "\n",
    "features = ['verified', \n",
    "            #'created_at',\n",
    "            #'hour_created',\n",
    "            'geo_enabled', \n",
    "            'default_profile', \n",
    "            'default_profile_image', \n",
    "            'favourites_count', \n",
    "            'followers_count', \n",
    "            'friends_count', \n",
    "            'statuses_count', \n",
    "            'average_tweets_per_day',\n",
    "            #'avg_daily_followers', \n",
    "            #'avg_daily_friends',\n",
    "            #'avg_daily_favorites',\n",
    "            'popularity', \n",
    "            'tweet_to_followers', \n",
    "            'follower_acq_rate', \n",
    "            'friends_acq_rate', \n",
    "            'favs_rate'\n",
    "           ]\n",
    "\n",
    "X = df4[features]\n",
    "y = df4['bot']\n",
    "\n",
    "X, X_test, y, y_test = train_test_split(X, y, test_size=.3, random_state=1)\n",
    "\n",
    "X_train, X_val, y_train, y_val = train_test_split(X, y, test_size=.3, random_state=2)\n",
    "\n",
    "X_smoted, y_smoted = SMOTE(random_state=3).fit_sample(X_train, y_train)"
   ]
  },
  {
   "cell_type": "code",
   "execution_count": 152,
   "metadata": {
    "ExecuteTime": {
     "end_time": "2020-10-21T00:17:28.091749Z",
     "start_time": "2020-10-21T00:17:25.993763Z"
    }
   },
   "outputs": [],
   "source": [
    "xgb = XGBClassifier(\n",
    "                    learning_rate=0.1,\n",
    "                    n_estimators=180,\n",
    "                    nthread=4,\n",
    "                    subsample = 0.8, \n",
    "                    colsample_bylevel = 0.6, \n",
    "                    colsample_bytree = 1.0, \n",
    "                    min_child_weight = 1, \n",
    "                    max_depth = 11\n",
    "    )\n",
    "\n",
    "xgb.fit(X_smoted, y_smoted)\n",
    "xgb_pred = xgb.predict(X_val)\n",
    "\n"
   ]
  },
  {
   "cell_type": "code",
   "execution_count": 153,
   "metadata": {
    "ExecuteTime": {
     "end_time": "2020-10-21T00:17:28.634024Z",
     "start_time": "2020-10-21T00:17:28.616947Z"
    }
   },
   "outputs": [
    {
     "name": "stdout",
     "output_type": "stream",
     "text": [
      "              precision    recall  f1-score   support\n",
      "\n",
      "           0       0.90      0.90      0.90      5254\n",
      "           1       0.80      0.79      0.79      2608\n",
      "\n",
      "    accuracy                           0.86      7862\n",
      "   macro avg       0.85      0.85      0.85      7862\n",
      "weighted avg       0.86      0.86      0.86      7862\n",
      "\n"
     ]
    }
   ],
   "source": [
    "print(classification_report(y_val, xgb_pred))"
   ]
  },
  {
   "cell_type": "code",
   "execution_count": 154,
   "metadata": {
    "ExecuteTime": {
     "end_time": "2020-10-21T00:17:31.244919Z",
     "start_time": "2020-10-21T00:17:30.968416Z"
    },
    "scrolled": true
   },
   "outputs": [
    {
     "data": {
      "image/png": "[encoded data removed]",
      "text/plain": [
       "<Figure size 576x432 with 2 Axes>"
      ]
     },
     "metadata": {
      "needs_background": "light"
     },
     "output_type": "display_data"
    }
   ],
   "source": [
    "model = 'XGBoost'\n",
    "\n",
    "xgb_cm = confusion_matrix(y_val, xgb_pred)\n",
    "plot_cm(xgb_cm, normalize=False, target_names=['human', 'bot'], \n",
    "        title='Confusion Matrix: {}'.format(model))"
   ]
  },
  {
   "cell_type": "markdown",
   "metadata": {},
   "source": [
    "# Evaluation"
   ]
  },
  {
   "cell_type": "markdown",
   "metadata": {},
   "source": [
    "**Model Evaluation after Cross Validation**\n",
    "\n",
    "**RandomForest with no parameter tuning**\n",
    "```\n",
    "RandomForest\n",
    "------------\n",
    "Accuracy:  0.87036 +- 0.003810\n",
    "Precision: 0.82851 +- 0.019905        # Best Score\n",
    "Recall:    0.76956 +- 0.018904\n",
    "F1 Score:  0.79753 +- 0.007001\n",
    "ROC AUC:   0.92606 +- 0.003713\n",
    "```\n",
    "\n",
    "**RandomForest Cross after tuning**\n",
    "\n",
    "```\n",
    "RandomForest\n",
    "------------\n",
    "Accuracy:  0.86755 +- 0.002660\n",
    "Precision: 0.81540 +- 0.014635\n",
    "Recall:    0.77607 +- 0.006013\n",
    "F1 Score:  0.79518 +- 0.008127\n",
    "ROC AUC:   0.92376 +- 0.003313\n",
    "```\n",
    "---\n",
    "\n",
    "**XGBoost with no parameter tuning**\n",
    "```\n",
    "XGBoost\n",
    "-------\n",
    "Accuracy:  0.87259 +- 0.002498        # Best Score\n",
    "Precision: 0.82089 +- 0.006591\n",
    "Recall:    0.78777 +- 0.008624        # Best Score\n",
    "F1 Score:  0.80395 +- 0.005084        # Best Score\n",
    "ROC AUC:   0.92863 +- 0.003112        # Best Score\n",
    "```\n",
    "\n",
    "**XGBoost after tuning**\n",
    "\n",
    "```\n",
    "XGBoost cross-validated scoring\n",
    "-------------------------------\n",
    "Accuracy:  0.87109 +- 0.005812\n",
    "Precision: 0.82466 +- 0.013785\n",
    "Recall:    0.77784 +- 0.007421\n",
    "F1 Score:  0.80047 +- 0.006394\n",
    "ROC AUC:   0.92758 +- 0.001879\n",
    "\n",
    "```"
   ]
  },
  {
   "cell_type": "code",
   "execution_count": null,
   "metadata": {},
   "outputs": [],
   "source": []
  },
  {
   "cell_type": "code",
   "execution_count": null,
   "metadata": {},
   "outputs": [],
   "source": []
  },
  {
   "cell_type": "code",
   "execution_count": null,
   "metadata": {},
   "outputs": [],
   "source": []
  }
 ],
 "metadata": {
  "kernelspec": {
   "display_name": "Python [conda env:metis] *",
   "language": "python",
   "name": "conda-env-metis-py"
  },
  "language_info": {
   "codemirror_mode": {
    "name": "ipython",
    "version": 3
   },
   "file_extension": ".py",
   "mimetype": "text/x-python",
   "name": "python",
   "nbconvert_exporter": "python",
   "pygments_lexer": "ipython3",
   "version": "3.8.5"
  },
  "toc": {
   "base_numbering": 1,
   "nav_menu": {},
   "number_sections": true,
   "sideBar": true,
   "skip_h1_title": false,
   "title_cell": "Table of Contents",
   "title_sidebar": "Contents",
   "toc_cell": false,
   "toc_position": {
    "height": "calc(100% - 180px)",
    "left": "10px",
    "top": "150px",
    "width": "336.391px"
   },
   "toc_section_display": true,
   "toc_window_display": true
  },
  "varInspector": {
   "cols": {
    "lenName": 16,
    "lenType": 16,
    "lenVar": 40
   },
   "kernels_config": {
    "python": {
     "delete_cmd_postfix": "",
     "delete_cmd_prefix": "del ",
     "library": "var_list.py",
     "varRefreshCmd": "print(var_dic_list())"
    },
    "r": {
     "delete_cmd_postfix": ") ",
     "delete_cmd_prefix": "rm(",
     "library": "var_list.r",
     "varRefreshCmd": "cat(var_dic_list()) "
    }
   },
   "types_to_exclude": [
    "module",
    "function",
    "builtin_function_or_method",
    "instance",
    "_Feature"
   ],
   "window_display": false
  }
 },
 "nbformat": 4,
 "nbformat_minor": 4
}
