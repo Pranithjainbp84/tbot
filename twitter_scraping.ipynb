{
 "cells": [
  {
   "cell_type": "markdown",
   "metadata": {},
   "source": [
    "# Scraping Twitter with Tweepy"
   ]
  },
  {
   "cell_type": "code",
   "execution_count": 6,
   "metadata": {
    "ExecuteTime": {
     "end_time": "2020-10-22T18:47:20.037063Z",
     "start_time": "2020-10-22T18:47:20.034338Z"
    }
   },
   "outputs": [],
   "source": [
    "# Imports\n",
    "import numpy as np\n",
    "import pandas as pd\n",
    "\n",
    "import tweepy\n",
    "\n",
    "from datetime import datetime\n",
    "import re\n",
    "import time"
   ]
  },
  {
   "cell_type": "code",
   "execution_count": 7,
   "metadata": {
    "ExecuteTime": {
     "end_time": "2020-10-22T18:47:21.243473Z",
     "start_time": "2020-10-22T18:47:21.239840Z"
    }
   },
   "outputs": [],
   "source": [
    "# twitter_keys = {\n",
    "#         'consumer_key':        '----INPUT KEYS HERE----',\n",
    "#         'consumer_secret':     '----INPUT KEYS HERE----',\n",
    "#         'access_token_key':    '----INPUT KEYS HERE----',\n",
    "#         'access_token_secret': '----INPUT KEYS HERE----'\n",
    "#     }\n",
    "\n",
    "\n",
    "\n",
    "#Setup access to API\n",
    "auth = tweepy.OAuthHandler(twitter_keys['consumer_key'], twitter_keys['consumer_secret'])\n",
    "auth.set_access_token(twitter_keys['access_token_key'], twitter_keys['access_token_secret'])\n",
    "\n",
    "api = tweepy.API(auth)"
   ]
  },
  {
   "cell_type": "markdown",
   "metadata": {},
   "source": [
    "### Current features in play"
   ]
  },
  {
   "cell_type": "code",
   "execution_count": 3,
   "metadata": {
    "ExecuteTime": {
     "end_time": "2020-10-18T22:17:57.880609Z",
     "start_time": "2020-10-18T22:17:57.878080Z"
    }
   },
   "outputs": [],
   "source": [
    "features = ['verified', \n",
    "            #'created_at',\n",
    "            'hour_created',\n",
    "            #'lang',\n",
    "            #'acct_location',\n",
    "            'geo_enabled', \n",
    "            'default_profile', \n",
    "            'default_profile_image', \n",
    "            'favourites_count', \n",
    "            'followers_count', \n",
    "            'friends_count', \n",
    "            'statuses_count', \n",
    "            'average_tweets_per_day',\n",
    "            #'avg_daily_followers', \n",
    "            #'avg_daily_friends',\n",
    "            #'avg_daily_favorites',\n",
    "            'popularity', \n",
    "            'tweet_to_followers', \n",
    "            'follower_acq_rate', \n",
    "            'friends_acq_rate', \n",
    "            #'favs_rate'\n",
    "           ]"
   ]
  },
  {
   "cell_type": "markdown",
   "metadata": {},
   "source": [
    "## Scraping functions"
   ]
  },
  {
   "cell_type": "markdown",
   "metadata": {
    "heading_collapsed": true
   },
   "source": [
    "### Scrape user info from Twitter handle"
   ]
  },
  {
   "cell_type": "code",
   "execution_count": 3,
   "metadata": {
    "ExecuteTime": {
     "end_time": "2020-10-22T17:11:49.605473Z",
     "start_time": "2020-10-22T17:11:49.600532Z"
    },
    "hidden": true
   },
   "outputs": [],
   "source": [
    "def get_user_info(screen_name):\n",
    "    '''\n",
    "    Input: a Twitter handle (screen_name)\n",
    "    Returns: a list of account-level information -- \n",
    "            [handle, created_at, account_age_days, verified, geo_enabled, lang, location, \n",
    "                default_profile, default_profile_image, favourites_count, followers_count, \n",
    "                friends_count, statuses_count, average_tweets_per_day]\n",
    "    '''\n",
    "    try:      \n",
    "        # Get user information from screen name\n",
    "        user = api.get_user(screen_name)\n",
    "        \n",
    "        # account attributes to return\n",
    "        handle = user.screen_name\n",
    "        created_at = user.created_at.strftime('%Y-%m-%d %H:%M:%S')\n",
    "        account_age_days = (datetime.now() - user.created_at).days       \n",
    "        verified = user.verified\n",
    "        geo_enabled = user.geo_enabled\n",
    "        lang = user.lang\n",
    "        location = user.location\n",
    "        default_profile = user.default_profile\n",
    "        default_profile_image = user.default_profile_image\n",
    "        favourites_count = user.favourites_count\n",
    "        followers_count = user.followers_count\n",
    "        friends_count = user.friends_count\n",
    "        statuses_count = user.statuses_count\n",
    "        average_tweets_per_day = np.round(statuses_count / account_age_days, 3)\n",
    "        \n",
    "        # organizing list to be returned\n",
    "        account_info = [handle, created_at, account_age_days, verified, geo_enabled, lang, location, \n",
    "                        default_profile, default_profile_image, favourites_count, followers_count, \n",
    "                        friends_count, statuses_count, average_tweets_per_day]\n",
    "        \n",
    "    except BaseException as e:\n",
    "          print('failed on_status,',str(e))\n",
    "          time.sleep(3)\n",
    "    \n",
    "    return account_info "
   ]
  },
  {
   "cell_type": "code",
   "execution_count": 4,
   "metadata": {
    "ExecuteTime": {
     "end_time": "2020-10-22T17:11:51.248911Z",
     "start_time": "2020-10-22T17:11:51.110886Z"
    },
    "hidden": true
   },
   "outputs": [
    {
     "data": {
      "text/plain": [
       "['scrapfishies',\n",
       " '2020-07-08 14:28:25',\n",
       " 105,\n",
       " False,\n",
       " False,\n",
       " None,\n",
       " 'Oakland, CA',\n",
       " True,\n",
       " False,\n",
       " 17,\n",
       " 2,\n",
       " 62,\n",
       " 14,\n",
       " 0.133]"
      ]
     },
     "execution_count": 4,
     "metadata": {},
     "output_type": "execute_result"
    }
   ],
   "source": [
    "#get_user_info('scrapfishies')"
   ]
  },
  {
   "cell_type": "markdown",
   "metadata": {},
   "source": [
    "### Scrape multiple users from a list into a dataframe"
   ]
  },
  {
   "cell_type": "code",
   "execution_count": 3,
   "metadata": {
    "ExecuteTime": {
     "end_time": "2020-10-22T18:42:16.264232Z",
     "start_time": "2020-10-22T18:42:16.260333Z"
    }
   },
   "outputs": [],
   "source": [
    "def account_level_df(list_of_users):\n",
    "    '''\n",
    "    Input: a list of Twitter users (by handle or screen name)\n",
    "    Returns: a pandas dataframe of account-level details provided \n",
    "                using the get_user_info() function\n",
    "    '''\n",
    "    try: \n",
    "        # Scrape each account and compile into a list\n",
    "        accounts = [get_user_info(user) for user in list_of_users]\n",
    "        \n",
    "        # Assemble accounts list into a pandas dataframe\n",
    "        headers = ['handle', 'created_at', 'account_age_days', 'verified', 'geo_enabled', 'lang', 'location', \n",
    "                        'default_profile', 'default_profile_image', 'favourites_count', 'followers_count', \n",
    "                        'friends_count', 'statuses_count', 'average_tweets_per_day']   \n",
    "        \n",
    "        df = pd.DataFrame(accounts, columns=headers)\n",
    "    \n",
    "    except BaseException as e:\n",
    "          print('failed on_status,',str(e))\n",
    "          time.sleep(3)\n",
    "        \n",
    "    return df    "
   ]
  },
  {
   "cell_type": "code",
   "execution_count": 7,
   "metadata": {
    "ExecuteTime": {
     "end_time": "2020-10-18T22:18:05.076951Z",
     "start_time": "2020-10-18T22:18:04.719026Z"
    }
   },
   "outputs": [
    {
     "data": {
      "text/html": [
       "<div>\n",
       "<style scoped>\n",
       "    .dataframe tbody tr th:only-of-type {\n",
       "        vertical-align: middle;\n",
       "    }\n",
       "\n",
       "    .dataframe tbody tr th {\n",
       "        vertical-align: top;\n",
       "    }\n",
       "\n",
       "    .dataframe thead th {\n",
       "        text-align: right;\n",
       "    }\n",
       "</style>\n",
       "<table border=\"1\" class=\"dataframe\">\n",
       "  <thead>\n",
       "    <tr style=\"text-align: right;\">\n",
       "      <th></th>\n",
       "      <th>handle</th>\n",
       "      <th>created_at</th>\n",
       "      <th>account_age_days</th>\n",
       "      <th>verified</th>\n",
       "      <th>geo_enabled</th>\n",
       "      <th>lang</th>\n",
       "      <th>location</th>\n",
       "      <th>default_profile</th>\n",
       "      <th>default_profile_image</th>\n",
       "      <th>favourites_count</th>\n",
       "      <th>followers_count</th>\n",
       "      <th>friends_count</th>\n",
       "      <th>statuses_count</th>\n",
       "      <th>average_tweets_per_day</th>\n",
       "    </tr>\n",
       "  </thead>\n",
       "  <tbody>\n",
       "    <tr>\n",
       "      <th>0</th>\n",
       "      <td>scrapfishies</td>\n",
       "      <td>2020-07-08 14:28:25</td>\n",
       "      <td>102</td>\n",
       "      <td>False</td>\n",
       "      <td>False</td>\n",
       "      <td>None</td>\n",
       "      <td>Oakland, CA</td>\n",
       "      <td>True</td>\n",
       "      <td>False</td>\n",
       "      <td>17</td>\n",
       "      <td>2</td>\n",
       "      <td>61</td>\n",
       "      <td>14</td>\n",
       "      <td>0.137</td>\n",
       "    </tr>\n",
       "    <tr>\n",
       "      <th>1</th>\n",
       "      <td>AOC</td>\n",
       "      <td>2010-04-28 22:38:40</td>\n",
       "      <td>3825</td>\n",
       "      <td>True</td>\n",
       "      <td>False</td>\n",
       "      <td>None</td>\n",
       "      <td>Bronx + Queens, NYC</td>\n",
       "      <td>False</td>\n",
       "      <td>False</td>\n",
       "      <td>26910</td>\n",
       "      <td>9086267</td>\n",
       "      <td>2747</td>\n",
       "      <td>11275</td>\n",
       "      <td>2.948</td>\n",
       "    </tr>\n",
       "    <tr>\n",
       "      <th>2</th>\n",
       "      <td>FloridaMan_</td>\n",
       "      <td>2014-07-24 02:57:55</td>\n",
       "      <td>2278</td>\n",
       "      <td>False</td>\n",
       "      <td>False</td>\n",
       "      <td>None</td>\n",
       "      <td></td>\n",
       "      <td>True</td>\n",
       "      <td>True</td>\n",
       "      <td>1</td>\n",
       "      <td>20</td>\n",
       "      <td>0</td>\n",
       "      <td>8</td>\n",
       "      <td>0.004</td>\n",
       "    </tr>\n",
       "  </tbody>\n",
       "</table>\n",
       "</div>"
      ],
      "text/plain": [
       "         handle           created_at  account_age_days  verified  geo_enabled  \\\n",
       "0  scrapfishies  2020-07-08 14:28:25               102     False        False   \n",
       "1           AOC  2010-04-28 22:38:40              3825      True        False   \n",
       "2   FloridaMan_  2014-07-24 02:57:55              2278     False        False   \n",
       "\n",
       "   lang             location  default_profile  default_profile_image  \\\n",
       "0  None          Oakland, CA             True                  False   \n",
       "1  None  Bronx + Queens, NYC            False                  False   \n",
       "2  None                                  True                   True   \n",
       "\n",
       "   favourites_count  followers_count  friends_count  statuses_count  \\\n",
       "0                17                2             61              14   \n",
       "1             26910          9086267           2747           11275   \n",
       "2                 1               20              0               8   \n",
       "\n",
       "   average_tweets_per_day  \n",
       "0                   0.137  \n",
       "1                   2.948  \n",
       "2                   0.004  "
      ]
     },
     "execution_count": 7,
     "metadata": {},
     "output_type": "execute_result"
    }
   ],
   "source": [
    "#users = ['scrapfishies', 'aoc', 'FloridaMan_']\n",
    "\n",
    "#account_level_df(users)"
   ]
  },
  {
   "cell_type": "markdown",
   "metadata": {},
   "source": [
    "## Scrape for predictions"
   ]
  },
  {
   "cell_type": "code",
   "execution_count": 18,
   "metadata": {
    "ExecuteTime": {
     "end_time": "2020-10-22T18:49:52.335517Z",
     "start_time": "2020-10-22T18:49:52.328998Z"
    }
   },
   "outputs": [],
   "source": [
    "### STILL IN PROGRESS\n",
    "\n",
    "def get_user_features(screen_name):\n",
    "    '''\n",
    "    Input: a Twitter handle (screen_name)\n",
    "    Returns: a list of account-level information used to make a prediction \n",
    "            whether the user is a bot or not\n",
    "    '''\n",
    "    try:      \n",
    "        # Get user information from screen name\n",
    "        user = api.get_user(screen_name)\n",
    "        \n",
    "        # account features to return for predicton\n",
    "        handle = user.screen_name\n",
    "        created_at = user.created_at.strftime('%Y-%m-%d %H:%M:%S')\n",
    "        account_age_days = (datetime.now() - user.created_at).days       \n",
    "        verified = user.verified\n",
    "        geo_enabled = user.geo_enabled\n",
    "        lang = user.lang\n",
    "        location = user.location\n",
    "        default_profile = user.default_profile\n",
    "        default_profile_image = user.default_profile_image\n",
    "        favourites_count = user.favourites_count\n",
    "        followers_count = user.followers_count\n",
    "        friends_count = user.friends_count\n",
    "        statuses_count = user.statuses_count\n",
    "        average_tweets_per_day = np.round(statuses_count / account_age_days, 3)\n",
    "        \n",
    "        # manufactured features\n",
    "        hour_created = user.created_at.strftime('%H')\n",
    "        popularity = np.round(np.log(1 + friends_count) * np.log(1 + followers_count), 3)\n",
    "        tweet_to_followers = np.round(np.log(1 + statuses_count) / np.log(1 + followers_count), 3)\n",
    "        follower_acq_rate = np.round(np.log(1 + (followers_count / account_age_days)), 3)\n",
    "        friends_acq_rate = np.round(np.log(1 + (friends_count / account_age_days)), 3)\n",
    "        \n",
    "        # organizing list to be returned\n",
    "        account_features = [verified, hour_created, geo_enabled, default_profile, default_profile_image, \n",
    "                           favourites_count, followers_count, friends_count, statuses_count, \n",
    "                           average_tweets_per_day, popularity, tweet_to_followers, follower_acq_rate, \n",
    "                           friends_acq_rate]\n",
    "        \n",
    "    except BaseException as e:\n",
    "          print('failed on_status,',str(e))\n",
    "          time.sleep(3)\n",
    "    \n",
    "    return account_features "
   ]
  },
  {
   "cell_type": "code",
   "execution_count": null,
   "metadata": {},
   "outputs": [],
   "source": [
    "features = ['verified', \n",
    "            #'created_at',\n",
    "            'hour_created',\n",
    "            #'lang',\n",
    "            #'acct_location',\n",
    "            'geo_enabled', \n",
    "            'default_profile', \n",
    "            'default_profile_image', \n",
    "            'favourites_count', \n",
    "            'followers_count', \n",
    "            'friends_count', \n",
    "            'statuses_count', \n",
    "            'average_tweets_per_day',\n",
    "            #'avg_daily_followers', \n",
    "            #'avg_daily_friends',\n",
    "            #'avg_daily_favorites',\n",
    "            'popularity', \n",
    "            'tweet_to_followers', \n",
    "            'follower_acq_rate', \n",
    "            'friends_acq_rate', \n",
    "            #'favs_rate'\n",
    "           ]"
   ]
  },
  {
   "cell_type": "code",
   "execution_count": null,
   "metadata": {},
   "outputs": [],
   "source": []
  },
  {
   "cell_type": "code",
   "execution_count": 19,
   "metadata": {
    "ExecuteTime": {
     "end_time": "2020-10-22T18:53:02.130499Z",
     "start_time": "2020-10-22T18:53:01.959811Z"
    }
   },
   "outputs": [
    {
     "data": {
      "text/plain": [
       "matrix([['False', '14', 'False', 'True', 'False', '17', '2', '62', '14',\n",
       "         '0.133', '4.552', '2.465', '0.019', '0.464']], dtype='<U5')"
      ]
     },
     "execution_count": 19,
     "metadata": {},
     "output_type": "execute_result"
    }
   ],
   "source": [
    "user_info = np.matrix(get_user_features('scrapfishies'))\n",
    "user_info"
   ]
  },
  {
   "cell_type": "code",
   "execution_count": null,
   "metadata": {},
   "outputs": [],
   "source": []
  },
  {
   "cell_type": "code",
   "execution_count": null,
   "metadata": {},
   "outputs": [],
   "source": []
  },
  {
   "cell_type": "code",
   "execution_count": null,
   "metadata": {},
   "outputs": [],
   "source": []
  }
 ],
 "metadata": {
  "kernelspec": {
   "display_name": "Python [conda env:metis] *",
   "language": "python",
   "name": "conda-env-metis-py"
  },
  "language_info": {
   "codemirror_mode": {
    "name": "ipython",
    "version": 3
   },
   "file_extension": ".py",
   "mimetype": "text/x-python",
   "name": "python",
   "nbconvert_exporter": "python",
   "pygments_lexer": "ipython3",
   "version": "3.8.5"
  },
  "toc": {
   "base_numbering": 1,
   "nav_menu": {},
   "number_sections": true,
   "sideBar": true,
   "skip_h1_title": false,
   "title_cell": "Table of Contents",
   "title_sidebar": "Contents",
   "toc_cell": false,
   "toc_position": {},
   "toc_section_display": true,
   "toc_window_display": true
  },
  "varInspector": {
   "cols": {
    "lenName": 16,
    "lenType": 16,
    "lenVar": 40
   },
   "kernels_config": {
    "python": {
     "delete_cmd_postfix": "",
     "delete_cmd_prefix": "del ",
     "library": "var_list.py",
     "varRefreshCmd": "print(var_dic_list())"
    },
    "r": {
     "delete_cmd_postfix": ") ",
     "delete_cmd_prefix": "rm(",
     "library": "var_list.r",
     "varRefreshCmd": "cat(var_dic_list()) "
    }
   },
   "types_to_exclude": [
    "module",
    "function",
    "builtin_function_or_method",
    "instance",
    "_Feature"
   ],
   "window_display": false
  }
 },
 "nbformat": 4,
 "nbformat_minor": 4
}
