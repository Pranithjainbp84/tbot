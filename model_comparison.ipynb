{
 "cells": [
  {
   "cell_type": "markdown",
   "metadata": {},
   "source": [
    "# Twitter Bot or Not?\n",
    "\n",
    "Model Comparison: \n",
    "* RandomForest \n",
    "* XGBoost\n",
    "\n",
    "Oversampling Method Comparison: \n",
    "* None\n",
    "* RandomOversampler\n",
    "* SMOTE\n",
    "* ADASYN"
   ]
  },
  {
   "cell_type": "code",
   "execution_count": 1,
   "metadata": {
    "ExecuteTime": {
     "end_time": "2020-10-20T00:24:15.212898Z",
     "start_time": "2020-10-20T00:24:12.658572Z"
    }
   },
   "outputs": [],
   "source": [
    "# Basics\n",
    "import pandas as pd\n",
    "import numpy as np\n",
    "from collections import Counter\n",
    "\n",
    "# Visuals\n",
    "import matplotlib.pyplot as plt\n",
    "%matplotlib inline\n",
    "import seaborn as sns\n",
    "from visualize import *\n",
    "\n",
    "# Models\n",
    "from sklearn.ensemble import RandomForestClassifier\n",
    "from xgboost import XGBClassifier\n",
    "\n",
    "# Model support\n",
    "from sklearn.model_selection import train_test_split, cross_val_score, learning_curve, KFold, StratifiedKFold\n",
    "from sklearn.metrics import mean_squared_error, r2_score\n",
    "from sklearn.preprocessing import StandardScaler\n",
    "from sklearn.metrics import (accuracy_score, classification_report, confusion_matrix, f1_score, \n",
    "                             plot_confusion_matrix, precision_score, recall_score, roc_auc_score, roc_curve)\n",
    "from imblearn.over_sampling import RandomOverSampler, SMOTE, ADASYN"
   ]
  },
  {
   "cell_type": "markdown",
   "metadata": {},
   "source": [
    "## Data import and setup"
   ]
  },
  {
   "cell_type": "code",
   "execution_count": 2,
   "metadata": {
    "ExecuteTime": {
     "end_time": "2020-10-20T00:24:15.558604Z",
     "start_time": "2020-10-20T00:24:15.214730Z"
    }
   },
   "outputs": [],
   "source": [
    "raw_df = pd.read_csv('data_files/twitter_human_bots_dataset.csv.zip', index_col=False)\n",
    "\n",
    "# drop funny index column\n",
    "raw_df.drop(columns=['Unnamed: 0'], inplace=True)\n",
    "\n",
    "# Binary classifications for bots and boolean values\n",
    "raw_df['bot'] = raw_df['account_type'].apply(lambda x: 1 if x == 'bot' else 0)\n",
    "raw_df['default_profile'] = raw_df['default_profile'].astype(int)\n",
    "raw_df['default_profile'] = raw_df['default_profile'].astype(int)\n",
    "raw_df['default_profile_image'] = raw_df['default_profile_image'].astype(int)\n",
    "raw_df['geo_enabled'] = raw_df['geo_enabled'].astype(int)\n",
    "raw_df['verified'] = raw_df['verified'].astype(int)\n",
    "\n",
    "# datetime conversion\n",
    "raw_df['created_at'] = pd.to_datetime(raw_df['created_at'])\n",
    "# hour created\n",
    "raw_df['hour_created'] = pd.to_datetime(raw_df['created_at']).dt.hour\n",
    "\n"
   ]
  },
  {
   "cell_type": "code",
   "execution_count": 3,
   "metadata": {
    "ExecuteTime": {
     "end_time": "2020-10-20T00:24:15.570260Z",
     "start_time": "2020-10-20T00:24:15.560438Z"
    }
   },
   "outputs": [],
   "source": [
    "# usable df setup\n",
    "df = raw_df[['bot', 'screen_name', 'created_at', 'hour_created', 'verified', 'location', 'geo_enabled', 'lang', 'default_profile', \n",
    "              'default_profile_image', 'favourites_count', 'followers_count', 'friends_count', 'statuses_count',\n",
    "             'average_tweets_per_day', 'account_age_days']]"
   ]
  },
  {
   "cell_type": "code",
   "execution_count": 4,
   "metadata": {
    "ExecuteTime": {
     "end_time": "2020-10-20T00:24:15.596400Z",
     "start_time": "2020-10-20T00:24:15.571979Z"
    }
   },
   "outputs": [
    {
     "name": "stderr",
     "output_type": "stream",
     "text": [
      "<ipython-input-4-f05b6e00d5a8>:2: SettingWithCopyWarning: \n",
      "A value is trying to be set on a copy of a slice from a DataFrame.\n",
      "Try using .loc[row_indexer,col_indexer] = value instead\n",
      "\n",
      "See the caveats in the documentation: https://pandas.pydata.org/pandas-docs/stable/user_guide/indexing.html#returning-a-view-versus-a-copy\n",
      "  df['avg_daily_followers'] = np.round(df['followers_count'] / df['account_age_days'])\n",
      "<ipython-input-4-f05b6e00d5a8>:3: SettingWithCopyWarning: \n",
      "A value is trying to be set on a copy of a slice from a DataFrame.\n",
      "Try using .loc[row_indexer,col_indexer] = value instead\n",
      "\n",
      "See the caveats in the documentation: https://pandas.pydata.org/pandas-docs/stable/user_guide/indexing.html#returning-a-view-versus-a-copy\n",
      "  df['avg_daily_friends'] = np.round(df['followers_count'] / df['account_age_days'])\n",
      "<ipython-input-4-f05b6e00d5a8>:4: SettingWithCopyWarning: \n",
      "A value is trying to be set on a copy of a slice from a DataFrame.\n",
      "Try using .loc[row_indexer,col_indexer] = value instead\n",
      "\n",
      "See the caveats in the documentation: https://pandas.pydata.org/pandas-docs/stable/user_guide/indexing.html#returning-a-view-versus-a-copy\n",
      "  df['avg_daily_favorites'] = np.round(df['followers_count'] / df['account_age_days'])\n",
      "<ipython-input-4-f05b6e00d5a8>:7: SettingWithCopyWarning: \n",
      "A value is trying to be set on a copy of a slice from a DataFrame.\n",
      "Try using .loc[row_indexer,col_indexer] = value instead\n",
      "\n",
      "See the caveats in the documentation: https://pandas.pydata.org/pandas-docs/stable/user_guide/indexing.html#returning-a-view-versus-a-copy\n",
      "  df['friends_log'] = np.round(np.log(1 + df['friends_count']), 3)\n"
     ]
    }
   ],
   "source": [
    "# Interesting features to look at: \n",
    "df['avg_daily_followers'] = np.round(df['followers_count'] / df['account_age_days'])\n",
    "df['avg_daily_friends'] = np.round(df['followers_count'] / df['account_age_days'])\n",
    "df['avg_daily_favorites'] = np.round(df['followers_count'] / df['account_age_days'])\n",
    "\n",
    "# Log transformations for highly skewed data\n",
    "df['friends_log'] = np.round(np.log(1 + df['friends_count']), 3)\n",
    "df['followers_log'] = np.round(np.log(1 + df['followers_count']), 3)\n",
    "df['favs_log'] = np.round(np.log(1 + df['favourites_count']), 3)\n",
    "df['avg_daily_tweets_log'] = np.round(np.log(1+ df['average_tweets_per_day']), 3)\n",
    "\n",
    "# Possible popularity metrics\n",
    "df['popularity'] = np.round(df['friends_log'] * df['followers_log'], 3)\n",
    "df['tweet_to_followers'] = np.round(np.log( 1+ df['statuses_count']) * np.log(1+ df['followers_count']), 3)\n",
    "\n",
    "# Log-transformed daily acquisition metrics for dist. plots\n",
    "df['follower_acq_rate'] = np.round(np.log(1 + (df['followers_count'] / df['account_age_days'])), 3)\n",
    "df['friends_acq_rate'] = np.round(np.log(1 + (df['friends_count'] / df['account_age_days'])), 3)\n",
    "df['favs_rate'] = np.round(np.log(1 + (df['friends_count'] / df['account_age_days'])), 3)"
   ]
  },
  {
   "cell_type": "code",
   "execution_count": 5,
   "metadata": {
    "ExecuteTime": {
     "end_time": "2020-10-20T00:24:15.603988Z",
     "start_time": "2020-10-20T00:24:15.598115Z"
    }
   },
   "outputs": [],
   "source": [
    "del raw_df"
   ]
  },
  {
   "cell_type": "code",
   "execution_count": 6,
   "metadata": {
    "ExecuteTime": {
     "end_time": "2020-10-20T00:24:15.623962Z",
     "start_time": "2020-10-20T00:24:15.605534Z"
    }
   },
   "outputs": [
    {
     "name": "stdout",
     "output_type": "stream",
     "text": [
      "Number of bots:  12425\n",
      "Number of humans:  25013\n",
      "Bots / Total %:  33.18820449810353\n"
     ]
    }
   ],
   "source": [
    "num_bots = len(df[df['bot'] == 1])\n",
    "num_humans = len(df[df['bot'] == 0])\n",
    "\n",
    "print(\"Number of bots: \", num_bots)\n",
    "print(\"Number of humans: \", num_humans)\n",
    "print(\"Bots / Total %: \", (num_bots / len(df)) * 100)"
   ]
  },
  {
   "cell_type": "code",
   "execution_count": 7,
   "metadata": {
    "ExecuteTime": {
     "end_time": "2020-10-20T00:24:15.632413Z",
     "start_time": "2020-10-20T00:24:15.628070Z"
    }
   },
   "outputs": [],
   "source": [
    "features = ['verified', \n",
    "            #'created_at',\n",
    "            #'hour_created',\n",
    "            'geo_enabled', \n",
    "            'default_profile', \n",
    "            'default_profile_image', \n",
    "            'favourites_count', \n",
    "            'followers_count', \n",
    "            'friends_count', \n",
    "            'statuses_count', \n",
    "            'average_tweets_per_day',\n",
    "            #'avg_daily_followers', \n",
    "            #'avg_daily_friends',\n",
    "            #'avg_daily_favorites',\n",
    "            'popularity', \n",
    "            'tweet_to_followers', \n",
    "            'follower_acq_rate', \n",
    "            'friends_acq_rate', \n",
    "            'favs_rate'\n",
    "           ]\n",
    "\n",
    "X = df[features]\n",
    "y = df['bot']"
   ]
  },
  {
   "cell_type": "code",
   "execution_count": null,
   "metadata": {},
   "outputs": [],
   "source": []
  },
  {
   "cell_type": "code",
   "execution_count": null,
   "metadata": {},
   "outputs": [],
   "source": []
  },
  {
   "cell_type": "code",
   "execution_count": 8,
   "metadata": {
    "ExecuteTime": {
     "end_time": "2020-10-20T00:24:15.644318Z",
     "start_time": "2020-10-20T00:24:15.635540Z"
    }
   },
   "outputs": [],
   "source": [
    "def kf_model_compare(X, y, n_splits=3, random_state=3):\n",
    "    \n",
    "    kf = KFold(n_splits=n_splits, shuffle=True, random_state=random_state)\n",
    "\n",
    "    forest_acc, forest_prec, forest_rec, forest_f1, forest_roc_auc = [], [], [], [], []\n",
    "    xgb_acc, xgb_prec, xgb_rec, xgb_f1, xgb_roc_auc = [], [], [], [], []\n",
    "\n",
    "    X_kf, y_kf = np.array(X), np.array(y)\n",
    "    \n",
    "    for train_ind, val_ind in kf.split(X, y):\n",
    "\n",
    "        X_train, y_train = X_kf[train_ind], y_kf[train_ind]\n",
    "        X_val, y_val = X_kf[val_ind], y_kf[val_ind]\n",
    "\n",
    "        # Random Forest\n",
    "        forest = RandomForestClassifier()\n",
    "        forest.fit(X_train, y_train)\n",
    "        forest_pred = forest.predict(X_val)\n",
    "\n",
    "        forest_acc.append(accuracy_score(y_val, forest_pred))\n",
    "        forest_prec.append(precision_score(y_val, forest_pred))\n",
    "        forest_rec.append(recall_score(y_val, forest_pred))\n",
    "        forest_f1.append(f1_score(y_val, forest_pred))\n",
    "        forest_roc_auc.append(roc_auc_score(y_val, forest.predict_proba(X_val)[:,1]))\n",
    "\n",
    "        # XGBoost\n",
    "        xgb = XGBClassifier()\n",
    "        xgb.fit(X_train, y_train)\n",
    "        xgb_pred = xgb.predict(X_val)\n",
    "\n",
    "        xgb_acc.append(accuracy_score(y_val, xgb_pred))\n",
    "        xgb_prec.append(precision_score(y_val, xgb_pred))\n",
    "        xgb_rec.append(recall_score(y_val, xgb_pred))\n",
    "        xgb_f1.append(f1_score(y_val, xgb_pred))\n",
    "        xgb_roc_auc.append(roc_auc_score(y_val, xgb.predict_proba(X_val)[:,1]))\n",
    "\n",
    "\n",
    "    print(\"RandomForest\")\n",
    "    print(f'Accuracy: {np.mean(forest_acc):.5f} +- {np.std(forest_acc):5f}')\n",
    "    print(f'Precision: {np.mean(forest_prec):.5f} +- {np.std(forest_prec):5f}')\n",
    "    print(f'Recall: {np.mean(forest_rec):.5f} +- {np.std(forest_rec):5f}')\n",
    "    print(f'F1 Score: {np.mean(forest_f1):.5f} +- {np.std(forest_f1):5f}')\n",
    "    print(f'ROC AUC: {np.mean(forest_roc_auc):.5f} +- {np.std(forest_roc_auc):5f}')\n",
    "    print(\"\")\n",
    "    print(\"XGBoost\")\n",
    "    print(f'Accuracy: {np.mean(xgb_acc):.5f} +- {np.std(xgb_acc):5f}')\n",
    "    print(f'Precision: {np.mean(xgb_prec):.5f} +- {np.std(xgb_prec):5f}')\n",
    "    print(f'Recall: {np.mean(xgb_rec):.5f} +- {np.std(xgb_rec):5f}')\n",
    "    print(f'F1 Score: {np.mean(xgb_f1):.5f} +- {np.std(xgb_f1):5f}')\n",
    "    print(f'ROC AUC: {np.mean(xgb_roc_auc):.5f} +- {np.std(xgb_roc_auc):5f}')"
   ]
  },
  {
   "cell_type": "markdown",
   "metadata": {},
   "source": [
    "## No Oversampling"
   ]
  },
  {
   "cell_type": "code",
   "execution_count": 9,
   "metadata": {
    "ExecuteTime": {
     "end_time": "2020-10-20T00:24:37.077761Z",
     "start_time": "2020-10-20T00:24:15.645956Z"
    }
   },
   "outputs": [
    {
     "name": "stdout",
     "output_type": "stream",
     "text": [
      "RandomForest\n",
      "Accuracy: 0.87336 +- 0.002599\n",
      "Precision: 0.85314 +- 0.004486\n",
      "Recall: 0.74710 +- 0.008123\n",
      "F1 Score: 0.79656 +- 0.003321\n",
      "ROC AUC: 0.92754 +- 0.002403\n",
      "\n",
      "XGBoost\n",
      "Accuracy: 0.87417 +- 0.003397\n",
      "Precision: 0.84895 +- 0.004499\n",
      "Recall: 0.75523 +- 0.007839\n",
      "F1 Score: 0.79933 +- 0.004919\n",
      "ROC AUC: 0.92904 +- 0.002306\n"
     ]
    }
   ],
   "source": [
    "kf_model_compare(X, y, n_splits=4, random_state=37)"
   ]
  },
  {
   "cell_type": "code",
   "execution_count": null,
   "metadata": {},
   "outputs": [],
   "source": []
  },
  {
   "cell_type": "code",
   "execution_count": null,
   "metadata": {},
   "outputs": [],
   "source": []
  },
  {
   "cell_type": "code",
   "execution_count": null,
   "metadata": {},
   "outputs": [],
   "source": []
  },
  {
   "cell_type": "code",
   "execution_count": null,
   "metadata": {},
   "outputs": [],
   "source": []
  },
  {
   "cell_type": "code",
   "execution_count": null,
   "metadata": {},
   "outputs": [],
   "source": []
  }
 ],
 "metadata": {
  "kernelspec": {
   "display_name": "Python [conda env:metis] *",
   "language": "python",
   "name": "conda-env-metis-py"
  },
  "language_info": {
   "codemirror_mode": {
    "name": "ipython",
    "version": 3
   },
   "file_extension": ".py",
   "mimetype": "text/x-python",
   "name": "python",
   "nbconvert_exporter": "python",
   "pygments_lexer": "ipython3",
   "version": "3.8.5"
  },
  "toc": {
   "base_numbering": 1,
   "nav_menu": {},
   "number_sections": true,
   "sideBar": true,
   "skip_h1_title": false,
   "title_cell": "Table of Contents",
   "title_sidebar": "Contents",
   "toc_cell": false,
   "toc_position": {},
   "toc_section_display": true,
   "toc_window_display": true
  },
  "varInspector": {
   "cols": {
    "lenName": 16,
    "lenType": 16,
    "lenVar": 40
   },
   "kernels_config": {
    "python": {
     "delete_cmd_postfix": "",
     "delete_cmd_prefix": "del ",
     "library": "var_list.py",
     "varRefreshCmd": "print(var_dic_list())"
    },
    "r": {
     "delete_cmd_postfix": ") ",
     "delete_cmd_prefix": "rm(",
     "library": "var_list.r",
     "varRefreshCmd": "cat(var_dic_list()) "
    }
   },
   "types_to_exclude": [
    "module",
    "function",
    "builtin_function_or_method",
    "instance",
    "_Feature"
   ],
   "window_display": false
  }
 },
 "nbformat": 4,
 "nbformat_minor": 4
}
