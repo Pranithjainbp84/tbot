{
 "cells": [
  {
   "cell_type": "markdown",
   "metadata": {},
   "source": [
    "# Twitter Bot or Not?: First Simple Model\n",
    "\n",
    "Predicting whether or not a Twitter account is a bot or human using account-level information. \n",
    "* Target variable: Bot or not? \n",
    "    * Bot = 1\n",
    "    * Human = 0 \n",
    "\n",
    "**Notes**\n",
    "* Dataset source: [Twitter Bot Accounts](https://www.kaggle.com/davidmartngutirrez/twitter-bots-accounts?select=twitter_human_bots_dataset.csv)\n",
    "* Feature notes -- 'friends'?     \n",
    "    * `friends_count` = Following\n",
    "    * `followers_count` = Followers"
   ]
  },
  {
   "cell_type": "code",
   "execution_count": 71,
   "metadata": {
    "ExecuteTime": {
     "end_time": "2020-10-18T17:17:17.264397Z",
     "start_time": "2020-10-18T17:17:17.257819Z"
    }
   },
   "outputs": [],
   "source": [
    "# Basics\n",
    "import pandas as pd\n",
    "import numpy as np\n",
    "\n",
    "# Visuals\n",
    "import matplotlib.pyplot as plt\n",
    "%matplotlib inline\n",
    "import seaborn as sns\n",
    "from visualize import plot_cm\n",
    "\n",
    "# Models\n",
    "from sklearn.tree import DecisionTreeClassifier\n",
    "from sklearn.naive_bayes import GaussianNB\n",
    "from sklearn.neighbors import KNeighborsClassifier\n",
    "from sklearn.linear_model import LogisticRegression\n",
    "from sklearn.ensemble import RandomForestClassifier\n",
    "from sklearn.svm import SVC\n",
    "\n",
    "# Model support\n",
    "from matplotlib.colors import ListedColormap\n",
    "from sklearn.model_selection import train_test_split, cross_val_score, learning_curve\n",
    "from sklearn.metrics import mean_squared_error, r2_score\n",
    "from sklearn.preprocessing import StandardScaler\n",
    "from sklearn.metrics import (accuracy_score, classification_report, confusion_matrix, f1_score, \n",
    "                             plot_confusion_matrix, precision_score, recall_score, roc_auc_score, roc_curve)"
   ]
  },
  {
   "cell_type": "markdown",
   "metadata": {},
   "source": [
    "## Data import and setup"
   ]
  },
  {
   "cell_type": "code",
   "execution_count": 2,
   "metadata": {
    "ExecuteTime": {
     "end_time": "2020-10-18T16:18:23.839311Z",
     "start_time": "2020-10-18T16:18:23.549593Z"
    }
   },
   "outputs": [],
   "source": [
    "raw_df = pd.read_csv('data_files/twitter_human_bots_dataset.csv.zip', index_col=False)"
   ]
  },
  {
   "cell_type": "code",
   "execution_count": 3,
   "metadata": {
    "ExecuteTime": {
     "end_time": "2020-10-18T16:18:24.459531Z",
     "start_time": "2020-10-18T16:18:24.409887Z"
    }
   },
   "outputs": [],
   "source": [
    "# drop funny index column\n",
    "raw_df.drop(columns=['Unnamed: 0'], inplace=True)\n",
    "\n",
    "# Binary classifications for bots and boolean values\n",
    "raw_df['bot'] = raw_df['account_type'].apply(lambda x: 1 if x == 'bot' else 0)\n",
    "raw_df['default_profile'] = raw_df['default_profile'].astype(int)\n",
    "raw_df['default_profile'] = raw_df['default_profile'].astype(int)\n",
    "raw_df['default_profile_image'] = raw_df['default_profile_image'].astype(int)\n",
    "raw_df['geo_enabled'] = raw_df['geo_enabled'].astype(int)\n",
    "raw_df['verified'] = raw_df['verified'].astype(int)\n",
    "\n",
    "# datetime conversion\n",
    "raw_df['created_at'] = pd.to_datetime(raw_df['created_at'])\n",
    "# hour created\n",
    "raw_df['hour_created'] = pd.to_datetime(raw_df['created_at']).dt.hour"
   ]
  },
  {
   "cell_type": "code",
   "execution_count": 4,
   "metadata": {
    "ExecuteTime": {
     "end_time": "2020-10-18T16:18:26.461741Z",
     "start_time": "2020-10-18T16:18:26.451308Z"
    }
   },
   "outputs": [],
   "source": [
    "# usable df setup\n",
    "df = raw_df[['bot', 'screen_name', 'created_at', 'hour_created', 'verified', 'location', 'geo_enabled', 'lang', 'default_profile', \n",
    "              'default_profile_image', 'favourites_count', 'followers_count', 'friends_count', 'statuses_count',\n",
    "             'average_tweets_per_day', 'account_age_days']]\n"
   ]
  },
  {
   "cell_type": "code",
   "execution_count": 5,
   "metadata": {
    "ExecuteTime": {
     "end_time": "2020-10-18T16:18:28.085811Z",
     "start_time": "2020-10-18T16:18:28.079683Z"
    }
   },
   "outputs": [],
   "source": [
    "del raw_df"
   ]
  },
  {
   "cell_type": "code",
   "execution_count": 6,
   "metadata": {
    "ExecuteTime": {
     "end_time": "2020-10-18T16:18:29.418007Z",
     "start_time": "2020-10-18T16:18:29.395356Z"
    }
   },
   "outputs": [],
   "source": [
    "# Log transformations for highly skewed data\n",
    "df['friends_log'] = np.round(np.log(1 + df['friends_count']), 3)\n",
    "df['followers_log'] = np.round(np.log(1 + df['followers_count']), 3)\n",
    "df['favs_log'] = np.round(np.log(1 + df['favourites_count']), 3)\n",
    "df['avg_daily_tweets_log'] = np.round(np.log(1+ df['average_tweets_per_day']), 3)\n",
    "\n",
    "# Possible popularity metrics\n",
    "df['popularity'] = np.round(df['friends_log'] * df['followers_log'], 3)\n",
    "df['tweet_to_followers'] = np.round(np.log( 1+ df['statuses_count']) * np.log(1+ df['followers_count']), 3)\n",
    "\n",
    "# Using age of account to understand acqusition of followers, friends, and favorites\n",
    "df['follower_acq_rate'] = np.round(np.log(1 + (df['followers_count'] / df['account_age_days'])), 3)\n",
    "df['friends_acq_rate'] = np.round(np.log(1 + (df['friends_count'] / df['account_age_days'])), 3)\n",
    "df['favs_rate'] = np.round(np.log(1 + (df['friends_count'] / df['account_age_days'])), 3)"
   ]
  },
  {
   "cell_type": "code",
   "execution_count": 7,
   "metadata": {
    "ExecuteTime": {
     "end_time": "2020-10-18T16:18:30.678779Z",
     "start_time": "2020-10-18T16:18:30.646425Z"
    },
    "scrolled": true
   },
   "outputs": [
    {
     "data": {
      "text/html": [
       "<div>\n",
       "<style scoped>\n",
       "    .dataframe tbody tr th:only-of-type {\n",
       "        vertical-align: middle;\n",
       "    }\n",
       "\n",
       "    .dataframe tbody tr th {\n",
       "        vertical-align: top;\n",
       "    }\n",
       "\n",
       "    .dataframe thead th {\n",
       "        text-align: right;\n",
       "    }\n",
       "</style>\n",
       "<table border=\"1\" class=\"dataframe\">\n",
       "  <thead>\n",
       "    <tr style=\"text-align: right;\">\n",
       "      <th></th>\n",
       "      <th>bot</th>\n",
       "      <th>screen_name</th>\n",
       "      <th>created_at</th>\n",
       "      <th>hour_created</th>\n",
       "      <th>verified</th>\n",
       "      <th>location</th>\n",
       "      <th>geo_enabled</th>\n",
       "      <th>lang</th>\n",
       "      <th>default_profile</th>\n",
       "      <th>default_profile_image</th>\n",
       "      <th>...</th>\n",
       "      <th>account_age_days</th>\n",
       "      <th>friends_log</th>\n",
       "      <th>followers_log</th>\n",
       "      <th>favs_log</th>\n",
       "      <th>avg_daily_tweets_log</th>\n",
       "      <th>popularity</th>\n",
       "      <th>tweet_to_followers</th>\n",
       "      <th>follower_acq_rate</th>\n",
       "      <th>friends_acq_rate</th>\n",
       "      <th>favs_rate</th>\n",
       "    </tr>\n",
       "  </thead>\n",
       "  <tbody>\n",
       "    <tr>\n",
       "      <th>0</th>\n",
       "      <td>1</td>\n",
       "      <td>best_in_dumbest</td>\n",
       "      <td>2016-10-15 21:32:11</td>\n",
       "      <td>21</td>\n",
       "      <td>0</td>\n",
       "      <td>unknown</td>\n",
       "      <td>0</td>\n",
       "      <td>en</td>\n",
       "      <td>0</td>\n",
       "      <td>0</td>\n",
       "      <td>...</td>\n",
       "      <td>1403</td>\n",
       "      <td>1.609</td>\n",
       "      <td>7.371</td>\n",
       "      <td>1.609</td>\n",
       "      <td>2.183</td>\n",
       "      <td>11.860</td>\n",
       "      <td>68.625</td>\n",
       "      <td>0.757</td>\n",
       "      <td>0.003</td>\n",
       "      <td>0.003</td>\n",
       "    </tr>\n",
       "    <tr>\n",
       "      <th>1</th>\n",
       "      <td>0</td>\n",
       "      <td>CJRubinPhoto</td>\n",
       "      <td>2016-11-09 05:01:30</td>\n",
       "      <td>5</td>\n",
       "      <td>0</td>\n",
       "      <td>Estados Unidos</td>\n",
       "      <td>0</td>\n",
       "      <td>en</td>\n",
       "      <td>0</td>\n",
       "      <td>0</td>\n",
       "      <td>...</td>\n",
       "      <td>1379</td>\n",
       "      <td>6.781</td>\n",
       "      <td>6.758</td>\n",
       "      <td>6.286</td>\n",
       "      <td>0.168</td>\n",
       "      <td>45.826</td>\n",
       "      <td>37.395</td>\n",
       "      <td>0.485</td>\n",
       "      <td>0.494</td>\n",
       "      <td>0.494</td>\n",
       "    </tr>\n",
       "    <tr>\n",
       "      <th>2</th>\n",
       "      <td>0</td>\n",
       "      <td>SVGEGENT</td>\n",
       "      <td>2017-06-17 05:34:27</td>\n",
       "      <td>5</td>\n",
       "      <td>0</td>\n",
       "      <td>Los Angeles, CA</td>\n",
       "      <td>1</td>\n",
       "      <td>en</td>\n",
       "      <td>0</td>\n",
       "      <td>0</td>\n",
       "      <td>...</td>\n",
       "      <td>1159</td>\n",
       "      <td>6.389</td>\n",
       "      <td>5.153</td>\n",
       "      <td>8.104</td>\n",
       "      <td>0.623</td>\n",
       "      <td>32.923</td>\n",
       "      <td>35.608</td>\n",
       "      <td>0.138</td>\n",
       "      <td>0.414</td>\n",
       "      <td>0.414</td>\n",
       "    </tr>\n",
       "    <tr>\n",
       "      <th>3</th>\n",
       "      <td>0</td>\n",
       "      <td>TinkerVHELPK5</td>\n",
       "      <td>2016-07-21 13:32:25</td>\n",
       "      <td>13</td>\n",
       "      <td>0</td>\n",
       "      <td>Birmingham, AL</td>\n",
       "      <td>1</td>\n",
       "      <td>en</td>\n",
       "      <td>1</td>\n",
       "      <td>0</td>\n",
       "      <td>...</td>\n",
       "      <td>1489</td>\n",
       "      <td>6.452</td>\n",
       "      <td>6.250</td>\n",
       "      <td>9.040</td>\n",
       "      <td>0.636</td>\n",
       "      <td>40.325</td>\n",
       "      <td>44.932</td>\n",
       "      <td>0.298</td>\n",
       "      <td>0.354</td>\n",
       "      <td>0.354</td>\n",
       "    </tr>\n",
       "    <tr>\n",
       "      <th>4</th>\n",
       "      <td>0</td>\n",
       "      <td>JoleonLescott</td>\n",
       "      <td>2012-01-15 16:32:35</td>\n",
       "      <td>16</td>\n",
       "      <td>1</td>\n",
       "      <td>England, United Kingdom</td>\n",
       "      <td>1</td>\n",
       "      <td>en</td>\n",
       "      <td>0</td>\n",
       "      <td>0</td>\n",
       "      <td>...</td>\n",
       "      <td>3138</td>\n",
       "      <td>4.762</td>\n",
       "      <td>13.533</td>\n",
       "      <td>4.489</td>\n",
       "      <td>0.850</td>\n",
       "      <td>64.444</td>\n",
       "      <td>112.911</td>\n",
       "      <td>5.486</td>\n",
       "      <td>0.036</td>\n",
       "      <td>0.036</td>\n",
       "    </tr>\n",
       "  </tbody>\n",
       "</table>\n",
       "<p>5 rows × 25 columns</p>\n",
       "</div>"
      ],
      "text/plain": [
       "   bot      screen_name          created_at  hour_created  verified  \\\n",
       "0    1  best_in_dumbest 2016-10-15 21:32:11            21         0   \n",
       "1    0     CJRubinPhoto 2016-11-09 05:01:30             5         0   \n",
       "2    0         SVGEGENT 2017-06-17 05:34:27             5         0   \n",
       "3    0    TinkerVHELPK5 2016-07-21 13:32:25            13         0   \n",
       "4    0    JoleonLescott 2012-01-15 16:32:35            16         1   \n",
       "\n",
       "                  location  geo_enabled lang  default_profile  \\\n",
       "0                  unknown            0   en                0   \n",
       "1           Estados Unidos            0   en                0   \n",
       "2          Los Angeles, CA            1   en                0   \n",
       "3           Birmingham, AL            1   en                1   \n",
       "4  England, United Kingdom            1   en                0   \n",
       "\n",
       "   default_profile_image  ...  account_age_days  friends_log  followers_log  \\\n",
       "0                      0  ...              1403        1.609          7.371   \n",
       "1                      0  ...              1379        6.781          6.758   \n",
       "2                      0  ...              1159        6.389          5.153   \n",
       "3                      0  ...              1489        6.452          6.250   \n",
       "4                      0  ...              3138        4.762         13.533   \n",
       "\n",
       "   favs_log  avg_daily_tweets_log  popularity  tweet_to_followers  \\\n",
       "0     1.609                 2.183      11.860              68.625   \n",
       "1     6.286                 0.168      45.826              37.395   \n",
       "2     8.104                 0.623      32.923              35.608   \n",
       "3     9.040                 0.636      40.325              44.932   \n",
       "4     4.489                 0.850      64.444             112.911   \n",
       "\n",
       "   follower_acq_rate  friends_acq_rate  favs_rate  \n",
       "0              0.757             0.003      0.003  \n",
       "1              0.485             0.494      0.494  \n",
       "2              0.138             0.414      0.414  \n",
       "3              0.298             0.354      0.354  \n",
       "4              5.486             0.036      0.036  \n",
       "\n",
       "[5 rows x 25 columns]"
      ]
     },
     "execution_count": 7,
     "metadata": {},
     "output_type": "execute_result"
    }
   ],
   "source": [
    "df.head()"
   ]
  },
  {
   "cell_type": "code",
   "execution_count": 8,
   "metadata": {
    "ExecuteTime": {
     "end_time": "2020-10-18T16:18:33.477829Z",
     "start_time": "2020-10-18T16:18:33.457389Z"
    }
   },
   "outputs": [
    {
     "name": "stdout",
     "output_type": "stream",
     "text": [
      "<class 'pandas.core.frame.DataFrame'>\n",
      "RangeIndex: 37438 entries, 0 to 37437\n",
      "Data columns (total 25 columns):\n",
      " #   Column                  Non-Null Count  Dtype         \n",
      "---  ------                  --------------  -----         \n",
      " 0   bot                     37438 non-null  int64         \n",
      " 1   screen_name             37438 non-null  object        \n",
      " 2   created_at              37438 non-null  datetime64[ns]\n",
      " 3   hour_created            37438 non-null  int64         \n",
      " 4   verified                37438 non-null  int64         \n",
      " 5   location                37435 non-null  object        \n",
      " 6   geo_enabled             37438 non-null  int64         \n",
      " 7   lang                    29481 non-null  object        \n",
      " 8   default_profile         37438 non-null  int64         \n",
      " 9   default_profile_image   37438 non-null  int64         \n",
      " 10  favourites_count        37438 non-null  int64         \n",
      " 11  followers_count         37438 non-null  int64         \n",
      " 12  friends_count           37438 non-null  int64         \n",
      " 13  statuses_count          37438 non-null  int64         \n",
      " 14  average_tweets_per_day  37438 non-null  float64       \n",
      " 15  account_age_days        37438 non-null  int64         \n",
      " 16  friends_log             37438 non-null  float64       \n",
      " 17  followers_log           37438 non-null  float64       \n",
      " 18  favs_log                37438 non-null  float64       \n",
      " 19  avg_daily_tweets_log    37438 non-null  float64       \n",
      " 20  popularity              37438 non-null  float64       \n",
      " 21  tweet_to_followers      37438 non-null  float64       \n",
      " 22  follower_acq_rate       37438 non-null  float64       \n",
      " 23  friends_acq_rate        37438 non-null  float64       \n",
      " 24  favs_rate               37438 non-null  float64       \n",
      "dtypes: datetime64[ns](1), float64(10), int64(11), object(3)\n",
      "memory usage: 7.1+ MB\n"
     ]
    }
   ],
   "source": [
    "df.info()"
   ]
  },
  {
   "cell_type": "markdown",
   "metadata": {},
   "source": [
    "## Unbalanced data? "
   ]
  },
  {
   "cell_type": "code",
   "execution_count": 10,
   "metadata": {
    "ExecuteTime": {
     "end_time": "2020-10-18T16:18:37.985448Z",
     "start_time": "2020-10-18T16:18:37.973157Z"
    }
   },
   "outputs": [
    {
     "name": "stdout",
     "output_type": "stream",
     "text": [
      "Number of bots:  12425\n",
      "Number of humans:  25013\n",
      "Bots / Total %:  33.18820449810353\n"
     ]
    }
   ],
   "source": [
    "num_bots = len(df[df['bot'] == 1])\n",
    "num_humans = len(df[df['bot'] == 0])\n",
    "\n",
    "print(\"Number of bots: \", num_bots)\n",
    "print(\"Number of humans: \", num_humans)\n",
    "print(\"Bots / Total %: \", (num_bots / len(df)) * 100)"
   ]
  },
  {
   "cell_type": "code",
   "execution_count": null,
   "metadata": {},
   "outputs": [],
   "source": [
    "# humans_to_remove = num_humans - num_bots\n",
    "# humans_to_remove = 10000\n",
    "# humans_to_remove"
   ]
  },
  {
   "cell_type": "code",
   "execution_count": null,
   "metadata": {},
   "outputs": [],
   "source": [
    "# df = df.drop(df.query('bot == 0').sample(n=humans_to_remove).index)\n",
    "\n",
    "# num_bots = len(df[df['bot'] == 1])\n",
    "# num_humans = len(df[df['bot'] == 0])\n",
    "\n",
    "# print(\"Number of bots: \", num_bots)\n",
    "# print(\"Number of humans: \", num_humans)\n",
    "# print(\"Bots / Total %: \", (num_bots / len(df)) * 100)"
   ]
  },
  {
   "cell_type": "code",
   "execution_count": null,
   "metadata": {},
   "outputs": [],
   "source": []
  },
  {
   "cell_type": "code",
   "execution_count": null,
   "metadata": {},
   "outputs": [],
   "source": []
  },
  {
   "cell_type": "code",
   "execution_count": null,
   "metadata": {},
   "outputs": [],
   "source": []
  },
  {
   "cell_type": "markdown",
   "metadata": {},
   "source": [
    "## Feature selection & model setup"
   ]
  },
  {
   "cell_type": "code",
   "execution_count": 11,
   "metadata": {
    "ExecuteTime": {
     "end_time": "2020-10-18T16:18:44.496249Z",
     "start_time": "2020-10-18T16:18:44.492471Z"
    }
   },
   "outputs": [
    {
     "data": {
      "text/plain": [
       "Index(['bot', 'screen_name', 'created_at', 'hour_created', 'verified',\n",
       "       'location', 'geo_enabled', 'lang', 'default_profile',\n",
       "       'default_profile_image', 'favourites_count', 'followers_count',\n",
       "       'friends_count', 'statuses_count', 'average_tweets_per_day',\n",
       "       'account_age_days', 'friends_log', 'followers_log', 'favs_log',\n",
       "       'avg_daily_tweets_log', 'popularity', 'tweet_to_followers',\n",
       "       'follower_acq_rate', 'friends_acq_rate', 'favs_rate'],\n",
       "      dtype='object')"
      ]
     },
     "execution_count": 11,
     "metadata": {},
     "output_type": "execute_result"
    }
   ],
   "source": [
    "df.columns"
   ]
  },
  {
   "cell_type": "code",
   "execution_count": 17,
   "metadata": {
    "ExecuteTime": {
     "end_time": "2020-10-18T16:22:39.099837Z",
     "start_time": "2020-10-18T16:22:39.095388Z"
    }
   },
   "outputs": [],
   "source": [
    "features = ['verified', \n",
    "            #'created_at',\n",
    "            #'hour_created',\n",
    "            'geo_enabled', \n",
    "            'default_profile', \n",
    "            'default_profile_image', \n",
    "            'favourites_count', \n",
    "            'followers_count', \n",
    "            'friends_count', \n",
    "            'statuses_count', \n",
    "            'average_tweets_per_day', \n",
    "            #'popularity', \n",
    "            'tweet_to_followers', \n",
    "            'follower_acq_rate', \n",
    "            'friends_acq_rate', \n",
    "            'favs_rate'\n",
    "           ]\n",
    "\n",
    "X = df[features]\n",
    "y = df['bot']"
   ]
  },
  {
   "cell_type": "code",
   "execution_count": 18,
   "metadata": {
    "ExecuteTime": {
     "end_time": "2020-10-18T16:22:41.673796Z",
     "start_time": "2020-10-18T16:22:41.665165Z"
    }
   },
   "outputs": [],
   "source": [
    "X, X_test, y, y_test = train_test_split(X, y, test_size=.3, random_state=1234)"
   ]
  },
  {
   "cell_type": "code",
   "execution_count": 19,
   "metadata": {
    "ExecuteTime": {
     "end_time": "2020-10-18T16:22:43.288293Z",
     "start_time": "2020-10-18T16:22:43.271557Z"
    }
   },
   "outputs": [],
   "source": [
    "scalar = StandardScaler()\n",
    "\n",
    "scalar.fit(X)\n",
    "\n",
    "X_train_scaled = scalar.transform(X)\n",
    "X_test_scaled = scalar.transform(X_test)"
   ]
  },
  {
   "cell_type": "markdown",
   "metadata": {},
   "source": [
    "### KNN"
   ]
  },
  {
   "cell_type": "code",
   "execution_count": 23,
   "metadata": {
    "ExecuteTime": {
     "end_time": "2020-10-18T16:28:30.301878Z",
     "start_time": "2020-10-18T16:28:22.783124Z"
    }
   },
   "outputs": [
    {
     "name": "stdout",
     "output_type": "stream",
     "text": [
      "RMSE Metric\n",
      "Optimal number of Neighbors: 8\n",
      "Root Mean Squared Error: 0.39\n",
      "\n",
      "Accuracy Metric\n",
      "Optimal number of Neighbors: 8\n",
      "Accuracy Score: 0.85\n"
     ]
    }
   ],
   "source": [
    "ks = range(1, 30)\n",
    "\n",
    "X_train_scaled, X_val_scaled, y_train, y_val = train_test_split(X, y, test_size=.3, random_state=4)\n",
    "\n",
    "test_errors = np.zeros(len(list(ks)))\n",
    "acc_scores = np.zeros(len(list(ks)))\n",
    "\n",
    "for i, k in enumerate(ks):\n",
    "    \n",
    "    nn = KNeighborsClassifier(n_neighbors=k)\n",
    "\n",
    "    nn.fit(X_train_scaled, y_train)\n",
    "    test_preds = nn.predict(X_val_scaled)\n",
    "    \n",
    "    test_errors[i] = np.sqrt(mean_squared_error(y_val, test_preds))\n",
    "    acc_scores[i] = accuracy_score(y_val, test_preds)\n",
    "    \n",
    "\n",
    "optimal_k_r2 = list(ks)[np.argmin(test_errors)]\n",
    "optimal_error = np.min(test_errors)\n",
    "\n",
    "optimal_k_acc = list(ks)[np.argmax(acc_scores)]\n",
    "optimal_acc = np.max(acc_scores)\n",
    "\n",
    "print(\"RMSE Metric\")\n",
    "print(f'Optimal number of Neighbors: {optimal_k_r2}\\nRoot Mean Squared Error: {optimal_error:.2f}')\n",
    "print('\\nAccuracy Metric')\n",
    "print(f'Optimal number of Neighbors: {optimal_k_acc}\\nAccuracy Score: {optimal_acc:.2f}')    "
   ]
  },
  {
   "cell_type": "code",
   "execution_count": 35,
   "metadata": {
    "ExecuteTime": {
     "end_time": "2020-10-18T16:34:00.770964Z",
     "start_time": "2020-10-18T16:34:00.501826Z"
    }
   },
   "outputs": [
    {
     "data": {
      "image/png": "[encoded data removed]",
      "text/plain": [
       "<Figure size 1008x432 with 2 Axes>"
      ]
     },
     "metadata": {
      "needs_background": "light"
     },
     "output_type": "display_data"
    }
   ],
   "source": [
    "plt.figure(figsize=(14, 6))\n",
    "plt.suptitle('Optimal K Search', fontsize=16)\n",
    "\n",
    "# Optimal RMSE\n",
    "plt.subplot(1, 2, 1)\n",
    "\n",
    "plt.title('Optimal K by RMSE Score: {}'.format(optimal_k_r2))\n",
    "plt.plot(list(ks), test_errors, color='red')\n",
    "plt.axvline(list(ks)[np.argmin(test_errors)], linestyle='--', color='black')\n",
    "\n",
    "# Optimal accuracy score\n",
    "plt.subplot(1, 2, 2)\n",
    "\n",
    "plt.title('Optimal K by Accuracy Score: {}'.format(optimal_k_acc))\n",
    "plt.plot(list(ks), acc_scores, color='blue')\n",
    "plt.axvline(list(ks)[np.argmax(acc_scores)], linestyle='--', color='black');"
   ]
  },
  {
   "cell_type": "code",
   "execution_count": null,
   "metadata": {},
   "outputs": [],
   "source": [
    "#optimal_k = 8"
   ]
  },
  {
   "cell_type": "code",
   "execution_count": 36,
   "metadata": {
    "ExecuteTime": {
     "end_time": "2020-10-18T16:35:48.618744Z",
     "start_time": "2020-10-18T16:35:48.600188Z"
    }
   },
   "outputs": [],
   "source": [
    "# Resetting train/test split\n",
    "X, X_test, y, y_test = train_test_split(X, y, test_size=.3, random_state=1234)\n",
    "\n",
    "# Scaling\n",
    "scalar = StandardScaler()\n",
    "scalar.fit(X)\n",
    "X_train_scaled = scalar.transform(X)\n",
    "X_test_scaled = scalar.transform(X_test)"
   ]
  },
  {
   "cell_type": "code",
   "execution_count": 38,
   "metadata": {
    "ExecuteTime": {
     "end_time": "2020-10-18T16:38:01.576694Z",
     "start_time": "2020-10-18T16:38:00.429281Z"
    }
   },
   "outputs": [
    {
     "name": "stdout",
     "output_type": "stream",
     "text": [
      "CV Scores:  [0.82665576 0.83237939 0.82580962]\n",
      "Mean Score:  0.8282815922386084\n"
     ]
    }
   ],
   "source": [
    "knn = KNeighborsClassifier(n_neighbors=8)\n",
    "\n",
    "cv_scores = cross_val_score(knn, X_train_scaled, y, cv=3)\n",
    "\n",
    "print(\"CV Scores: \", cv_scores)\n",
    "print(\"Mean Score: \", cv_scores.mean())"
   ]
  },
  {
   "cell_type": "code",
   "execution_count": 40,
   "metadata": {
    "ExecuteTime": {
     "end_time": "2020-10-18T16:47:41.296193Z",
     "start_time": "2020-10-18T16:47:02.729603Z"
    }
   },
   "outputs": [
    {
     "data": {
      "image/png": "[encoded data removed]",
      "text/plain": [
       "<Figure size 720x432 with 1 Axes>"
      ]
     },
     "metadata": {
      "needs_background": "light"
     },
     "output_type": "display_data"
    }
   ],
   "source": [
    "# Create CV training and test scores for various training set sizes\n",
    "train_sizes, train_scores, test_scores = learning_curve(knn, \n",
    "                                                        X_train_scaled, \n",
    "                                                        y,\n",
    "                                                        # Number of folds in cross-validation\n",
    "                                                        cv=3,\n",
    "                                                        # Evaluation metric\n",
    "                                                        scoring='accuracy',\n",
    "                                                        # 50 different sizes of the training set\n",
    "                                                        train_sizes=np.linspace(.1, 1.0, 20))\n",
    "\n",
    "# Create means and standard deviations of training set scores\n",
    "train_mean = np.mean(train_scores, axis=1)\n",
    "train_std = np.std(train_scores, axis=1)\n",
    "\n",
    "# Create means and standard deviations of test set scores\n",
    "test_mean = np.mean(test_scores, axis=1)\n",
    "test_std = np.std(test_scores, axis=1)\n",
    "\n",
    "plt.figure(figsize=(10, 6))\n",
    "\n",
    "# Draw lines\n",
    "plt.plot(train_sizes, train_mean, '--', color=\"#111111\",  label=\"Training score\")\n",
    "plt.plot(train_sizes, test_mean, color=\"#111111\", label=\"CV test score\")\n",
    "\n",
    "# Draw bands\n",
    "plt.fill_between(train_sizes, train_mean - train_std, train_mean + train_std, color=\"#DDDDDD\")\n",
    "plt.fill_between(train_sizes, test_mean - test_std, test_mean + test_std, color=\"#DDDDDD\")\n",
    "\n",
    "# Create plot\n",
    "plt.title(\"Learning Curve: Logistic Regression\")\n",
    "plt.xlabel(\"Training Set Size\"), plt.ylabel(\"Accuracy Score\"), plt.legend(loc=\"best\")\n",
    "plt.tight_layout();"
   ]
  },
  {
   "cell_type": "markdown",
   "metadata": {},
   "source": [
    "Looks like some overfitting? "
   ]
  },
  {
   "cell_type": "code",
   "execution_count": 41,
   "metadata": {
    "ExecuteTime": {
     "end_time": "2020-10-18T16:48:19.759580Z",
     "start_time": "2020-10-18T16:48:19.752986Z"
    }
   },
   "outputs": [],
   "source": [
    "X_train_scaled, X_val_scaled, y_train, y_val = train_test_split(X, y, test_size=.3, random_state=4)"
   ]
  },
  {
   "cell_type": "code",
   "execution_count": 42,
   "metadata": {
    "ExecuteTime": {
     "end_time": "2020-10-18T16:49:12.762739Z",
     "start_time": "2020-10-18T16:49:12.540379Z"
    }
   },
   "outputs": [
    {
     "name": "stdout",
     "output_type": "stream",
     "text": [
      "Accuracy: 0.8379\n",
      "Precision: 0.8281\n",
      "Recall: 0.6670\n",
      "F1 Score: 0.7389\n",
      "\n",
      "              precision    recall  f1-score   support\n",
      "\n",
      "           0       0.84      0.93      0.88      3612\n",
      "           1       0.83      0.67      0.74      1892\n",
      "\n",
      "    accuracy                           0.84      5504\n",
      "   macro avg       0.83      0.80      0.81      5504\n",
      "weighted avg       0.84      0.84      0.83      5504\n",
      "\n"
     ]
    }
   ],
   "source": [
    "knn = KNeighborsClassifier(n_neighbors=8)\n",
    "knn.fit(X_train_scaled, y_train)\n",
    "pred = knn.predict(X_val_scaled)\n",
    "\n",
    "print('Accuracy: {:.4f}'.format(accuracy_score(y_val, pred)))\n",
    "print('Precision: {:.4f}'.format(precision_score(y_val, pred)))\n",
    "print('Recall: {:.4f}'.format(recall_score(y_val, pred)))\n",
    "print('F1 Score: {:.4f}'.format(f1_score(y_val, pred)))\n",
    "\n",
    "print(\"\")\n",
    "print(classification_report(y_val, pred))"
   ]
  },
  {
   "cell_type": "code",
   "execution_count": 43,
   "metadata": {
    "ExecuteTime": {
     "end_time": "2020-10-18T16:49:43.866649Z",
     "start_time": "2020-10-18T16:49:43.621944Z"
    }
   },
   "outputs": [
    {
     "name": "stdout",
     "output_type": "stream",
     "text": [
      "ROC AUC score =  0.8852184637068359\n"
     ]
    },
    {
     "data": {
      "image/png": "[encoded data removed]",
      "text/plain": [
       "<Figure size 432x288 with 1 Axes>"
      ]
     },
     "metadata": {
      "needs_background": "light"
     },
     "output_type": "display_data"
    }
   ],
   "source": [
    "fpr, tpr, thresholds = roc_curve(y_val, knn.predict_proba(X_val_scaled)[:,1])\n",
    "\n",
    "plt.plot(fpr, tpr,lw=2)\n",
    "plt.plot([0,1],[0,1],c='violet',ls='--')\n",
    "plt.xlim([-0.05,1.05])\n",
    "plt.ylim([-0.05,1.05])\n",
    "\n",
    "plt.xlabel('False positive rate')\n",
    "plt.ylabel('True positive rate')\n",
    "plt.title('ROC curve for Politics Problem');\n",
    "print(\"ROC AUC score = \", roc_auc_score(y_val, knn.predict_proba(X_val_scaled)[:,1]))"
   ]
  },
  {
   "cell_type": "code",
   "execution_count": null,
   "metadata": {},
   "outputs": [],
   "source": []
  },
  {
   "cell_type": "code",
   "execution_count": null,
   "metadata": {},
   "outputs": [],
   "source": []
  },
  {
   "cell_type": "markdown",
   "metadata": {},
   "source": [
    "### Logistic Regression"
   ]
  },
  {
   "cell_type": "code",
   "execution_count": 45,
   "metadata": {
    "ExecuteTime": {
     "end_time": "2020-10-18T16:50:50.427561Z",
     "start_time": "2020-10-18T16:50:50.331253Z"
    }
   },
   "outputs": [
    {
     "name": "stdout",
     "output_type": "stream",
     "text": [
      "Accuracy: 0.6590\n",
      "Precision: 0.5355\n",
      "Recall: 0.0597\n",
      "F1 Score: 0.1075\n",
      "\n",
      "              precision    recall  f1-score   support\n",
      "\n",
      "           0       0.66      0.97      0.79      3612\n",
      "           1       0.54      0.06      0.11      1892\n",
      "\n",
      "    accuracy                           0.66      5504\n",
      "   macro avg       0.60      0.52      0.45      5504\n",
      "weighted avg       0.62      0.66      0.55      5504\n",
      "\n"
     ]
    }
   ],
   "source": [
    "lr = LogisticRegression()\n",
    "lr.fit(X_train_scaled, y_train)\n",
    "\n",
    "pred = lr.predict(X_val_scaled)\n",
    "\n",
    "print('Accuracy: {:.4f}'.format(accuracy_score(y_val, pred)))\n",
    "print('Precision: {:.4f}'.format(precision_score(y_val, pred)))\n",
    "print('Recall: {:.4f}'.format(recall_score(y_val, pred)))\n",
    "print('F1 Score: {:.4f}'.format(f1_score(y_val, pred)))\n",
    "\n",
    "print(\"\")\n",
    "print(classification_report(y_val, pred))"
   ]
  },
  {
   "cell_type": "code",
   "execution_count": 61,
   "metadata": {
    "ExecuteTime": {
     "end_time": "2020-10-18T17:06:25.637702Z",
     "start_time": "2020-10-18T17:06:25.455434Z"
    }
   },
   "outputs": [
    {
     "name": "stdout",
     "output_type": "stream",
     "text": [
      "ROC AUC score =  0.8224631923421809\n"
     ]
    },
    {
     "data": {
      "image/png": "[encoded data removed]",
      "text/plain": [
       "<Figure size 432x288 with 1 Axes>"
      ]
     },
     "metadata": {
      "needs_background": "light"
     },
     "output_type": "display_data"
    }
   ],
   "source": [
    "fpr, tpr, thresholds = roc_curve(y_val, lr.predict_proba(X_val_scaled)[:,1])\n",
    "\n",
    "plt.plot(fpr, tpr,lw=2)\n",
    "plt.plot([0,1],[0,1],c='violet',ls='--')\n",
    "plt.xlim([-0.05,1.05])\n",
    "plt.ylim([-0.05,1.05])\n",
    "\n",
    "plt.xlabel('False positive rate')\n",
    "plt.ylabel('True positive rate')\n",
    "plt.title('ROC curve');\n",
    "print(\"ROC AUC score = \", roc_auc_score(y_val, lr.predict_proba(X_val_scaled)[:,1]))"
   ]
  },
  {
   "cell_type": "code",
   "execution_count": null,
   "metadata": {},
   "outputs": [],
   "source": []
  },
  {
   "cell_type": "code",
   "execution_count": null,
   "metadata": {},
   "outputs": [],
   "source": []
  },
  {
   "cell_type": "code",
   "execution_count": null,
   "metadata": {},
   "outputs": [],
   "source": []
  },
  {
   "cell_type": "markdown",
   "metadata": {},
   "source": [
    "### GaussianNB"
   ]
  },
  {
   "cell_type": "code",
   "execution_count": 47,
   "metadata": {
    "ExecuteTime": {
     "end_time": "2020-10-18T17:02:34.858446Z",
     "start_time": "2020-10-18T17:02:34.826051Z"
    }
   },
   "outputs": [
    {
     "name": "stdout",
     "output_type": "stream",
     "text": [
      "Accuracy: 0.5236\n",
      "Precision: 0.4168\n",
      "Recall: 0.9662\n",
      "F1 Score: 0.5824\n",
      "\n",
      "              precision    recall  f1-score   support\n",
      "\n",
      "           0       0.94      0.29      0.45      3612\n",
      "           1       0.42      0.97      0.58      1892\n",
      "\n",
      "    accuracy                           0.52      5504\n",
      "   macro avg       0.68      0.63      0.51      5504\n",
      "weighted avg       0.76      0.52      0.49      5504\n",
      "\n"
     ]
    }
   ],
   "source": [
    "gnb = GaussianNB()\n",
    "gnb.fit(X_train_scaled, y_train)\n",
    "\n",
    "pred = gnb.predict(X_val_scaled)\n",
    "\n",
    "print('Accuracy: {:.4f}'.format(accuracy_score(y_val, pred)))\n",
    "print('Precision: {:.4f}'.format(precision_score(y_val, pred)))\n",
    "print('Recall: {:.4f}'.format(recall_score(y_val, pred)))\n",
    "print('F1 Score: {:.4f}'.format(f1_score(y_val, pred)))\n",
    "\n",
    "print(\"\")\n",
    "print(classification_report(y_val, pred))"
   ]
  },
  {
   "cell_type": "code",
   "execution_count": 60,
   "metadata": {
    "ExecuteTime": {
     "end_time": "2020-10-18T17:06:18.587689Z",
     "start_time": "2020-10-18T17:06:18.450903Z"
    }
   },
   "outputs": [
    {
     "name": "stdout",
     "output_type": "stream",
     "text": [
      "ROC AUC score =  0.8026725280308298\n"
     ]
    },
    {
     "data": {
      "image/png": "[encoded data removed]",
      "text/plain": [
       "<Figure size 432x288 with 1 Axes>"
      ]
     },
     "metadata": {
      "needs_background": "light"
     },
     "output_type": "display_data"
    }
   ],
   "source": [
    "fpr, tpr, thresholds = roc_curve(y_val, gnb.predict_proba(X_val_scaled)[:,1])\n",
    "\n",
    "plt.plot(fpr, tpr,lw=2)\n",
    "plt.plot([0,1],[0,1],c='violet',ls='--')\n",
    "plt.xlim([-0.05,1.05])\n",
    "plt.ylim([-0.05,1.05])\n",
    "\n",
    "plt.xlabel('False positive rate')\n",
    "plt.ylabel('True positive rate')\n",
    "plt.title('ROC curve');\n",
    "print(\"ROC AUC score = \", roc_auc_score(y_val, gnb.predict_proba(X_val_scaled)[:,1]))"
   ]
  },
  {
   "cell_type": "markdown",
   "metadata": {},
   "source": [
    "### Support Vector Classification"
   ]
  },
  {
   "cell_type": "code",
   "execution_count": 51,
   "metadata": {
    "ExecuteTime": {
     "end_time": "2020-10-18T17:04:41.115392Z",
     "start_time": "2020-10-18T17:04:16.578940Z"
    }
   },
   "outputs": [
    {
     "name": "stdout",
     "output_type": "stream",
     "text": [
      "Accuracy: 0.6564\n",
      "Precision: 1.0000\n",
      "Recall: 0.0005\n",
      "F1 Score: 0.0011\n",
      "\n",
      "              precision    recall  f1-score   support\n",
      "\n",
      "           0       0.66      1.00      0.79      3612\n",
      "           1       1.00      0.00      0.00      1892\n",
      "\n",
      "    accuracy                           0.66      5504\n",
      "   macro avg       0.83      0.50      0.40      5504\n",
      "weighted avg       0.77      0.66      0.52      5504\n",
      "\n"
     ]
    }
   ],
   "source": [
    "svc = SVC(probability=True)\n",
    "svc.fit(X_train_scaled, y_train)\n",
    "\n",
    "pred = svc.predict(X_val_scaled)\n",
    "\n",
    "print('Accuracy: {:.4f}'.format(accuracy_score(y_val, pred)))\n",
    "print('Precision: {:.4f}'.format(precision_score(y_val, pred)))\n",
    "print('Recall: {:.4f}'.format(recall_score(y_val, pred)))\n",
    "print('F1 Score: {:.4f}'.format(f1_score(y_val, pred)))\n",
    "\n",
    "print(\"\")\n",
    "print(classification_report(y_val, pred))"
   ]
  },
  {
   "cell_type": "code",
   "execution_count": 59,
   "metadata": {
    "ExecuteTime": {
     "end_time": "2020-10-18T17:06:11.572735Z",
     "start_time": "2020-10-18T17:06:09.803236Z"
    }
   },
   "outputs": [
    {
     "name": "stdout",
     "output_type": "stream",
     "text": [
      "ROC AUC score =  0.7850323914412611\n"
     ]
    },
    {
     "data": {
      "image/png": "[encoded data removed]",
      "text/plain": [
       "<Figure size 432x288 with 1 Axes>"
      ]
     },
     "metadata": {
      "needs_background": "light"
     },
     "output_type": "display_data"
    }
   ],
   "source": [
    "fpr, tpr, thresholds = roc_curve(y_val, svc.predict_proba(X_val_scaled)[:,1])\n",
    "\n",
    "plt.plot(fpr, tpr,lw=2)\n",
    "plt.plot([0,1],[0,1],c='violet',ls='--')\n",
    "plt.xlim([-0.05,1.05])\n",
    "plt.ylim([-0.05,1.05])\n",
    "\n",
    "plt.xlabel('False positive rate')\n",
    "plt.ylabel('True positive rate')\n",
    "plt.title('ROC curve');\n",
    "print(\"ROC AUC score = \", roc_auc_score(y_val, svc.predict_proba(X_val_scaled)[:,1]))"
   ]
  },
  {
   "cell_type": "markdown",
   "metadata": {},
   "source": [
    "### DecisionTree"
   ]
  },
  {
   "cell_type": "code",
   "execution_count": 53,
   "metadata": {
    "ExecuteTime": {
     "end_time": "2020-10-18T17:05:03.250028Z",
     "start_time": "2020-10-18T17:05:03.100942Z"
    }
   },
   "outputs": [
    {
     "name": "stdout",
     "output_type": "stream",
     "text": [
      "Accuracy: 0.8060\n",
      "Precision: 0.7155\n",
      "Recall: 0.7230\n",
      "F1 Score: 0.7192\n",
      "\n",
      "              precision    recall  f1-score   support\n",
      "\n",
      "           0       0.85      0.85      0.85      3612\n",
      "           1       0.72      0.72      0.72      1892\n",
      "\n",
      "    accuracy                           0.81      5504\n",
      "   macro avg       0.78      0.79      0.79      5504\n",
      "weighted avg       0.81      0.81      0.81      5504\n",
      "\n"
     ]
    }
   ],
   "source": [
    "tree = DecisionTreeClassifier()\n",
    "tree.fit(X_train_scaled, y_train)\n",
    "\n",
    "pred = tree.predict(X_val_scaled)\n",
    "\n",
    "print('Accuracy: {:.4f}'.format(accuracy_score(y_val, pred)))\n",
    "print('Precision: {:.4f}'.format(precision_score(y_val, pred)))\n",
    "print('Recall: {:.4f}'.format(recall_score(y_val, pred)))\n",
    "print('F1 Score: {:.4f}'.format(f1_score(y_val, pred)))\n",
    "\n",
    "print(\"\")\n",
    "print(classification_report(y_val, pred))"
   ]
  },
  {
   "cell_type": "code",
   "execution_count": 58,
   "metadata": {
    "ExecuteTime": {
     "end_time": "2020-10-18T17:06:05.182050Z",
     "start_time": "2020-10-18T17:06:05.043133Z"
    }
   },
   "outputs": [
    {
     "name": "stdout",
     "output_type": "stream",
     "text": [
      "ROC AUC score =  0.7864037891079535\n"
     ]
    },
    {
     "data": {
      "image/png": "[encoded data removed]",
      "text/plain": [
       "<Figure size 432x288 with 1 Axes>"
      ]
     },
     "metadata": {
      "needs_background": "light"
     },
     "output_type": "display_data"
    }
   ],
   "source": [
    "fpr, tpr, thresholds = roc_curve(y_val, tree.predict_proba(X_val_scaled)[:,1])\n",
    "\n",
    "plt.plot(fpr, tpr,lw=2)\n",
    "plt.plot([0,1],[0,1],c='violet',ls='--')\n",
    "plt.xlim([-0.05,1.05])\n",
    "plt.ylim([-0.05,1.05])\n",
    "\n",
    "plt.xlabel('False positive rate')\n",
    "plt.ylabel('True positive rate')\n",
    "plt.title('ROC curve');\n",
    "print(\"ROC AUC score = \", roc_auc_score(y_val, tree.predict_proba(X_val_scaled)[:,1]))"
   ]
  },
  {
   "cell_type": "markdown",
   "metadata": {},
   "source": [
    "### RandomForest"
   ]
  },
  {
   "cell_type": "code",
   "execution_count": 55,
   "metadata": {
    "ExecuteTime": {
     "end_time": "2020-10-18T17:05:35.201325Z",
     "start_time": "2020-10-18T17:05:33.492477Z"
    }
   },
   "outputs": [
    {
     "name": "stdout",
     "output_type": "stream",
     "text": [
      "Accuracy: 0.8677\n",
      "Precision: 0.8562\n",
      "Recall: 0.7394\n",
      "F1 Score: 0.7935\n",
      "\n",
      "              precision    recall  f1-score   support\n",
      "\n",
      "           0       0.87      0.93      0.90      3612\n",
      "           1       0.86      0.74      0.79      1892\n",
      "\n",
      "    accuracy                           0.87      5504\n",
      "   macro avg       0.86      0.84      0.85      5504\n",
      "weighted avg       0.87      0.87      0.87      5504\n",
      "\n"
     ]
    }
   ],
   "source": [
    "forest = RandomForestClassifier()\n",
    "forest.fit(X_train_scaled, y_train)\n",
    "\n",
    "pred = forest.predict(X_val_scaled)\n",
    "\n",
    "print('Accuracy: {:.4f}'.format(accuracy_score(y_val, pred)))\n",
    "print('Precision: {:.4f}'.format(precision_score(y_val, pred)))\n",
    "print('Recall: {:.4f}'.format(recall_score(y_val, pred)))\n",
    "print('F1 Score: {:.4f}'.format(f1_score(y_val, pred)))\n",
    "\n",
    "print(\"\")\n",
    "print(classification_report(y_val, pred))"
   ]
  },
  {
   "cell_type": "code",
   "execution_count": 57,
   "metadata": {
    "ExecuteTime": {
     "end_time": "2020-10-18T17:05:59.573411Z",
     "start_time": "2020-10-18T17:05:59.295383Z"
    }
   },
   "outputs": [
    {
     "name": "stdout",
     "output_type": "stream",
     "text": [
      "ROC AUC score =  0.9224375261929345\n"
     ]
    },
    {
     "data": {
      "image/png": "[encoded data removed]",
      "text/plain": [
       "<Figure size 432x288 with 1 Axes>"
      ]
     },
     "metadata": {
      "needs_background": "light"
     },
     "output_type": "display_data"
    }
   ],
   "source": [
    "fpr, tpr, thresholds = roc_curve(y_val, forest.predict_proba(X_val_scaled)[:,1])\n",
    "\n",
    "plt.plot(fpr, tpr,lw=2)\n",
    "plt.plot([0,1],[0,1],c='violet',ls='--')\n",
    "plt.xlim([-0.05,1.05])\n",
    "plt.ylim([-0.05,1.05])\n",
    "\n",
    "plt.xlabel('False positive rate')\n",
    "plt.ylabel('True positive rate')\n",
    "plt.title('ROC curve');\n",
    "print(\"ROC AUC score = \", roc_auc_score(y_val, forest.predict_proba(X_val_scaled)[:,1]))"
   ]
  },
  {
   "cell_type": "code",
   "execution_count": 73,
   "metadata": {
    "ExecuteTime": {
     "end_time": "2020-10-18T17:17:33.085683Z",
     "start_time": "2020-10-18T17:17:33.071228Z"
    }
   },
   "outputs": [],
   "source": [
    "# Resetting train/test split\n",
    "X, X_test, y, y_test = train_test_split(X, y, test_size=.3, random_state=1234)\n",
    "\n",
    "# Scaling\n",
    "scalar = StandardScaler()\n",
    "scalar.fit(X)\n",
    "X_train_scaled = scalar.transform(X)\n",
    "X_test_scaled = scalar.transform(X_test)"
   ]
  },
  {
   "cell_type": "code",
   "execution_count": 63,
   "metadata": {
    "ExecuteTime": {
     "end_time": "2020-10-18T17:09:10.038520Z",
     "start_time": "2020-10-18T17:08:56.921189Z"
    }
   },
   "outputs": [
    {
     "name": "stdout",
     "output_type": "stream",
     "text": [
      "Accuracy: 0.8695\n",
      "Precision 0.8476\n",
      "Recall 0.7481\n",
      "F1 Score 0.7934\n"
     ]
    }
   ],
   "source": [
    "acc = cross_val_score(forest, X_train_scaled, y, cv=3, scoring='accuracy').mean()\n",
    "prec = cross_val_score(forest, X_train_scaled, y, cv=3, scoring='precision').mean()\n",
    "rec = cross_val_score(forest, X_train_scaled, y, cv=3, scoring='recall').mean()\n",
    "f1 = cross_val_score(forest, X_train_scaled, y, cv=3, scoring='f1').mean()\n",
    "\n",
    "print('Accuracy: {:.4f}'.format(acc))\n",
    "print('Precision {:.4f}'.format(prec))\n",
    "print('Recall {:.4f}'.format(rec))\n",
    "print('F1 Score {:.4f}'.format(f1))"
   ]
  },
  {
   "cell_type": "code",
   "execution_count": 74,
   "metadata": {
    "ExecuteTime": {
     "end_time": "2020-10-18T17:17:37.545080Z",
     "start_time": "2020-10-18T17:17:37.540346Z"
    }
   },
   "outputs": [],
   "source": [
    "X_train_scaled, X_val_scaled, y_train, y_val = train_test_split(X_train_scaled, y, test_size=.3, random_state=4)"
   ]
  },
  {
   "cell_type": "code",
   "execution_count": null,
   "metadata": {},
   "outputs": [],
   "source": []
  },
  {
   "cell_type": "code",
   "execution_count": 75,
   "metadata": {
    "ExecuteTime": {
     "end_time": "2020-10-18T17:17:40.457504Z",
     "start_time": "2020-10-18T17:17:39.588057Z"
    }
   },
   "outputs": [],
   "source": [
    "forest = RandomForestClassifier()\n",
    "forest.fit(X_train_scaled, y_train)\n",
    "\n",
    "forest_pred = forest.predict(X_val_scaled)"
   ]
  },
  {
   "cell_type": "code",
   "execution_count": 76,
   "metadata": {
    "ExecuteTime": {
     "end_time": "2020-10-18T17:17:41.853747Z",
     "start_time": "2020-10-18T17:17:41.847153Z"
    }
   },
   "outputs": [
    {
     "data": {
      "text/plain": [
       "array([[1649,  131],\n",
       "       [ 254,  663]])"
      ]
     },
     "execution_count": 76,
     "metadata": {},
     "output_type": "execute_result"
    }
   ],
   "source": [
    "forest_cm = confusion_matrix(y_val, forest_pred)\n",
    "forest_cm"
   ]
  },
  {
   "cell_type": "code",
   "execution_count": 79,
   "metadata": {
    "ExecuteTime": {
     "end_time": "2020-10-18T17:18:47.310523Z",
     "start_time": "2020-10-18T17:18:47.100536Z"
    }
   },
   "outputs": [
    {
     "data": {
      "image/png": "[encoded data removed]",
      "text/plain": [
       "<Figure size 576x432 with 2 Axes>"
      ]
     },
     "metadata": {
      "needs_background": "light"
     },
     "output_type": "display_data"
    }
   ],
   "source": [
    "model = 'Random Forest'\n",
    "\n",
    "plot_cm(forest_cm, normalize=False, target_names=['human', 'bot'], title='Confusion Matrix: {}'.format(model))"
   ]
  },
  {
   "cell_type": "code",
   "execution_count": 78,
   "metadata": {
    "ExecuteTime": {
     "end_time": "2020-10-18T17:18:43.078225Z",
     "start_time": "2020-10-18T17:18:43.070916Z"
    }
   },
   "outputs": [],
   "source": [
    "def plot_cm(cm,\n",
    "            target_names,\n",
    "            title='Confusion matrix',\n",
    "            cmap=None,\n",
    "            normalize=True):\n",
    "    \"\"\"\n",
    "    given a sklearn confusion matrix (cm), make a nice plot\n",
    "\n",
    "    Arguments\n",
    "    ---------\n",
    "    cm:           confusion matrix from sklearn.metrics.confusion_matrix\n",
    "\n",
    "    target_names: given classification classes such as [0, 1, 2]\n",
    "                  the class names, for example: ['high', 'medium', 'low']\n",
    "\n",
    "    title:        the text to display at the top of the matrix\n",
    "\n",
    "    cmap:         the gradient of the values displayed from matplotlib.pyplot.cm\n",
    "                  see http://matplotlib.org/examples/color/colormaps_reference.html\n",
    "                  plt.get_cmap('jet') or plt.cm.Blues\n",
    "\n",
    "    normalize:    If False, plot the raw numbers\n",
    "                  If True, plot the proportions\n",
    "\n",
    "    Usage\n",
    "    -----\n",
    "    plot_confusion_matrix(cm           = cm,                  # confusion matrix created by\n",
    "                                                              # sklearn.metrics.confusion_matrix\n",
    "                          normalize    = True,                # show proportions\n",
    "                          target_names = y_labels_vals,       # list of names of the classes\n",
    "                          title        = best_estimator_name) # title of graph\n",
    "\n",
    "    Citiation\n",
    "    ---------\n",
    "    https://www.kaggle.com/grfiv4/plot-a-confusion-matrix\n",
    "    http://scikit-learn.org/stable/auto_examples/model_selection/plot_confusion_matrix.html\n",
    "\n",
    "    \"\"\"\n",
    "\n",
    "    accuracy = np.trace(cm) / float(np.sum(cm))\n",
    "    misclass = 1 - accuracy\n",
    "\n",
    "    if cmap is None:\n",
    "        cmap = plt.get_cmap('Blues')\n",
    "\n",
    "    plt.figure(figsize=(8, 6))\n",
    "    plt.imshow(cm, interpolation='nearest', cmap=cmap)\n",
    "    plt.title(title)\n",
    "    plt.colorbar()\n",
    "\n",
    "    if target_names is not None:\n",
    "        tick_marks = np.arange(len(target_names))\n",
    "        plt.xticks(tick_marks, target_names, rotation=45)\n",
    "        plt.yticks(tick_marks, target_names)\n",
    "\n",
    "    if normalize:\n",
    "        cm = cm.astype('float') / cm.sum(axis=1)[:, np.newaxis]\n",
    "\n",
    "\n",
    "    thresh = cm.max() / 1.5 if normalize else cm.max() / 2\n",
    "    for i, j in itertools.product(range(cm.shape[0]), range(cm.shape[1])):\n",
    "        if normalize:\n",
    "            plt.text(j, i, \"{:0.4f}\".format(cm[i, j]),\n",
    "                     horizontalalignment=\"center\",\n",
    "                     color=\"white\" if cm[i, j] > thresh else \"black\")\n",
    "        else:\n",
    "            plt.text(j, i, \"{:,}\".format(cm[i, j]),\n",
    "                     horizontalalignment=\"center\",\n",
    "                     color=\"white\" if cm[i, j] > thresh else \"black\")\n",
    "\n",
    "\n",
    "    plt.tight_layout()\n",
    "    plt.ylabel('True label')\n",
    "    plt.xlabel('Predicted label\\naccuracy={:0.4f}; misclass={:0.4f}'.format(accuracy, misclass))\n",
    "    plt.show()"
   ]
  },
  {
   "cell_type": "markdown",
   "metadata": {},
   "source": [
    "### XGBoost?"
   ]
  },
  {
   "cell_type": "code",
   "execution_count": null,
   "metadata": {},
   "outputs": [],
   "source": []
  },
  {
   "cell_type": "code",
   "execution_count": null,
   "metadata": {},
   "outputs": [],
   "source": []
  }
 ],
 "metadata": {
  "kernelspec": {
   "display_name": "Python [conda env:metis] *",
   "language": "python",
   "name": "conda-env-metis-py"
  },
  "language_info": {
   "codemirror_mode": {
    "name": "ipython",
    "version": 3
   },
   "file_extension": ".py",
   "mimetype": "text/x-python",
   "name": "python",
   "nbconvert_exporter": "python",
   "pygments_lexer": "ipython3",
   "version": "3.8.5"
  },
  "toc": {
   "base_numbering": 1,
   "nav_menu": {},
   "number_sections": true,
   "sideBar": true,
   "skip_h1_title": false,
   "title_cell": "Table of Contents",
   "title_sidebar": "Contents",
   "toc_cell": false,
   "toc_position": {},
   "toc_section_display": true,
   "toc_window_display": true
  },
  "varInspector": {
   "cols": {
    "lenName": 16,
    "lenType": 16,
    "lenVar": 40
   },
   "kernels_config": {
    "python": {
     "delete_cmd_postfix": "",
     "delete_cmd_prefix": "del ",
     "library": "var_list.py",
     "varRefreshCmd": "print(var_dic_list())"
    },
    "r": {
     "delete_cmd_postfix": ") ",
     "delete_cmd_prefix": "rm(",
     "library": "var_list.r",
     "varRefreshCmd": "cat(var_dic_list()) "
    }
   },
   "types_to_exclude": [
    "module",
    "function",
    "builtin_function_or_method",
    "instance",
    "_Feature"
   ],
   "window_display": false
  }
 },
 "nbformat": 4,
 "nbformat_minor": 4
}
