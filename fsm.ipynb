{
 "cells": [
  {
   "cell_type": "markdown",
   "metadata": {},
   "source": [
    "# Twitter Bot or Not?: First Simple Model\n",
    "\n",
    "Predicting whether or not a Twitter account is a bot or human using account-level information. \n",
    "* Target variable: Bot or not? \n",
    "    * Bot = 1\n",
    "    * Human = 0 \n",
    "\n",
    "**Notes**\n",
    "* Dataset source: [Twitter Bot Accounts](https://www.kaggle.com/davidmartngutirrez/twitter-bots-accounts?select=twitter_human_bots_dataset.csv)\n",
    "* Feature notes -- 'friends'?     \n",
    "    * `friends_count` = Following\n",
    "    * `followers_count` = Followers"
   ]
  },
  {
   "cell_type": "code",
   "execution_count": 1,
   "metadata": {
    "ExecuteTime": {
     "end_time": "2020-10-18T22:01:16.508198Z",
     "start_time": "2020-10-18T22:01:15.050429Z"
    }
   },
   "outputs": [],
   "source": [
    "# Basics\n",
    "import pandas as pd\n",
    "import numpy as np\n",
    "\n",
    "# Visuals\n",
    "import matplotlib.pyplot as plt\n",
    "%matplotlib inline\n",
    "import seaborn as sns\n",
    "from visualize import *\n",
    "\n",
    "# Models\n",
    "from sklearn.tree import DecisionTreeClassifier\n",
    "from sklearn.naive_bayes import GaussianNB\n",
    "from sklearn.neighbors import KNeighborsClassifier\n",
    "from sklearn.linear_model import LogisticRegression\n",
    "from sklearn.ensemble import RandomForestClassifier\n",
    "from sklearn.svm import SVC\n",
    "\n",
    "# Model support\n",
    "from matplotlib.colors import ListedColormap\n",
    "from sklearn.model_selection import train_test_split, cross_val_score, learning_curve\n",
    "from sklearn.metrics import mean_squared_error, r2_score\n",
    "from sklearn.preprocessing import StandardScaler\n",
    "from sklearn.metrics import (accuracy_score, classification_report, confusion_matrix, f1_score, \n",
    "                             plot_confusion_matrix, precision_score, recall_score, roc_auc_score, roc_curve)"
   ]
  },
  {
   "cell_type": "markdown",
   "metadata": {},
   "source": [
    "## Data import and setup"
   ]
  },
  {
   "cell_type": "code",
   "execution_count": 2,
   "metadata": {
    "ExecuteTime": {
     "end_time": "2020-10-18T22:01:16.813427Z",
     "start_time": "2020-10-18T22:01:16.510483Z"
    }
   },
   "outputs": [],
   "source": [
    "raw_df = pd.read_csv('data_files/twitter_human_bots_dataset.csv.zip', index_col=False)"
   ]
  },
  {
   "cell_type": "code",
   "execution_count": 3,
   "metadata": {
    "ExecuteTime": {
     "end_time": "2020-10-18T22:01:16.863792Z",
     "start_time": "2020-10-18T22:01:16.815461Z"
    }
   },
   "outputs": [],
   "source": [
    "# drop funny index column\n",
    "raw_df.drop(columns=['Unnamed: 0'], inplace=True)\n",
    "\n",
    "# Binary classifications for bots and boolean values\n",
    "raw_df['bot'] = raw_df['account_type'].apply(lambda x: 1 if x == 'bot' else 0)\n",
    "raw_df['default_profile'] = raw_df['default_profile'].astype(int)\n",
    "raw_df['default_profile'] = raw_df['default_profile'].astype(int)\n",
    "raw_df['default_profile_image'] = raw_df['default_profile_image'].astype(int)\n",
    "raw_df['geo_enabled'] = raw_df['geo_enabled'].astype(int)\n",
    "raw_df['verified'] = raw_df['verified'].astype(int)\n",
    "\n",
    "# datetime conversion\n",
    "raw_df['created_at'] = pd.to_datetime(raw_df['created_at'])\n",
    "# hour created\n",
    "raw_df['hour_created'] = pd.to_datetime(raw_df['created_at']).dt.hour"
   ]
  },
  {
   "cell_type": "code",
   "execution_count": 4,
   "metadata": {
    "ExecuteTime": {
     "end_time": "2020-10-18T22:01:16.874705Z",
     "start_time": "2020-10-18T22:01:16.865360Z"
    }
   },
   "outputs": [],
   "source": [
    "# usable df setup\n",
    "df = raw_df[['bot', 'screen_name', 'created_at', 'hour_created', 'verified', 'location', 'geo_enabled', 'lang', 'default_profile', \n",
    "              'default_profile_image', 'favourites_count', 'followers_count', 'friends_count', 'statuses_count',\n",
    "             'average_tweets_per_day', 'account_age_days']]\n"
   ]
  },
  {
   "cell_type": "code",
   "execution_count": 5,
   "metadata": {
    "ExecuteTime": {
     "end_time": "2020-10-18T22:01:16.882082Z",
     "start_time": "2020-10-18T22:01:16.876331Z"
    }
   },
   "outputs": [],
   "source": [
    "del raw_df"
   ]
  },
  {
   "cell_type": "code",
   "execution_count": 6,
   "metadata": {
    "ExecuteTime": {
     "end_time": "2020-10-18T22:01:16.910604Z",
     "start_time": "2020-10-18T22:01:16.885389Z"
    }
   },
   "outputs": [],
   "source": [
    "# Interesting features to look at: \n",
    "df['avg_daily_followers'] = np.round(df['followers_count'] / df['account_age_days'])\n",
    "df['avg_daily_friends'] = np.round(df['followers_count'] / df['account_age_days'])\n",
    "df['avg_daily_favorites'] = np.round(df['followers_count'] / df['account_age_days'])\n",
    "\n",
    "# Log transformations for highly skewed data\n",
    "df['friends_log'] = np.round(np.log(1 + df['friends_count']), 3)\n",
    "df['followers_log'] = np.round(np.log(1 + df['followers_count']), 3)\n",
    "df['favs_log'] = np.round(np.log(1 + df['favourites_count']), 3)\n",
    "df['avg_daily_tweets_log'] = np.round(np.log(1+ df['average_tweets_per_day']), 3)\n",
    "\n",
    "# Possible popularity metrics\n",
    "df['popularity'] = np.round(df['friends_log'] * df['followers_log'], 3)\n",
    "df['tweet_to_followers'] = np.round(np.log( 1+ df['statuses_count']) * np.log(1+ df['followers_count']), 3)\n",
    "\n",
    "# Log-transformed daily acquisition metrics for dist. plots\n",
    "df['follower_acq_rate'] = np.round(np.log(1 + (df['followers_count'] / df['account_age_days'])), 3)\n",
    "df['friends_acq_rate'] = np.round(np.log(1 + (df['friends_count'] / df['account_age_days'])), 3)\n",
    "df['favs_rate'] = np.round(np.log(1 + (df['friends_count'] / df['account_age_days'])), 3)"
   ]
  },
  {
   "cell_type": "code",
   "execution_count": 7,
   "metadata": {
    "ExecuteTime": {
     "end_time": "2020-10-18T22:01:16.943066Z",
     "start_time": "2020-10-18T22:01:16.913635Z"
    },
    "scrolled": true
   },
   "outputs": [
    {
     "data": {
      "text/html": [
       "<div>\n",
       "<style scoped>\n",
       "    .dataframe tbody tr th:only-of-type {\n",
       "        vertical-align: middle;\n",
       "    }\n",
       "\n",
       "    .dataframe tbody tr th {\n",
       "        vertical-align: top;\n",
       "    }\n",
       "\n",
       "    .dataframe thead th {\n",
       "        text-align: right;\n",
       "    }\n",
       "</style>\n",
       "<table border=\"1\" class=\"dataframe\">\n",
       "  <thead>\n",
       "    <tr style=\"text-align: right;\">\n",
       "      <th></th>\n",
       "      <th>bot</th>\n",
       "      <th>screen_name</th>\n",
       "      <th>created_at</th>\n",
       "      <th>hour_created</th>\n",
       "      <th>verified</th>\n",
       "      <th>location</th>\n",
       "      <th>geo_enabled</th>\n",
       "      <th>lang</th>\n",
       "      <th>default_profile</th>\n",
       "      <th>default_profile_image</th>\n",
       "      <th>...</th>\n",
       "      <th>avg_daily_favorites</th>\n",
       "      <th>friends_log</th>\n",
       "      <th>followers_log</th>\n",
       "      <th>favs_log</th>\n",
       "      <th>avg_daily_tweets_log</th>\n",
       "      <th>popularity</th>\n",
       "      <th>tweet_to_followers</th>\n",
       "      <th>follower_acq_rate</th>\n",
       "      <th>friends_acq_rate</th>\n",
       "      <th>favs_rate</th>\n",
       "    </tr>\n",
       "  </thead>\n",
       "  <tbody>\n",
       "    <tr>\n",
       "      <th>0</th>\n",
       "      <td>1</td>\n",
       "      <td>best_in_dumbest</td>\n",
       "      <td>2016-10-15 21:32:11</td>\n",
       "      <td>21</td>\n",
       "      <td>0</td>\n",
       "      <td>unknown</td>\n",
       "      <td>0</td>\n",
       "      <td>en</td>\n",
       "      <td>0</td>\n",
       "      <td>0</td>\n",
       "      <td>...</td>\n",
       "      <td>1.0</td>\n",
       "      <td>1.609</td>\n",
       "      <td>7.371</td>\n",
       "      <td>1.609</td>\n",
       "      <td>2.183</td>\n",
       "      <td>11.860</td>\n",
       "      <td>68.625</td>\n",
       "      <td>0.757</td>\n",
       "      <td>0.003</td>\n",
       "      <td>0.003</td>\n",
       "    </tr>\n",
       "    <tr>\n",
       "      <th>1</th>\n",
       "      <td>0</td>\n",
       "      <td>CJRubinPhoto</td>\n",
       "      <td>2016-11-09 05:01:30</td>\n",
       "      <td>5</td>\n",
       "      <td>0</td>\n",
       "      <td>Estados Unidos</td>\n",
       "      <td>0</td>\n",
       "      <td>en</td>\n",
       "      <td>0</td>\n",
       "      <td>0</td>\n",
       "      <td>...</td>\n",
       "      <td>1.0</td>\n",
       "      <td>6.781</td>\n",
       "      <td>6.758</td>\n",
       "      <td>6.286</td>\n",
       "      <td>0.168</td>\n",
       "      <td>45.826</td>\n",
       "      <td>37.395</td>\n",
       "      <td>0.485</td>\n",
       "      <td>0.494</td>\n",
       "      <td>0.494</td>\n",
       "    </tr>\n",
       "    <tr>\n",
       "      <th>2</th>\n",
       "      <td>0</td>\n",
       "      <td>SVGEGENT</td>\n",
       "      <td>2017-06-17 05:34:27</td>\n",
       "      <td>5</td>\n",
       "      <td>0</td>\n",
       "      <td>Los Angeles, CA</td>\n",
       "      <td>1</td>\n",
       "      <td>en</td>\n",
       "      <td>0</td>\n",
       "      <td>0</td>\n",
       "      <td>...</td>\n",
       "      <td>0.0</td>\n",
       "      <td>6.389</td>\n",
       "      <td>5.153</td>\n",
       "      <td>8.104</td>\n",
       "      <td>0.623</td>\n",
       "      <td>32.923</td>\n",
       "      <td>35.608</td>\n",
       "      <td>0.138</td>\n",
       "      <td>0.414</td>\n",
       "      <td>0.414</td>\n",
       "    </tr>\n",
       "    <tr>\n",
       "      <th>3</th>\n",
       "      <td>0</td>\n",
       "      <td>TinkerVHELPK5</td>\n",
       "      <td>2016-07-21 13:32:25</td>\n",
       "      <td>13</td>\n",
       "      <td>0</td>\n",
       "      <td>Birmingham, AL</td>\n",
       "      <td>1</td>\n",
       "      <td>en</td>\n",
       "      <td>1</td>\n",
       "      <td>0</td>\n",
       "      <td>...</td>\n",
       "      <td>0.0</td>\n",
       "      <td>6.452</td>\n",
       "      <td>6.250</td>\n",
       "      <td>9.040</td>\n",
       "      <td>0.636</td>\n",
       "      <td>40.325</td>\n",
       "      <td>44.932</td>\n",
       "      <td>0.298</td>\n",
       "      <td>0.354</td>\n",
       "      <td>0.354</td>\n",
       "    </tr>\n",
       "    <tr>\n",
       "      <th>4</th>\n",
       "      <td>0</td>\n",
       "      <td>JoleonLescott</td>\n",
       "      <td>2012-01-15 16:32:35</td>\n",
       "      <td>16</td>\n",
       "      <td>1</td>\n",
       "      <td>England, United Kingdom</td>\n",
       "      <td>1</td>\n",
       "      <td>en</td>\n",
       "      <td>0</td>\n",
       "      <td>0</td>\n",
       "      <td>...</td>\n",
       "      <td>240.0</td>\n",
       "      <td>4.762</td>\n",
       "      <td>13.533</td>\n",
       "      <td>4.489</td>\n",
       "      <td>0.850</td>\n",
       "      <td>64.444</td>\n",
       "      <td>112.911</td>\n",
       "      <td>5.486</td>\n",
       "      <td>0.036</td>\n",
       "      <td>0.036</td>\n",
       "    </tr>\n",
       "  </tbody>\n",
       "</table>\n",
       "<p>5 rows × 28 columns</p>\n",
       "</div>"
      ],
      "text/plain": [
       "   bot      screen_name          created_at  hour_created  verified  \\\n",
       "0    1  best_in_dumbest 2016-10-15 21:32:11            21         0   \n",
       "1    0     CJRubinPhoto 2016-11-09 05:01:30             5         0   \n",
       "2    0         SVGEGENT 2017-06-17 05:34:27             5         0   \n",
       "3    0    TinkerVHELPK5 2016-07-21 13:32:25            13         0   \n",
       "4    0    JoleonLescott 2012-01-15 16:32:35            16         1   \n",
       "\n",
       "                  location  geo_enabled lang  default_profile  \\\n",
       "0                  unknown            0   en                0   \n",
       "1           Estados Unidos            0   en                0   \n",
       "2          Los Angeles, CA            1   en                0   \n",
       "3           Birmingham, AL            1   en                1   \n",
       "4  England, United Kingdom            1   en                0   \n",
       "\n",
       "   default_profile_image  ...  avg_daily_favorites  friends_log  \\\n",
       "0                      0  ...                  1.0        1.609   \n",
       "1                      0  ...                  1.0        6.781   \n",
       "2                      0  ...                  0.0        6.389   \n",
       "3                      0  ...                  0.0        6.452   \n",
       "4                      0  ...                240.0        4.762   \n",
       "\n",
       "   followers_log  favs_log  avg_daily_tweets_log  popularity  \\\n",
       "0          7.371     1.609                 2.183      11.860   \n",
       "1          6.758     6.286                 0.168      45.826   \n",
       "2          5.153     8.104                 0.623      32.923   \n",
       "3          6.250     9.040                 0.636      40.325   \n",
       "4         13.533     4.489                 0.850      64.444   \n",
       "\n",
       "   tweet_to_followers  follower_acq_rate  friends_acq_rate  favs_rate  \n",
       "0              68.625              0.757             0.003      0.003  \n",
       "1              37.395              0.485             0.494      0.494  \n",
       "2              35.608              0.138             0.414      0.414  \n",
       "3              44.932              0.298             0.354      0.354  \n",
       "4             112.911              5.486             0.036      0.036  \n",
       "\n",
       "[5 rows x 28 columns]"
      ]
     },
     "execution_count": 7,
     "metadata": {},
     "output_type": "execute_result"
    }
   ],
   "source": [
    "df.head()"
   ]
  },
  {
   "cell_type": "code",
   "execution_count": 8,
   "metadata": {
    "ExecuteTime": {
     "end_time": "2020-10-18T22:01:16.967189Z",
     "start_time": "2020-10-18T22:01:16.944739Z"
    }
   },
   "outputs": [
    {
     "name": "stdout",
     "output_type": "stream",
     "text": [
      "<class 'pandas.core.frame.DataFrame'>\n",
      "RangeIndex: 37438 entries, 0 to 37437\n",
      "Data columns (total 28 columns):\n",
      " #   Column                  Non-Null Count  Dtype         \n",
      "---  ------                  --------------  -----         \n",
      " 0   bot                     37438 non-null  int64         \n",
      " 1   screen_name             37438 non-null  object        \n",
      " 2   created_at              37438 non-null  datetime64[ns]\n",
      " 3   hour_created            37438 non-null  int64         \n",
      " 4   verified                37438 non-null  int64         \n",
      " 5   location                37435 non-null  object        \n",
      " 6   geo_enabled             37438 non-null  int64         \n",
      " 7   lang                    29481 non-null  object        \n",
      " 8   default_profile         37438 non-null  int64         \n",
      " 9   default_profile_image   37438 non-null  int64         \n",
      " 10  favourites_count        37438 non-null  int64         \n",
      " 11  followers_count         37438 non-null  int64         \n",
      " 12  friends_count           37438 non-null  int64         \n",
      " 13  statuses_count          37438 non-null  int64         \n",
      " 14  average_tweets_per_day  37438 non-null  float64       \n",
      " 15  account_age_days        37438 non-null  int64         \n",
      " 16  avg_daily_followers     37438 non-null  float64       \n",
      " 17  avg_daily_friends       37438 non-null  float64       \n",
      " 18  avg_daily_favorites     37438 non-null  float64       \n",
      " 19  friends_log             37438 non-null  float64       \n",
      " 20  followers_log           37438 non-null  float64       \n",
      " 21  favs_log                37438 non-null  float64       \n",
      " 22  avg_daily_tweets_log    37438 non-null  float64       \n",
      " 23  popularity              37438 non-null  float64       \n",
      " 24  tweet_to_followers      37438 non-null  float64       \n",
      " 25  follower_acq_rate       37438 non-null  float64       \n",
      " 26  friends_acq_rate        37438 non-null  float64       \n",
      " 27  favs_rate               37438 non-null  float64       \n",
      "dtypes: datetime64[ns](1), float64(13), int64(11), object(3)\n",
      "memory usage: 8.0+ MB\n"
     ]
    }
   ],
   "source": [
    "df.info()"
   ]
  },
  {
   "cell_type": "markdown",
   "metadata": {},
   "source": [
    "## Unbalanced data? "
   ]
  },
  {
   "cell_type": "code",
   "execution_count": 9,
   "metadata": {
    "ExecuteTime": {
     "end_time": "2020-10-18T22:01:16.979192Z",
     "start_time": "2020-10-18T22:01:16.968932Z"
    }
   },
   "outputs": [
    {
     "name": "stdout",
     "output_type": "stream",
     "text": [
      "Number of bots:  12425\n",
      "Number of humans:  25013\n",
      "Bots / Total %:  33.18820449810353\n"
     ]
    }
   ],
   "source": [
    "num_bots = len(df[df['bot'] == 1])\n",
    "num_humans = len(df[df['bot'] == 0])\n",
    "\n",
    "print(\"Number of bots: \", num_bots)\n",
    "print(\"Number of humans: \", num_humans)\n",
    "print(\"Bots / Total %: \", (num_bots / len(df)) * 100)"
   ]
  },
  {
   "cell_type": "code",
   "execution_count": 10,
   "metadata": {
    "ExecuteTime": {
     "end_time": "2020-10-18T22:01:16.982814Z",
     "start_time": "2020-10-18T22:01:16.980963Z"
    }
   },
   "outputs": [],
   "source": [
    "# humans_to_remove = num_humans - num_bots\n",
    "# humans_to_remove = 10000\n",
    "# humans_to_remove"
   ]
  },
  {
   "cell_type": "code",
   "execution_count": 11,
   "metadata": {
    "ExecuteTime": {
     "end_time": "2020-10-18T22:01:16.986211Z",
     "start_time": "2020-10-18T22:01:16.984375Z"
    }
   },
   "outputs": [],
   "source": [
    "# df = df.drop(df.query('bot == 0').sample(n=humans_to_remove).index)\n",
    "\n",
    "# num_bots = len(df[df['bot'] == 1])\n",
    "# num_humans = len(df[df['bot'] == 0])\n",
    "\n",
    "# print(\"Number of bots: \", num_bots)\n",
    "# print(\"Number of humans: \", num_humans)\n",
    "# print(\"Bots / Total %: \", (num_bots / len(df)) * 100)"
   ]
  },
  {
   "cell_type": "code",
   "execution_count": null,
   "metadata": {},
   "outputs": [],
   "source": []
  },
  {
   "cell_type": "code",
   "execution_count": null,
   "metadata": {},
   "outputs": [],
   "source": []
  },
  {
   "cell_type": "code",
   "execution_count": null,
   "metadata": {},
   "outputs": [],
   "source": []
  },
  {
   "cell_type": "markdown",
   "metadata": {},
   "source": [
    "## Feature selection & model setup"
   ]
  },
  {
   "cell_type": "code",
   "execution_count": 12,
   "metadata": {
    "ExecuteTime": {
     "end_time": "2020-10-18T22:01:16.991485Z",
     "start_time": "2020-10-18T22:01:16.987937Z"
    }
   },
   "outputs": [
    {
     "data": {
      "text/plain": [
       "Index(['bot', 'screen_name', 'created_at', 'hour_created', 'verified',\n",
       "       'location', 'geo_enabled', 'lang', 'default_profile',\n",
       "       'default_profile_image', 'favourites_count', 'followers_count',\n",
       "       'friends_count', 'statuses_count', 'average_tweets_per_day',\n",
       "       'account_age_days', 'avg_daily_followers', 'avg_daily_friends',\n",
       "       'avg_daily_favorites', 'friends_log', 'followers_log', 'favs_log',\n",
       "       'avg_daily_tweets_log', 'popularity', 'tweet_to_followers',\n",
       "       'follower_acq_rate', 'friends_acq_rate', 'favs_rate'],\n",
       "      dtype='object')"
      ]
     },
     "execution_count": 12,
     "metadata": {},
     "output_type": "execute_result"
    }
   ],
   "source": [
    "df.columns"
   ]
  },
  {
   "cell_type": "code",
   "execution_count": 13,
   "metadata": {
    "ExecuteTime": {
     "end_time": "2020-10-18T22:01:16.997396Z",
     "start_time": "2020-10-18T22:01:16.993283Z"
    }
   },
   "outputs": [],
   "source": [
    "features = ['verified', \n",
    "            #'created_at',\n",
    "            #'hour_created',\n",
    "            'geo_enabled', \n",
    "            'default_profile', \n",
    "            'default_profile_image', \n",
    "            'favourites_count', \n",
    "            'followers_count', \n",
    "            'friends_count', \n",
    "            'statuses_count', \n",
    "            #'average_tweets_per_day',\n",
    "            #'avg_daily_followers', \n",
    "            #'avg_daily_friends',\n",
    "            #'avg_daily_favorites',\n",
    "            'popularity', \n",
    "            'tweet_to_followers', \n",
    "            'follower_acq_rate', \n",
    "            'friends_acq_rate', \n",
    "            'favs_rate'\n",
    "           ]\n",
    "\n",
    "X = df[features]\n",
    "y = df['bot']"
   ]
  },
  {
   "cell_type": "code",
   "execution_count": 14,
   "metadata": {
    "ExecuteTime": {
     "end_time": "2020-10-18T22:01:17.008881Z",
     "start_time": "2020-10-18T22:01:16.998819Z"
    }
   },
   "outputs": [],
   "source": [
    "X, X_test, y, y_test = train_test_split(X, y, test_size=.3, random_state=1234)"
   ]
  },
  {
   "cell_type": "code",
   "execution_count": 15,
   "metadata": {
    "ExecuteTime": {
     "end_time": "2020-10-18T22:01:17.025812Z",
     "start_time": "2020-10-18T22:01:17.010563Z"
    }
   },
   "outputs": [],
   "source": [
    "scalar = StandardScaler()\n",
    "\n",
    "scalar.fit(X)\n",
    "\n",
    "X_train_scaled = scalar.transform(X)\n",
    "X_test_scaled = scalar.transform(X_test)"
   ]
  },
  {
   "cell_type": "markdown",
   "metadata": {},
   "source": [
    "### KNN"
   ]
  },
  {
   "cell_type": "code",
   "execution_count": 16,
   "metadata": {
    "ExecuteTime": {
     "end_time": "2020-10-18T22:01:25.012859Z",
     "start_time": "2020-10-18T22:01:17.028562Z"
    }
   },
   "outputs": [
    {
     "name": "stdout",
     "output_type": "stream",
     "text": [
      "RMSE Metric\n",
      "Optimal number of Neighbors: 8\n",
      "Root Mean Squared Error: 0.39\n",
      "\n",
      "Accuracy Metric\n",
      "Optimal number of Neighbors: 8\n",
      "Accuracy Score: 0.85\n"
     ]
    }
   ],
   "source": [
    "ks = range(1, 30)\n",
    "\n",
    "X_train_scaled, X_val_scaled, y_train, y_val = train_test_split(X, y, test_size=.3, random_state=4)\n",
    "\n",
    "test_errors = np.zeros(len(list(ks)))\n",
    "acc_scores = np.zeros(len(list(ks)))\n",
    "\n",
    "for i, k in enumerate(ks):\n",
    "    \n",
    "    nn = KNeighborsClassifier(n_neighbors=k)\n",
    "\n",
    "    nn.fit(X_train_scaled, y_train)\n",
    "    test_preds = nn.predict(X_val_scaled)\n",
    "    \n",
    "    test_errors[i] = np.sqrt(mean_squared_error(y_val, test_preds))\n",
    "    acc_scores[i] = accuracy_score(y_val, test_preds)\n",
    "    \n",
    "\n",
    "optimal_k_r2 = list(ks)[np.argmin(test_errors)]\n",
    "optimal_error = np.min(test_errors)\n",
    "\n",
    "optimal_k_acc = list(ks)[np.argmax(acc_scores)]\n",
    "optimal_acc = np.max(acc_scores)\n",
    "\n",
    "print(\"RMSE Metric\")\n",
    "print(f'Optimal number of Neighbors: {optimal_k_r2}\\nRoot Mean Squared Error: {optimal_error:.2f}')\n",
    "print('\\nAccuracy Metric')\n",
    "print(f'Optimal number of Neighbors: {optimal_k_acc}\\nAccuracy Score: {optimal_acc:.2f}')    "
   ]
  },
  {
   "cell_type": "code",
   "execution_count": 17,
   "metadata": {
    "ExecuteTime": {
     "end_time": "2020-10-18T22:01:25.293618Z",
     "start_time": "2020-10-18T22:01:25.014442Z"
    }
   },
   "outputs": [
    {
     "data": {
      "image/png": "[encoded data removed]",
      "text/plain": [
       "<Figure size 1008x432 with 2 Axes>"
      ]
     },
     "metadata": {
      "needs_background": "light"
     },
     "output_type": "display_data"
    }
   ],
   "source": [
    "plt.figure(figsize=(14, 6))\n",
    "plt.suptitle('Optimal K Search', fontsize=16)\n",
    "\n",
    "# Optimal RMSE\n",
    "plt.subplot(1, 2, 1)\n",
    "\n",
    "plt.title('Optimal K by RMSE Score: {}'.format(optimal_k_r2))\n",
    "plt.plot(list(ks), test_errors, color='red')\n",
    "plt.axvline(list(ks)[np.argmin(test_errors)], linestyle='--', color='black')\n",
    "\n",
    "# Optimal accuracy score\n",
    "plt.subplot(1, 2, 2)\n",
    "\n",
    "plt.title('Optimal K by Accuracy Score: {}'.format(optimal_k_acc))\n",
    "plt.plot(list(ks), acc_scores, color='blue')\n",
    "plt.axvline(list(ks)[np.argmax(acc_scores)], linestyle='--', color='black');"
   ]
  },
  {
   "cell_type": "code",
   "execution_count": 18,
   "metadata": {
    "ExecuteTime": {
     "end_time": "2020-10-18T22:01:25.303072Z",
     "start_time": "2020-10-18T22:01:25.301254Z"
    }
   },
   "outputs": [],
   "source": [
    "#optimal_k = 8"
   ]
  },
  {
   "cell_type": "code",
   "execution_count": 19,
   "metadata": {
    "ExecuteTime": {
     "end_time": "2020-10-18T22:01:25.325742Z",
     "start_time": "2020-10-18T22:01:25.307120Z"
    }
   },
   "outputs": [],
   "source": [
    "# Resetting train/test split\n",
    "X, X_test, y, y_test = train_test_split(X, y, test_size=.3, random_state=1234)\n",
    "\n",
    "# Scaling\n",
    "scalar = StandardScaler()\n",
    "scalar.fit(X)\n",
    "X_train_scaled = scalar.transform(X)\n",
    "X_test_scaled = scalar.transform(X_test)"
   ]
  },
  {
   "cell_type": "code",
   "execution_count": 20,
   "metadata": {
    "ExecuteTime": {
     "end_time": "2020-10-18T22:01:26.519044Z",
     "start_time": "2020-10-18T22:01:25.328075Z"
    }
   },
   "outputs": [
    {
     "name": "stdout",
     "output_type": "stream",
     "text": [
      "CV Scores:  [0.83630417 0.82927228 0.82630029]\n",
      "Mean Score:  0.8306255819184741\n"
     ]
    }
   ],
   "source": [
    "knn = KNeighborsClassifier(n_neighbors=8, n_jobs=-1)\n",
    "\n",
    "cv_scores = cross_val_score(knn, X_train_scaled, y, cv=3)\n",
    "\n",
    "print(\"CV Scores: \", cv_scores)\n",
    "print(\"Mean Score: \", cv_scores.mean())"
   ]
  },
  {
   "cell_type": "code",
   "execution_count": 21,
   "metadata": {
    "ExecuteTime": {
     "end_time": "2020-10-18T22:02:09.332577Z",
     "start_time": "2020-10-18T22:01:26.520297Z"
    }
   },
   "outputs": [
    {
     "data": {
      "image/png": "[encoded data removed]",
      "text/plain": [
       "<Figure size 720x432 with 1 Axes>"
      ]
     },
     "metadata": {
      "needs_background": "light"
     },
     "output_type": "display_data"
    }
   ],
   "source": [
    "# Create CV training and test scores for various training set sizes\n",
    "train_sizes, train_scores, test_scores = learning_curve(knn, \n",
    "                                                        X_train_scaled, \n",
    "                                                        y,\n",
    "                                                        # Number of folds in cross-validation\n",
    "                                                        cv=3,\n",
    "                                                        # Evaluation metric\n",
    "                                                        scoring='accuracy',\n",
    "                                                        # 50 different sizes of the training set\n",
    "                                                        train_sizes=np.linspace(.1, 1.0, 20))\n",
    "\n",
    "# Create means and standard deviations of training set scores\n",
    "train_mean = np.mean(train_scores, axis=1)\n",
    "train_std = np.std(train_scores, axis=1)\n",
    "\n",
    "# Create means and standard deviations of test set scores\n",
    "test_mean = np.mean(test_scores, axis=1)\n",
    "test_std = np.std(test_scores, axis=1)\n",
    "\n",
    "plt.figure(figsize=(10, 6))\n",
    "\n",
    "# Draw lines\n",
    "plt.plot(train_sizes, train_mean, '--', color=\"#111111\",  label=\"Training score\")\n",
    "plt.plot(train_sizes, test_mean, color=\"#111111\", label=\"CV test score\")\n",
    "\n",
    "# Draw bands\n",
    "plt.fill_between(train_sizes, train_mean - train_std, train_mean + train_std, color=\"#DDDDDD\")\n",
    "plt.fill_between(train_sizes, test_mean - test_std, test_mean + test_std, color=\"#DDDDDD\")\n",
    "\n",
    "# Create plot\n",
    "plt.title(\"Learning Curve: Logistic Regression\")\n",
    "plt.xlabel(\"Training Set Size\"), plt.ylabel(\"Accuracy Score\"), plt.legend(loc=\"best\")\n",
    "plt.tight_layout();"
   ]
  },
  {
   "cell_type": "markdown",
   "metadata": {},
   "source": [
    "Looks like some overfitting? "
   ]
  },
  {
   "cell_type": "code",
   "execution_count": 22,
   "metadata": {
    "ExecuteTime": {
     "end_time": "2020-10-18T22:02:09.340841Z",
     "start_time": "2020-10-18T22:02:09.334350Z"
    }
   },
   "outputs": [],
   "source": [
    "X_train_scaled, X_val_scaled, y_train, y_val = train_test_split(X, y, test_size=.3, random_state=4)"
   ]
  },
  {
   "cell_type": "code",
   "execution_count": 23,
   "metadata": {
    "ExecuteTime": {
     "end_time": "2020-10-18T22:02:09.584714Z",
     "start_time": "2020-10-18T22:02:09.342673Z"
    }
   },
   "outputs": [
    {
     "name": "stdout",
     "output_type": "stream",
     "text": [
      "Accuracy: 0.8383\n",
      "Precision: 0.8292\n",
      "Recall: 0.6670\n",
      "F1 Score: 0.7393\n",
      "\n",
      "              precision    recall  f1-score   support\n",
      "\n",
      "           0       0.84      0.93      0.88      3612\n",
      "           1       0.83      0.67      0.74      1892\n",
      "\n",
      "    accuracy                           0.84      5504\n",
      "   macro avg       0.84      0.80      0.81      5504\n",
      "weighted avg       0.84      0.84      0.83      5504\n",
      "\n"
     ]
    }
   ],
   "source": [
    "knn = KNeighborsClassifier(n_neighbors=8)\n",
    "knn.fit(X_train_scaled, y_train)\n",
    "pred = knn.predict(X_val_scaled)\n",
    "\n",
    "print('Accuracy: {:.4f}'.format(accuracy_score(y_val, pred)))\n",
    "print('Precision: {:.4f}'.format(precision_score(y_val, pred)))\n",
    "print('Recall: {:.4f}'.format(recall_score(y_val, pred)))\n",
    "print('F1 Score: {:.4f}'.format(f1_score(y_val, pred)))\n",
    "\n",
    "print(\"\")\n",
    "print(classification_report(y_val, pred))"
   ]
  },
  {
   "cell_type": "code",
   "execution_count": 24,
   "metadata": {
    "ExecuteTime": {
     "end_time": "2020-10-18T22:02:09.808489Z",
     "start_time": "2020-10-18T22:02:09.586015Z"
    }
   },
   "outputs": [
    {
     "name": "stdout",
     "output_type": "stream",
     "text": [
      "ROC AUC score =  0.8853991803221116\n"
     ]
    },
    {
     "data": {
      "image/png": "[encoded data removed]",
      "text/plain": [
       "<Figure size 432x288 with 1 Axes>"
      ]
     },
     "metadata": {
      "needs_background": "light"
     },
     "output_type": "display_data"
    }
   ],
   "source": [
    "fpr, tpr, thresholds = roc_curve(y_val, knn.predict_proba(X_val_scaled)[:,1])\n",
    "\n",
    "plt.plot(fpr, tpr,lw=2)\n",
    "plt.plot([0,1],[0,1],c='violet',ls='--')\n",
    "plt.xlim([-0.05,1.05])\n",
    "plt.ylim([-0.05,1.05])\n",
    "\n",
    "plt.xlabel('False positive rate')\n",
    "plt.ylabel('True positive rate')\n",
    "plt.title('ROC curve for Politics Problem');\n",
    "print(\"ROC AUC score = \", roc_auc_score(y_val, knn.predict_proba(X_val_scaled)[:,1]))"
   ]
  },
  {
   "cell_type": "code",
   "execution_count": null,
   "metadata": {},
   "outputs": [],
   "source": []
  },
  {
   "cell_type": "code",
   "execution_count": null,
   "metadata": {},
   "outputs": [],
   "source": []
  },
  {
   "cell_type": "markdown",
   "metadata": {},
   "source": [
    "### Logistic Regression"
   ]
  },
  {
   "cell_type": "code",
   "execution_count": 25,
   "metadata": {
    "ExecuteTime": {
     "end_time": "2020-10-18T22:02:09.892039Z",
     "start_time": "2020-10-18T22:02:09.809669Z"
    }
   },
   "outputs": [
    {
     "name": "stdout",
     "output_type": "stream",
     "text": [
      "Accuracy: 0.6573\n",
      "Precision: 0.5126\n",
      "Recall: 0.0645\n",
      "F1 Score: 0.1146\n",
      "\n",
      "              precision    recall  f1-score   support\n",
      "\n",
      "           0       0.66      0.97      0.79      3612\n",
      "           1       0.51      0.06      0.11      1892\n",
      "\n",
      "    accuracy                           0.66      5504\n",
      "   macro avg       0.59      0.52      0.45      5504\n",
      "weighted avg       0.61      0.66      0.56      5504\n",
      "\n"
     ]
    }
   ],
   "source": [
    "lr = LogisticRegression()\n",
    "lr.fit(X_train_scaled, y_train)\n",
    "\n",
    "pred = lr.predict(X_val_scaled)\n",
    "\n",
    "print('Accuracy: {:.4f}'.format(accuracy_score(y_val, pred)))\n",
    "print('Precision: {:.4f}'.format(precision_score(y_val, pred)))\n",
    "print('Recall: {:.4f}'.format(recall_score(y_val, pred)))\n",
    "print('F1 Score: {:.4f}'.format(f1_score(y_val, pred)))\n",
    "\n",
    "print(\"\")\n",
    "print(classification_report(y_val, pred))"
   ]
  },
  {
   "cell_type": "code",
   "execution_count": 26,
   "metadata": {
    "ExecuteTime": {
     "end_time": "2020-10-18T22:02:10.086899Z",
     "start_time": "2020-10-18T22:02:09.893735Z"
    }
   },
   "outputs": [
    {
     "name": "stdout",
     "output_type": "stream",
     "text": [
      "ROC AUC score =  0.83236895045643\n"
     ]
    },
    {
     "data": {
      "image/png": "[encoded data removed]",
      "text/plain": [
       "<Figure size 432x288 with 1 Axes>"
      ]
     },
     "metadata": {
      "needs_background": "light"
     },
     "output_type": "display_data"
    }
   ],
   "source": [
    "fpr, tpr, thresholds = roc_curve(y_val, lr.predict_proba(X_val_scaled)[:,1])\n",
    "\n",
    "plt.plot(fpr, tpr,lw=2)\n",
    "plt.plot([0,1],[0,1],c='violet',ls='--')\n",
    "plt.xlim([-0.05,1.05])\n",
    "plt.ylim([-0.05,1.05])\n",
    "\n",
    "plt.xlabel('False positive rate')\n",
    "plt.ylabel('True positive rate')\n",
    "plt.title('ROC curve');\n",
    "print(\"ROC AUC score = \", roc_auc_score(y_val, lr.predict_proba(X_val_scaled)[:,1]))"
   ]
  },
  {
   "cell_type": "code",
   "execution_count": null,
   "metadata": {},
   "outputs": [],
   "source": []
  },
  {
   "cell_type": "code",
   "execution_count": null,
   "metadata": {},
   "outputs": [],
   "source": []
  },
  {
   "cell_type": "code",
   "execution_count": null,
   "metadata": {},
   "outputs": [],
   "source": []
  },
  {
   "cell_type": "markdown",
   "metadata": {},
   "source": [
    "### GaussianNB"
   ]
  },
  {
   "cell_type": "code",
   "execution_count": 27,
   "metadata": {
    "ExecuteTime": {
     "end_time": "2020-10-18T22:02:10.119192Z",
     "start_time": "2020-10-18T22:02:10.088538Z"
    }
   },
   "outputs": [
    {
     "name": "stdout",
     "output_type": "stream",
     "text": [
      "Accuracy: 0.5331\n",
      "Precision: 0.4216\n",
      "Recall: 0.9635\n",
      "F1 Score: 0.5866\n",
      "\n",
      "              precision    recall  f1-score   support\n",
      "\n",
      "           0       0.94      0.31      0.46      3612\n",
      "           1       0.42      0.96      0.59      1892\n",
      "\n",
      "    accuracy                           0.53      5504\n",
      "   macro avg       0.68      0.64      0.53      5504\n",
      "weighted avg       0.76      0.53      0.51      5504\n",
      "\n"
     ]
    }
   ],
   "source": [
    "gnb = GaussianNB()\n",
    "gnb.fit(X_train_scaled, y_train)\n",
    "\n",
    "pred = gnb.predict(X_val_scaled)\n",
    "\n",
    "print('Accuracy: {:.4f}'.format(accuracy_score(y_val, pred)))\n",
    "print('Precision: {:.4f}'.format(precision_score(y_val, pred)))\n",
    "print('Recall: {:.4f}'.format(recall_score(y_val, pred)))\n",
    "print('F1 Score: {:.4f}'.format(f1_score(y_val, pred)))\n",
    "\n",
    "print(\"\")\n",
    "print(classification_report(y_val, pred))"
   ]
  },
  {
   "cell_type": "code",
   "execution_count": 28,
   "metadata": {
    "ExecuteTime": {
     "end_time": "2020-10-18T22:02:10.250459Z",
     "start_time": "2020-10-18T22:02:10.120977Z"
    }
   },
   "outputs": [
    {
     "name": "stdout",
     "output_type": "stream",
     "text": [
      "ROC AUC score =  0.8163508003624282\n"
     ]
    },
    {
     "data": {
      "image/png": "[encoded data removed]",
      "text/plain": [
       "<Figure size 432x288 with 1 Axes>"
      ]
     },
     "metadata": {
      "needs_background": "light"
     },
     "output_type": "display_data"
    }
   ],
   "source": [
    "fpr, tpr, thresholds = roc_curve(y_val, gnb.predict_proba(X_val_scaled)[:,1])\n",
    "\n",
    "plt.plot(fpr, tpr,lw=2)\n",
    "plt.plot([0,1],[0,1],c='violet',ls='--')\n",
    "plt.xlim([-0.05,1.05])\n",
    "plt.ylim([-0.05,1.05])\n",
    "\n",
    "plt.xlabel('False positive rate')\n",
    "plt.ylabel('True positive rate')\n",
    "plt.title('ROC curve');\n",
    "print(\"ROC AUC score = \", roc_auc_score(y_val, gnb.predict_proba(X_val_scaled)[:,1]))"
   ]
  },
  {
   "cell_type": "markdown",
   "metadata": {},
   "source": [
    "### Support Vector Classification"
   ]
  },
  {
   "cell_type": "code",
   "execution_count": 29,
   "metadata": {
    "ExecuteTime": {
     "end_time": "2020-10-18T22:02:35.714133Z",
     "start_time": "2020-10-18T22:02:10.251977Z"
    }
   },
   "outputs": [
    {
     "name": "stdout",
     "output_type": "stream",
     "text": [
      "Accuracy: 0.6564\n",
      "Precision: 1.0000\n",
      "Recall: 0.0005\n",
      "F1 Score: 0.0011\n",
      "\n",
      "              precision    recall  f1-score   support\n",
      "\n",
      "           0       0.66      1.00      0.79      3612\n",
      "           1       1.00      0.00      0.00      1892\n",
      "\n",
      "    accuracy                           0.66      5504\n",
      "   macro avg       0.83      0.50      0.40      5504\n",
      "weighted avg       0.77      0.66      0.52      5504\n",
      "\n"
     ]
    }
   ],
   "source": [
    "svc = SVC(probability=True)\n",
    "svc.fit(X_train_scaled, y_train)\n",
    "\n",
    "pred = svc.predict(X_val_scaled)\n",
    "\n",
    "print('Accuracy: {:.4f}'.format(accuracy_score(y_val, pred)))\n",
    "print('Precision: {:.4f}'.format(precision_score(y_val, pred)))\n",
    "print('Recall: {:.4f}'.format(recall_score(y_val, pred)))\n",
    "print('F1 Score: {:.4f}'.format(f1_score(y_val, pred)))\n",
    "\n",
    "print(\"\")\n",
    "print(classification_report(y_val, pred))"
   ]
  },
  {
   "cell_type": "code",
   "execution_count": 30,
   "metadata": {
    "ExecuteTime": {
     "end_time": "2020-10-18T22:02:37.567636Z",
     "start_time": "2020-10-18T22:02:35.715657Z"
    }
   },
   "outputs": [
    {
     "name": "stdout",
     "output_type": "stream",
     "text": [
      "ROC AUC score =  0.7840678622351148\n"
     ]
    },
    {
     "data": {
      "image/png": "[encoded data removed]",
      "text/plain": [
       "<Figure size 432x288 with 1 Axes>"
      ]
     },
     "metadata": {
      "needs_background": "light"
     },
     "output_type": "display_data"
    }
   ],
   "source": [
    "fpr, tpr, thresholds = roc_curve(y_val, svc.predict_proba(X_val_scaled)[:,1])\n",
    "\n",
    "plt.plot(fpr, tpr,lw=2)\n",
    "plt.plot([0,1],[0,1],c='violet',ls='--')\n",
    "plt.xlim([-0.05,1.05])\n",
    "plt.ylim([-0.05,1.05])\n",
    "\n",
    "plt.xlabel('False positive rate')\n",
    "plt.ylabel('True positive rate')\n",
    "plt.title('ROC curve');\n",
    "print(\"ROC AUC score = \", roc_auc_score(y_val, svc.predict_proba(X_val_scaled)[:,1]))"
   ]
  },
  {
   "cell_type": "markdown",
   "metadata": {},
   "source": [
    "### DecisionTree"
   ]
  },
  {
   "cell_type": "code",
   "execution_count": 31,
   "metadata": {
    "ExecuteTime": {
     "end_time": "2020-10-18T22:02:37.713429Z",
     "start_time": "2020-10-18T22:02:37.568983Z"
    }
   },
   "outputs": [
    {
     "name": "stdout",
     "output_type": "stream",
     "text": [
      "Accuracy: 0.8118\n",
      "Precision: 0.7211\n",
      "Recall: 0.7378\n",
      "F1 Score: 0.7294\n",
      "\n",
      "              precision    recall  f1-score   support\n",
      "\n",
      "           0       0.86      0.85      0.86      3612\n",
      "           1       0.72      0.74      0.73      1892\n",
      "\n",
      "    accuracy                           0.81      5504\n",
      "   macro avg       0.79      0.79      0.79      5504\n",
      "weighted avg       0.81      0.81      0.81      5504\n",
      "\n"
     ]
    }
   ],
   "source": [
    "tree = DecisionTreeClassifier()\n",
    "tree.fit(X_train_scaled, y_train)\n",
    "\n",
    "pred = tree.predict(X_val_scaled)\n",
    "\n",
    "print('Accuracy: {:.4f}'.format(accuracy_score(y_val, pred)))\n",
    "print('Precision: {:.4f}'.format(precision_score(y_val, pred)))\n",
    "print('Recall: {:.4f}'.format(recall_score(y_val, pred)))\n",
    "print('F1 Score: {:.4f}'.format(f1_score(y_val, pred)))\n",
    "\n",
    "print(\"\")\n",
    "print(classification_report(y_val, pred))"
   ]
  },
  {
   "cell_type": "code",
   "execution_count": 32,
   "metadata": {
    "ExecuteTime": {
     "end_time": "2020-10-18T22:02:37.858633Z",
     "start_time": "2020-10-18T22:02:37.715172Z"
    }
   },
   "outputs": [
    {
     "name": "stdout",
     "output_type": "stream",
     "text": [
      "ROC AUC score =  0.7943594173988981\n"
     ]
    },
    {
     "data": {
      "image/png": "[encoded data removed]",
      "text/plain": [
       "<Figure size 432x288 with 1 Axes>"
      ]
     },
     "metadata": {
      "needs_background": "light"
     },
     "output_type": "display_data"
    }
   ],
   "source": [
    "fpr, tpr, thresholds = roc_curve(y_val, tree.predict_proba(X_val_scaled)[:,1])\n",
    "\n",
    "plt.plot(fpr, tpr,lw=2)\n",
    "plt.plot([0,1],[0,1],c='violet',ls='--')\n",
    "plt.xlim([-0.05,1.05])\n",
    "plt.ylim([-0.05,1.05])\n",
    "\n",
    "plt.xlabel('False positive rate')\n",
    "plt.ylabel('True positive rate')\n",
    "plt.title('ROC curve');\n",
    "print(\"ROC AUC score = \", roc_auc_score(y_val, tree.predict_proba(X_val_scaled)[:,1]))"
   ]
  },
  {
   "cell_type": "markdown",
   "metadata": {},
   "source": [
    "### RandomForest"
   ]
  },
  {
   "cell_type": "code",
   "execution_count": 33,
   "metadata": {
    "ExecuteTime": {
     "end_time": "2020-10-18T22:02:39.947463Z",
     "start_time": "2020-10-18T22:02:37.860208Z"
    }
   },
   "outputs": [
    {
     "name": "stdout",
     "output_type": "stream",
     "text": [
      "Accuracy: 0.8670\n",
      "Precision: 0.8598\n",
      "Recall: 0.7326\n",
      "F1 Score: 0.7911\n",
      "\n",
      "              precision    recall  f1-score   support\n",
      "\n",
      "           0       0.87      0.94      0.90      3612\n",
      "           1       0.86      0.73      0.79      1892\n",
      "\n",
      "    accuracy                           0.87      5504\n",
      "   macro avg       0.86      0.83      0.85      5504\n",
      "weighted avg       0.87      0.87      0.86      5504\n",
      "\n"
     ]
    }
   ],
   "source": [
    "forest = RandomForestClassifier()\n",
    "forest.fit(X_train_scaled, y_train)\n",
    "\n",
    "pred = forest.predict(X_val_scaled)\n",
    "\n",
    "print('Accuracy: {:.4f}'.format(accuracy_score(y_val, pred)))\n",
    "print('Precision: {:.4f}'.format(precision_score(y_val, pred)))\n",
    "print('Recall: {:.4f}'.format(recall_score(y_val, pred)))\n",
    "print('F1 Score: {:.4f}'.format(f1_score(y_val, pred)))\n",
    "\n",
    "print(\"\")\n",
    "print(classification_report(y_val, pred))"
   ]
  },
  {
   "cell_type": "code",
   "execution_count": 34,
   "metadata": {
    "ExecuteTime": {
     "end_time": "2020-10-18T22:02:40.275396Z",
     "start_time": "2020-10-18T22:02:39.949437Z"
    }
   },
   "outputs": [
    {
     "name": "stdout",
     "output_type": "stream",
     "text": [
      "ROC AUC score =  0.9201126471779528\n"
     ]
    },
    {
     "data": {
      "image/png": "[encoded data removed]",
      "text/plain": [
       "<Figure size 432x288 with 1 Axes>"
      ]
     },
     "metadata": {
      "needs_background": "light"
     },
     "output_type": "display_data"
    }
   ],
   "source": [
    "fpr, tpr, thresholds = roc_curve(y_val, forest.predict_proba(X_val_scaled)[:,1])\n",
    "\n",
    "plt.plot(fpr, tpr,lw=2)\n",
    "plt.plot([0,1],[0,1],c='violet',ls='--')\n",
    "plt.xlim([-0.05,1.05])\n",
    "plt.ylim([-0.05,1.05])\n",
    "\n",
    "plt.xlabel('False positive rate')\n",
    "plt.ylabel('True positive rate')\n",
    "plt.title('ROC curve');\n",
    "print(\"ROC AUC score = \", roc_auc_score(y_val, forest.predict_proba(X_val_scaled)[:,1]))"
   ]
  },
  {
   "cell_type": "code",
   "execution_count": 35,
   "metadata": {
    "ExecuteTime": {
     "end_time": "2020-10-18T22:02:40.308419Z",
     "start_time": "2020-10-18T22:02:40.277064Z"
    }
   },
   "outputs": [],
   "source": [
    "df2 = df.copy()\n",
    "\n",
    "X = df2[features]\n",
    "y = df2['bot']\n",
    "\n",
    "\n",
    "# Resetting train/test split\n",
    "X, X_test, y, y_test = train_test_split(X, y, test_size=.3, random_state=37)\n",
    "\n",
    "# Scaling\n",
    "scalar = StandardScaler()\n",
    "scalar.fit(X)\n",
    "\n",
    "X_train_scaled = scalar.transform(X)\n",
    "X_test_scaled = scalar.transform(X_test)"
   ]
  },
  {
   "cell_type": "code",
   "execution_count": 36,
   "metadata": {
    "ExecuteTime": {
     "end_time": "2020-10-18T22:03:11.124521Z",
     "start_time": "2020-10-18T22:02:40.310708Z"
    }
   },
   "outputs": [
    {
     "name": "stdout",
     "output_type": "stream",
     "text": [
      "Accuracy: 0.8679\n",
      "Precision 0.8477\n",
      "Recall 0.7386\n",
      "F1 Score 0.7855\n"
     ]
    }
   ],
   "source": [
    "acc = cross_val_score(forest, X_train_scaled, y, cv=3, scoring='accuracy').mean()\n",
    "prec = cross_val_score(forest, X_train_scaled, y, cv=3, scoring='precision').mean()\n",
    "rec = cross_val_score(forest, X_train_scaled, y, cv=3, scoring='recall').mean()\n",
    "f1 = cross_val_score(forest, X_train_scaled, y, cv=3, scoring='f1').mean()\n",
    "\n",
    "print('Accuracy: {:.4f}'.format(acc))\n",
    "print('Precision {:.4f}'.format(prec))\n",
    "print('Recall {:.4f}'.format(rec))\n",
    "print('F1 Score {:.4f}'.format(f1))"
   ]
  },
  {
   "cell_type": "code",
   "execution_count": 37,
   "metadata": {
    "ExecuteTime": {
     "end_time": "2020-10-18T22:03:11.131639Z",
     "start_time": "2020-10-18T22:03:11.125741Z"
    }
   },
   "outputs": [],
   "source": [
    "X_train_scaled, X_val_scaled, y_train, y_val = train_test_split(X_train_scaled, y, test_size=.3, random_state=42)"
   ]
  },
  {
   "cell_type": "code",
   "execution_count": null,
   "metadata": {},
   "outputs": [],
   "source": []
  },
  {
   "cell_type": "code",
   "execution_count": 38,
   "metadata": {
    "ExecuteTime": {
     "end_time": "2020-10-18T22:03:13.883931Z",
     "start_time": "2020-10-18T22:03:11.133108Z"
    }
   },
   "outputs": [],
   "source": [
    "forest = RandomForestClassifier()\n",
    "forest.fit(X_train_scaled, y_train)\n",
    "\n",
    "forest_pred = forest.predict(X_val_scaled)"
   ]
  },
  {
   "cell_type": "code",
   "execution_count": 39,
   "metadata": {
    "ExecuteTime": {
     "end_time": "2020-10-18T22:03:13.898352Z",
     "start_time": "2020-10-18T22:03:13.885444Z"
    }
   },
   "outputs": [
    {
     "name": "stdout",
     "output_type": "stream",
     "text": [
      "              precision    recall  f1-score   support\n",
      "\n",
      "           0       0.88      0.93      0.90      5253\n",
      "           1       0.84      0.74      0.79      2609\n",
      "\n",
      "    accuracy                           0.87      7862\n",
      "   macro avg       0.86      0.83      0.85      7862\n",
      "weighted avg       0.87      0.87      0.87      7862\n",
      "\n"
     ]
    }
   ],
   "source": [
    "print(classification_report(y_val, forest_pred))"
   ]
  },
  {
   "cell_type": "code",
   "execution_count": 40,
   "metadata": {
    "ExecuteTime": {
     "end_time": "2020-10-18T22:03:13.909903Z",
     "start_time": "2020-10-18T22:03:13.900277Z"
    }
   },
   "outputs": [
    {
     "data": {
      "text/plain": [
       "array([[4897,  356],\n",
       "       [ 685, 1924]])"
      ]
     },
     "execution_count": 40,
     "metadata": {},
     "output_type": "execute_result"
    }
   ],
   "source": [
    "forest_cm = confusion_matrix(y_val, forest_pred)\n",
    "forest_cm"
   ]
  },
  {
   "cell_type": "code",
   "execution_count": 41,
   "metadata": {
    "ExecuteTime": {
     "end_time": "2020-10-18T22:03:14.103853Z",
     "start_time": "2020-10-18T22:03:13.911319Z"
    }
   },
   "outputs": [
    {
     "data": {
      "image/png": "[encoded data removed]",
      "text/plain": [
       "<Figure size 576x432 with 2 Axes>"
      ]
     },
     "metadata": {
      "needs_background": "light"
     },
     "output_type": "display_data"
    }
   ],
   "source": [
    "model = 'Random Forest'\n",
    "\n",
    "plot_cm(forest_cm, normalize=False, target_names=['human', 'bot'], title='Confusion Matrix: {}'.format(model))"
   ]
  },
  {
   "cell_type": "code",
   "execution_count": 42,
   "metadata": {
    "ExecuteTime": {
     "end_time": "2020-10-18T22:03:14.513934Z",
     "start_time": "2020-10-18T22:03:14.105498Z"
    }
   },
   "outputs": [
    {
     "name": "stdout",
     "output_type": "stream",
     "text": [
      "Training score: 0.999891\n",
      "Validation score: 0.867591\n"
     ]
    }
   ],
   "source": [
    "print(\"Training score: {:.6f}\".format(forest.score(X_train_scaled, y_train)))\n",
    "print(\"Validation score: {:.6f}\".format(forest.score(X_val_scaled, y_val)))"
   ]
  },
  {
   "cell_type": "code",
   "execution_count": null,
   "metadata": {},
   "outputs": [],
   "source": []
  },
  {
   "cell_type": "code",
   "execution_count": null,
   "metadata": {},
   "outputs": [],
   "source": []
  },
  {
   "cell_type": "code",
   "execution_count": null,
   "metadata": {},
   "outputs": [],
   "source": []
  },
  {
   "cell_type": "code",
   "execution_count": null,
   "metadata": {},
   "outputs": [],
   "source": []
  },
  {
   "cell_type": "markdown",
   "metadata": {},
   "source": [
    "### XGBoost?"
   ]
  },
  {
   "cell_type": "code",
   "execution_count": null,
   "metadata": {},
   "outputs": [],
   "source": []
  },
  {
   "cell_type": "code",
   "execution_count": null,
   "metadata": {},
   "outputs": [],
   "source": []
  }
 ],
 "metadata": {
  "kernelspec": {
   "display_name": "Python [conda env:metis] *",
   "language": "python",
   "name": "conda-env-metis-py"
  },
  "language_info": {
   "codemirror_mode": {
    "name": "ipython",
    "version": 3
   },
   "file_extension": ".py",
   "mimetype": "text/x-python",
   "name": "python",
   "nbconvert_exporter": "python",
   "pygments_lexer": "ipython3",
   "version": "3.8.5"
  },
  "toc": {
   "base_numbering": 1,
   "nav_menu": {},
   "number_sections": true,
   "sideBar": true,
   "skip_h1_title": false,
   "title_cell": "Table of Contents",
   "title_sidebar": "Contents",
   "toc_cell": false,
   "toc_position": {},
   "toc_section_display": true,
   "toc_window_display": true
  },
  "varInspector": {
   "cols": {
    "lenName": 16,
    "lenType": 16,
    "lenVar": 40
   },
   "kernels_config": {
    "python": {
     "delete_cmd_postfix": "",
     "delete_cmd_prefix": "del ",
     "library": "var_list.py",
     "varRefreshCmd": "print(var_dic_list())"
    },
    "r": {
     "delete_cmd_postfix": ") ",
     "delete_cmd_prefix": "rm(",
     "library": "var_list.r",
     "varRefreshCmd": "cat(var_dic_list()) "
    }
   },
   "types_to_exclude": [
    "module",
    "function",
    "builtin_function_or_method",
    "instance",
    "_Feature"
   ],
   "window_display": false
  }
 },
 "nbformat": 4,
 "nbformat_minor": 4
}
